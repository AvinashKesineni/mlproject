{
  "nbformat": 4,
  "nbformat_minor": 0,
  "metadata": {
    "colab": {
      "name": "Machine_Learning_Proj_Final.ipynb",
      "provenance": [],
      "collapsed_sections": []
    },
    "kernelspec": {
      "display_name": "Python 3",
      "name": "python3"
    },
    "language_info": {
      "name": "python"
    }
  },
  "cells": [
    {
      "cell_type": "code",
      "metadata": {
        "colab": {
          "base_uri": "https://localhost:8080/"
        },
        "id": "mcI44TeXsQqG",
        "outputId": "889ff667-d568-4c7f-9745-fcc74dcdcd3c"
      },
      "source": [
        "from google.colab import drive\n",
        "drive.mount('/content/drive')"
      ],
      "execution_count": null,
      "outputs": [
        {
          "output_type": "stream",
          "name": "stdout",
          "text": [
            "Go to this URL in a browser: https://accounts.google.com/o/oauth2/auth?client_id=947318989803-6bn6qk8qdgf4n4g3pfee6491hc0brc4i.apps.googleusercontent.com&redirect_uri=urn%3aietf%3awg%3aoauth%3a2.0%3aoob&scope=email%20https%3a%2f%2fwww.googleapis.com%2fauth%2fdocs.test%20https%3a%2f%2fwww.googleapis.com%2fauth%2fdrive%20https%3a%2f%2fwww.googleapis.com%2fauth%2fdrive.photos.readonly%20https%3a%2f%2fwww.googleapis.com%2fauth%2fpeopleapi.readonly%20https%3a%2f%2fwww.googleapis.com%2fauth%2fdrive.activity.readonly%20https%3a%2f%2fwww.googleapis.com%2fauth%2fexperimentsandconfigs%20https%3a%2f%2fwww.googleapis.com%2fauth%2fphotos.native&response_type=code\n",
            "\n",
            "Enter your authorization code:\n",
            "4/1AX4XfWh80nRPy08qfp9bYZn1KWabsy3u85bpuGxNtsqDsiaU5D-jghQw2CM\n",
            "Mounted at /content/drive\n"
          ]
        }
      ]
    },
    {
      "cell_type": "markdown",
      "metadata": {
        "id": "KJOuhWmug989"
      },
      "source": [
        "## **DATA PREPROCESSING**"
      ]
    },
    {
      "cell_type": "markdown",
      "metadata": {
        "id": "Bz3O8l9lhPC6"
      },
      "source": [
        "## **Importing Bussiness data file that contains all restaurant details**"
      ]
    },
    {
      "cell_type": "code",
      "metadata": {
        "colab": {
          "base_uri": "https://localhost:8080/"
        },
        "id": "rle-_pl8sxaS",
        "outputId": "d75286b0-10b4-470b-e835-b208db167424"
      },
      "source": [
        "import pandas as pd\n",
        "import string\n",
        "df = pd.read_csv('/content/drive/My Drive/ML_Project/business.csv')"
      ],
      "execution_count": null,
      "outputs": [
        {
          "output_type": "stream",
          "name": "stderr",
          "text": [
            "/usr/local/lib/python3.7/dist-packages/IPython/core/interactiveshell.py:2718: DtypeWarning: Columns (2,5,8,15,18,21,27,30,43,49,52,62,64,66,70,84,89,92,100) have mixed types.Specify dtype option on import or set low_memory=False.\n",
            "  interactivity=interactivity, compiler=compiler, result=result)\n"
          ]
        }
      ]
    },
    {
      "cell_type": "code",
      "metadata": {
        "colab": {
          "base_uri": "https://localhost:8080/",
          "height": 470
        },
        "id": "BYimCquwsxXb",
        "outputId": "36435070-2fe3-41ed-80f4-93ca8330a8bf"
      },
      "source": [
        "df.head(5)"
      ],
      "execution_count": null,
      "outputs": [
        {
          "data": {
            "text/html": [
              "<div>\n",
              "<style scoped>\n",
              "    .dataframe tbody tr th:only-of-type {\n",
              "        vertical-align: middle;\n",
              "    }\n",
              "\n",
              "    .dataframe tbody tr th {\n",
              "        vertical-align: top;\n",
              "    }\n",
              "\n",
              "    .dataframe thead th {\n",
              "        text-align: right;\n",
              "    }\n",
              "</style>\n",
              "<table border=\"1\" class=\"dataframe\">\n",
              "  <thead>\n",
              "    <tr style=\"text-align: right;\">\n",
              "      <th></th>\n",
              "      <th>business_id</th>\n",
              "      <th>attributes.Ambience.divey</th>\n",
              "      <th>attributes.Dietary Restrictions.vegan</th>\n",
              "      <th>attributes.Happy Hour</th>\n",
              "      <th>hours.Thursday.open</th>\n",
              "      <th>attributes.Order at Counter</th>\n",
              "      <th>attributes.Hair Types Specialized In.africanamerican</th>\n",
              "      <th>attributes.Hair Types Specialized In.kids</th>\n",
              "      <th>attributes.BYOB</th>\n",
              "      <th>hours.Friday.open</th>\n",
              "      <th>categories</th>\n",
              "      <th>latitude</th>\n",
              "      <th>attributes.Outdoor Seating</th>\n",
              "      <th>attributes.Alcohol</th>\n",
              "      <th>attributes.Ambience.classy</th>\n",
              "      <th>attributes.Payment Types.mastercard</th>\n",
              "      <th>attributes.Parking.lot</th>\n",
              "      <th>attributes.Ambience.touristy</th>\n",
              "      <th>attributes.Corkage</th>\n",
              "      <th>hours.Tuesday.open</th>\n",
              "      <th>attributes.Good For.brunch</th>\n",
              "      <th>attributes.Payment Types.amex</th>\n",
              "      <th>name</th>\n",
              "      <th>hours.Monday.open</th>\n",
              "      <th>attributes.Waiter Service</th>\n",
              "      <th>attributes.Parking.street</th>\n",
              "      <th>attributes.Ambience.hipster</th>\n",
              "      <th>attributes.BYOB/Corkage</th>\n",
              "      <th>attributes.Hair Types Specialized In.straightperms</th>\n",
              "      <th>attributes.Music.live</th>\n",
              "      <th>attributes.Dietary Restrictions.dairy-free</th>\n",
              "      <th>attributes.Music.background_music</th>\n",
              "      <th>attributes.Price Range</th>\n",
              "      <th>attributes.Good For.breakfast</th>\n",
              "      <th>attributes.Parking.garage</th>\n",
              "      <th>attributes.Music.karaoke</th>\n",
              "      <th>attributes.Good For Dancing</th>\n",
              "      <th>review_count</th>\n",
              "      <th>attributes.Hair Types Specialized In.asian</th>\n",
              "      <th>state</th>\n",
              "      <th>...</th>\n",
              "      <th>stars</th>\n",
              "      <th>attributes.Payment Types.visa</th>\n",
              "      <th>type</th>\n",
              "      <th>attributes.Caters</th>\n",
              "      <th>attributes.Ambience.intimate</th>\n",
              "      <th>attributes.Music.playlist</th>\n",
              "      <th>attributes.Good For.latenight</th>\n",
              "      <th>attributes.Good For.dinner</th>\n",
              "      <th>attributes.Coat Check</th>\n",
              "      <th>longitude</th>\n",
              "      <th>hours.Monday.close</th>\n",
              "      <th>attributes.Hair Types Specialized In.extensions</th>\n",
              "      <th>hours.Tuesday.close</th>\n",
              "      <th>hours.Saturday.close</th>\n",
              "      <th>attributes.Good for Kids</th>\n",
              "      <th>attributes.Parking.validated</th>\n",
              "      <th>hours.Sunday.open</th>\n",
              "      <th>attributes.Accepts Insurance</th>\n",
              "      <th>attributes.Music.dj</th>\n",
              "      <th>attributes.Dietary Restrictions.soy-free</th>\n",
              "      <th>attributes.Has TV</th>\n",
              "      <th>hours.Sunday.close</th>\n",
              "      <th>attributes.Ambience.casual</th>\n",
              "      <th>attributes.By Appointment Only</th>\n",
              "      <th>attributes.Dietary Restrictions.kosher</th>\n",
              "      <th>attributes.Dogs Allowed</th>\n",
              "      <th>attributes.Drive-Thru</th>\n",
              "      <th>attributes.Dietary Restrictions.vegetarian</th>\n",
              "      <th>hours.Wednesday.open</th>\n",
              "      <th>attributes.Noise Level</th>\n",
              "      <th>attributes.Smoking</th>\n",
              "      <th>attributes.Attire</th>\n",
              "      <th>attributes.Hair Types Specialized In.curly</th>\n",
              "      <th>attributes.Good For Groups</th>\n",
              "      <th>neighborhoods</th>\n",
              "      <th>attributes.Open 24 Hours</th>\n",
              "      <th>attributes.Ambience.romantic</th>\n",
              "      <th>attributes.Hair Types Specialized In.perms</th>\n",
              "      <th>attributes.Music.jukebox</th>\n",
              "      <th>attributes.Ambience.upscale</th>\n",
              "    </tr>\n",
              "  </thead>\n",
              "  <tbody>\n",
              "    <tr>\n",
              "      <th>0</th>\n",
              "      <td>vcNAWiLM4dR7D2nwwJ7nCA</td>\n",
              "      <td>NaN</td>\n",
              "      <td>NaN</td>\n",
              "      <td>NaN</td>\n",
              "      <td>8:00</td>\n",
              "      <td>NaN</td>\n",
              "      <td>NaN</td>\n",
              "      <td>NaN</td>\n",
              "      <td>NaN</td>\n",
              "      <td>8:00</td>\n",
              "      <td>Doctors;Health &amp; Medical</td>\n",
              "      <td>33.499313</td>\n",
              "      <td>NaN</td>\n",
              "      <td>NaN</td>\n",
              "      <td>NaN</td>\n",
              "      <td>NaN</td>\n",
              "      <td>NaN</td>\n",
              "      <td>NaN</td>\n",
              "      <td>NaN</td>\n",
              "      <td>8:00</td>\n",
              "      <td>NaN</td>\n",
              "      <td>NaN</td>\n",
              "      <td>Eric Goldberg, MD</td>\n",
              "      <td>8:00</td>\n",
              "      <td>NaN</td>\n",
              "      <td>NaN</td>\n",
              "      <td>NaN</td>\n",
              "      <td>NaN</td>\n",
              "      <td>NaN</td>\n",
              "      <td>NaN</td>\n",
              "      <td>NaN</td>\n",
              "      <td>NaN</td>\n",
              "      <td>NaN</td>\n",
              "      <td>NaN</td>\n",
              "      <td>NaN</td>\n",
              "      <td>NaN</td>\n",
              "      <td>NaN</td>\n",
              "      <td>7</td>\n",
              "      <td>NaN</td>\n",
              "      <td>AZ</td>\n",
              "      <td>...</td>\n",
              "      <td>3.5</td>\n",
              "      <td>NaN</td>\n",
              "      <td>business</td>\n",
              "      <td>NaN</td>\n",
              "      <td>NaN</td>\n",
              "      <td>NaN</td>\n",
              "      <td>NaN</td>\n",
              "      <td>NaN</td>\n",
              "      <td>NaN</td>\n",
              "      <td>-111.983758</td>\n",
              "      <td>17:00</td>\n",
              "      <td>NaN</td>\n",
              "      <td>17:00</td>\n",
              "      <td>NaN</td>\n",
              "      <td>NaN</td>\n",
              "      <td>NaN</td>\n",
              "      <td>NaN</td>\n",
              "      <td>NaN</td>\n",
              "      <td>NaN</td>\n",
              "      <td>NaN</td>\n",
              "      <td>NaN</td>\n",
              "      <td>NaN</td>\n",
              "      <td>NaN</td>\n",
              "      <td>True</td>\n",
              "      <td>NaN</td>\n",
              "      <td>NaN</td>\n",
              "      <td>NaN</td>\n",
              "      <td>NaN</td>\n",
              "      <td>8:00</td>\n",
              "      <td>NaN</td>\n",
              "      <td>NaN</td>\n",
              "      <td>NaN</td>\n",
              "      <td>NaN</td>\n",
              "      <td>NaN</td>\n",
              "      <td>NaN</td>\n",
              "      <td>NaN</td>\n",
              "      <td>NaN</td>\n",
              "      <td>NaN</td>\n",
              "      <td>NaN</td>\n",
              "      <td>NaN</td>\n",
              "    </tr>\n",
              "    <tr>\n",
              "      <th>1</th>\n",
              "      <td>JwUE5GmEO-sH1FuwJgKBlQ</td>\n",
              "      <td>False</td>\n",
              "      <td>NaN</td>\n",
              "      <td>NaN</td>\n",
              "      <td>NaN</td>\n",
              "      <td>NaN</td>\n",
              "      <td>NaN</td>\n",
              "      <td>NaN</td>\n",
              "      <td>NaN</td>\n",
              "      <td>NaN</td>\n",
              "      <td>Restaurants</td>\n",
              "      <td>43.238893</td>\n",
              "      <td>False</td>\n",
              "      <td>none</td>\n",
              "      <td>False</td>\n",
              "      <td>NaN</td>\n",
              "      <td>True</td>\n",
              "      <td>False</td>\n",
              "      <td>NaN</td>\n",
              "      <td>NaN</td>\n",
              "      <td>False</td>\n",
              "      <td>NaN</td>\n",
              "      <td>Pine Cone Restaurant</td>\n",
              "      <td>NaN</td>\n",
              "      <td>True</td>\n",
              "      <td>False</td>\n",
              "      <td>False</td>\n",
              "      <td>NaN</td>\n",
              "      <td>NaN</td>\n",
              "      <td>NaN</td>\n",
              "      <td>NaN</td>\n",
              "      <td>NaN</td>\n",
              "      <td>1.0</td>\n",
              "      <td>False</td>\n",
              "      <td>False</td>\n",
              "      <td>NaN</td>\n",
              "      <td>NaN</td>\n",
              "      <td>26</td>\n",
              "      <td>NaN</td>\n",
              "      <td>WI</td>\n",
              "      <td>...</td>\n",
              "      <td>4.0</td>\n",
              "      <td>NaN</td>\n",
              "      <td>business</td>\n",
              "      <td>False</td>\n",
              "      <td>False</td>\n",
              "      <td>NaN</td>\n",
              "      <td>False</td>\n",
              "      <td>False</td>\n",
              "      <td>NaN</td>\n",
              "      <td>-89.335844</td>\n",
              "      <td>NaN</td>\n",
              "      <td>NaN</td>\n",
              "      <td>NaN</td>\n",
              "      <td>NaN</td>\n",
              "      <td>True</td>\n",
              "      <td>False</td>\n",
              "      <td>NaN</td>\n",
              "      <td>NaN</td>\n",
              "      <td>NaN</td>\n",
              "      <td>NaN</td>\n",
              "      <td>True</td>\n",
              "      <td>NaN</td>\n",
              "      <td>False</td>\n",
              "      <td>NaN</td>\n",
              "      <td>NaN</td>\n",
              "      <td>NaN</td>\n",
              "      <td>NaN</td>\n",
              "      <td>NaN</td>\n",
              "      <td>NaN</td>\n",
              "      <td>average</td>\n",
              "      <td>NaN</td>\n",
              "      <td>casual</td>\n",
              "      <td>NaN</td>\n",
              "      <td>True</td>\n",
              "      <td>NaN</td>\n",
              "      <td>NaN</td>\n",
              "      <td>False</td>\n",
              "      <td>NaN</td>\n",
              "      <td>NaN</td>\n",
              "      <td>False</td>\n",
              "    </tr>\n",
              "    <tr>\n",
              "      <th>2</th>\n",
              "      <td>uGykseHzyS5xAMWoN6YUqA</td>\n",
              "      <td>False</td>\n",
              "      <td>NaN</td>\n",
              "      <td>NaN</td>\n",
              "      <td>6:00</td>\n",
              "      <td>NaN</td>\n",
              "      <td>NaN</td>\n",
              "      <td>NaN</td>\n",
              "      <td>NaN</td>\n",
              "      <td>6:00</td>\n",
              "      <td>American (Traditional);Restaurants</td>\n",
              "      <td>43.252267</td>\n",
              "      <td>False</td>\n",
              "      <td>NaN</td>\n",
              "      <td>False</td>\n",
              "      <td>NaN</td>\n",
              "      <td>True</td>\n",
              "      <td>False</td>\n",
              "      <td>NaN</td>\n",
              "      <td>6:00</td>\n",
              "      <td>True</td>\n",
              "      <td>NaN</td>\n",
              "      <td>Deforest Family Restaurant</td>\n",
              "      <td>6:00</td>\n",
              "      <td>True</td>\n",
              "      <td>False</td>\n",
              "      <td>False</td>\n",
              "      <td>NaN</td>\n",
              "      <td>NaN</td>\n",
              "      <td>NaN</td>\n",
              "      <td>NaN</td>\n",
              "      <td>NaN</td>\n",
              "      <td>1.0</td>\n",
              "      <td>False</td>\n",
              "      <td>False</td>\n",
              "      <td>NaN</td>\n",
              "      <td>NaN</td>\n",
              "      <td>16</td>\n",
              "      <td>NaN</td>\n",
              "      <td>WI</td>\n",
              "      <td>...</td>\n",
              "      <td>4.0</td>\n",
              "      <td>NaN</td>\n",
              "      <td>business</td>\n",
              "      <td>False</td>\n",
              "      <td>False</td>\n",
              "      <td>NaN</td>\n",
              "      <td>False</td>\n",
              "      <td>False</td>\n",
              "      <td>NaN</td>\n",
              "      <td>-89.353437</td>\n",
              "      <td>22:00</td>\n",
              "      <td>NaN</td>\n",
              "      <td>22:00</td>\n",
              "      <td>22:00</td>\n",
              "      <td>True</td>\n",
              "      <td>False</td>\n",
              "      <td>6:00</td>\n",
              "      <td>NaN</td>\n",
              "      <td>NaN</td>\n",
              "      <td>NaN</td>\n",
              "      <td>True</td>\n",
              "      <td>21:00</td>\n",
              "      <td>True</td>\n",
              "      <td>NaN</td>\n",
              "      <td>NaN</td>\n",
              "      <td>NaN</td>\n",
              "      <td>NaN</td>\n",
              "      <td>NaN</td>\n",
              "      <td>6:00</td>\n",
              "      <td>quiet</td>\n",
              "      <td>NaN</td>\n",
              "      <td>casual</td>\n",
              "      <td>NaN</td>\n",
              "      <td>True</td>\n",
              "      <td>NaN</td>\n",
              "      <td>NaN</td>\n",
              "      <td>False</td>\n",
              "      <td>NaN</td>\n",
              "      <td>NaN</td>\n",
              "      <td>False</td>\n",
              "    </tr>\n",
              "    <tr>\n",
              "      <th>3</th>\n",
              "      <td>LRKJF43s9-3jG9Lgx4zODg</td>\n",
              "      <td>NaN</td>\n",
              "      <td>NaN</td>\n",
              "      <td>NaN</td>\n",
              "      <td>10:30</td>\n",
              "      <td>NaN</td>\n",
              "      <td>NaN</td>\n",
              "      <td>NaN</td>\n",
              "      <td>NaN</td>\n",
              "      <td>10:30</td>\n",
              "      <td>Food;Ice Cream &amp; Frozen Yogurt;Fast Food;Resta...</td>\n",
              "      <td>43.251045</td>\n",
              "      <td>NaN</td>\n",
              "      <td>NaN</td>\n",
              "      <td>NaN</td>\n",
              "      <td>NaN</td>\n",
              "      <td>True</td>\n",
              "      <td>NaN</td>\n",
              "      <td>NaN</td>\n",
              "      <td>10:30</td>\n",
              "      <td>NaN</td>\n",
              "      <td>NaN</td>\n",
              "      <td>Culver's</td>\n",
              "      <td>10:30</td>\n",
              "      <td>NaN</td>\n",
              "      <td>False</td>\n",
              "      <td>NaN</td>\n",
              "      <td>NaN</td>\n",
              "      <td>NaN</td>\n",
              "      <td>NaN</td>\n",
              "      <td>NaN</td>\n",
              "      <td>NaN</td>\n",
              "      <td>1.0</td>\n",
              "      <td>NaN</td>\n",
              "      <td>False</td>\n",
              "      <td>NaN</td>\n",
              "      <td>NaN</td>\n",
              "      <td>7</td>\n",
              "      <td>NaN</td>\n",
              "      <td>WI</td>\n",
              "      <td>...</td>\n",
              "      <td>4.5</td>\n",
              "      <td>NaN</td>\n",
              "      <td>business</td>\n",
              "      <td>NaN</td>\n",
              "      <td>NaN</td>\n",
              "      <td>NaN</td>\n",
              "      <td>NaN</td>\n",
              "      <td>NaN</td>\n",
              "      <td>NaN</td>\n",
              "      <td>-89.374983</td>\n",
              "      <td>22:00</td>\n",
              "      <td>NaN</td>\n",
              "      <td>22:00</td>\n",
              "      <td>22:00</td>\n",
              "      <td>NaN</td>\n",
              "      <td>False</td>\n",
              "      <td>10:30</td>\n",
              "      <td>NaN</td>\n",
              "      <td>NaN</td>\n",
              "      <td>NaN</td>\n",
              "      <td>NaN</td>\n",
              "      <td>22:00</td>\n",
              "      <td>NaN</td>\n",
              "      <td>NaN</td>\n",
              "      <td>NaN</td>\n",
              "      <td>NaN</td>\n",
              "      <td>NaN</td>\n",
              "      <td>NaN</td>\n",
              "      <td>10:30</td>\n",
              "      <td>NaN</td>\n",
              "      <td>NaN</td>\n",
              "      <td>casual</td>\n",
              "      <td>NaN</td>\n",
              "      <td>True</td>\n",
              "      <td>NaN</td>\n",
              "      <td>NaN</td>\n",
              "      <td>NaN</td>\n",
              "      <td>NaN</td>\n",
              "      <td>NaN</td>\n",
              "      <td>NaN</td>\n",
              "    </tr>\n",
              "    <tr>\n",
              "      <th>4</th>\n",
              "      <td>RgDg-k9S5YD_BaxMckifkg</td>\n",
              "      <td>NaN</td>\n",
              "      <td>NaN</td>\n",
              "      <td>NaN</td>\n",
              "      <td>11:00</td>\n",
              "      <td>NaN</td>\n",
              "      <td>NaN</td>\n",
              "      <td>NaN</td>\n",
              "      <td>NaN</td>\n",
              "      <td>11:00</td>\n",
              "      <td>Chinese;Restaurants</td>\n",
              "      <td>43.240875</td>\n",
              "      <td>False</td>\n",
              "      <td>NaN</td>\n",
              "      <td>NaN</td>\n",
              "      <td>NaN</td>\n",
              "      <td>NaN</td>\n",
              "      <td>NaN</td>\n",
              "      <td>NaN</td>\n",
              "      <td>11:00</td>\n",
              "      <td>NaN</td>\n",
              "      <td>NaN</td>\n",
              "      <td>Chang Jiang Chinese Kitchen</td>\n",
              "      <td>11:00</td>\n",
              "      <td>NaN</td>\n",
              "      <td>NaN</td>\n",
              "      <td>NaN</td>\n",
              "      <td>NaN</td>\n",
              "      <td>NaN</td>\n",
              "      <td>NaN</td>\n",
              "      <td>NaN</td>\n",
              "      <td>NaN</td>\n",
              "      <td>NaN</td>\n",
              "      <td>NaN</td>\n",
              "      <td>NaN</td>\n",
              "      <td>NaN</td>\n",
              "      <td>NaN</td>\n",
              "      <td>3</td>\n",
              "      <td>NaN</td>\n",
              "      <td>WI</td>\n",
              "      <td>...</td>\n",
              "      <td>4.0</td>\n",
              "      <td>NaN</td>\n",
              "      <td>business</td>\n",
              "      <td>NaN</td>\n",
              "      <td>NaN</td>\n",
              "      <td>NaN</td>\n",
              "      <td>NaN</td>\n",
              "      <td>NaN</td>\n",
              "      <td>NaN</td>\n",
              "      <td>-89.343722</td>\n",
              "      <td>22:00</td>\n",
              "      <td>NaN</td>\n",
              "      <td>22:00</td>\n",
              "      <td>22:30</td>\n",
              "      <td>NaN</td>\n",
              "      <td>NaN</td>\n",
              "      <td>16:00</td>\n",
              "      <td>NaN</td>\n",
              "      <td>NaN</td>\n",
              "      <td>NaN</td>\n",
              "      <td>False</td>\n",
              "      <td>21:00</td>\n",
              "      <td>NaN</td>\n",
              "      <td>NaN</td>\n",
              "      <td>NaN</td>\n",
              "      <td>NaN</td>\n",
              "      <td>NaN</td>\n",
              "      <td>NaN</td>\n",
              "      <td>11:00</td>\n",
              "      <td>NaN</td>\n",
              "      <td>NaN</td>\n",
              "      <td>casual</td>\n",
              "      <td>NaN</td>\n",
              "      <td>NaN</td>\n",
              "      <td>NaN</td>\n",
              "      <td>NaN</td>\n",
              "      <td>NaN</td>\n",
              "      <td>NaN</td>\n",
              "      <td>NaN</td>\n",
              "      <td>NaN</td>\n",
              "    </tr>\n",
              "  </tbody>\n",
              "</table>\n",
              "<p>5 rows × 105 columns</p>\n",
              "</div>"
            ],
            "text/plain": [
              "              business_id  ... attributes.Ambience.upscale\n",
              "0  vcNAWiLM4dR7D2nwwJ7nCA  ...                         NaN\n",
              "1  JwUE5GmEO-sH1FuwJgKBlQ  ...                       False\n",
              "2  uGykseHzyS5xAMWoN6YUqA  ...                       False\n",
              "3  LRKJF43s9-3jG9Lgx4zODg  ...                         NaN\n",
              "4  RgDg-k9S5YD_BaxMckifkg  ...                         NaN\n",
              "\n",
              "[5 rows x 105 columns]"
            ]
          },
          "execution_count": 3,
          "metadata": {},
          "output_type": "execute_result"
        }
      ]
    },
    {
      "cell_type": "markdown",
      "metadata": {
        "id": "oHnNJ0GMhXZC"
      },
      "source": [
        "## **Dropping unwanted columns**"
      ]
    },
    {
      "cell_type": "markdown",
      "metadata": {
        "id": "ocqlVKNShidD"
      },
      "source": [
        "## **Selecting Required Columns from the Dataset**"
      ]
    },
    {
      "cell_type": "code",
      "metadata": {
        "colab": {
          "base_uri": "https://localhost:8080/",
          "height": 206
        },
        "id": "DosJQ2r2sxSL",
        "outputId": "35cea491-5679-47ee-86cc-b848f194f6ce"
      },
      "source": [
        "Bussiness_df  = df[['business_id','categories','name','review_count','state','stars']]\n",
        "Bussiness_df.head(5)"
      ],
      "execution_count": null,
      "outputs": [
        {
          "output_type": "execute_result",
          "data": {
            "text/html": [
              "<div>\n",
              "<style scoped>\n",
              "    .dataframe tbody tr th:only-of-type {\n",
              "        vertical-align: middle;\n",
              "    }\n",
              "\n",
              "    .dataframe tbody tr th {\n",
              "        vertical-align: top;\n",
              "    }\n",
              "\n",
              "    .dataframe thead th {\n",
              "        text-align: right;\n",
              "    }\n",
              "</style>\n",
              "<table border=\"1\" class=\"dataframe\">\n",
              "  <thead>\n",
              "    <tr style=\"text-align: right;\">\n",
              "      <th></th>\n",
              "      <th>business_id</th>\n",
              "      <th>categories</th>\n",
              "      <th>name</th>\n",
              "      <th>review_count</th>\n",
              "      <th>state</th>\n",
              "      <th>stars</th>\n",
              "    </tr>\n",
              "  </thead>\n",
              "  <tbody>\n",
              "    <tr>\n",
              "      <th>0</th>\n",
              "      <td>vcNAWiLM4dR7D2nwwJ7nCA</td>\n",
              "      <td>Doctors;Health &amp; Medical</td>\n",
              "      <td>Eric Goldberg, MD</td>\n",
              "      <td>7</td>\n",
              "      <td>AZ</td>\n",
              "      <td>3.5</td>\n",
              "    </tr>\n",
              "    <tr>\n",
              "      <th>1</th>\n",
              "      <td>JwUE5GmEO-sH1FuwJgKBlQ</td>\n",
              "      <td>Restaurants</td>\n",
              "      <td>Pine Cone Restaurant</td>\n",
              "      <td>26</td>\n",
              "      <td>WI</td>\n",
              "      <td>4.0</td>\n",
              "    </tr>\n",
              "    <tr>\n",
              "      <th>2</th>\n",
              "      <td>uGykseHzyS5xAMWoN6YUqA</td>\n",
              "      <td>American (Traditional);Restaurants</td>\n",
              "      <td>Deforest Family Restaurant</td>\n",
              "      <td>16</td>\n",
              "      <td>WI</td>\n",
              "      <td>4.0</td>\n",
              "    </tr>\n",
              "    <tr>\n",
              "      <th>3</th>\n",
              "      <td>LRKJF43s9-3jG9Lgx4zODg</td>\n",
              "      <td>Food;Ice Cream &amp; Frozen Yogurt;Fast Food;Resta...</td>\n",
              "      <td>Culver's</td>\n",
              "      <td>7</td>\n",
              "      <td>WI</td>\n",
              "      <td>4.5</td>\n",
              "    </tr>\n",
              "    <tr>\n",
              "      <th>4</th>\n",
              "      <td>RgDg-k9S5YD_BaxMckifkg</td>\n",
              "      <td>Chinese;Restaurants</td>\n",
              "      <td>Chang Jiang Chinese Kitchen</td>\n",
              "      <td>3</td>\n",
              "      <td>WI</td>\n",
              "      <td>4.0</td>\n",
              "    </tr>\n",
              "  </tbody>\n",
              "</table>\n",
              "</div>"
            ],
            "text/plain": [
              "              business_id  ... stars\n",
              "0  vcNAWiLM4dR7D2nwwJ7nCA  ...   3.5\n",
              "1  JwUE5GmEO-sH1FuwJgKBlQ  ...   4.0\n",
              "2  uGykseHzyS5xAMWoN6YUqA  ...   4.0\n",
              "3  LRKJF43s9-3jG9Lgx4zODg  ...   4.5\n",
              "4  RgDg-k9S5YD_BaxMckifkg  ...   4.0\n",
              "\n",
              "[5 rows x 6 columns]"
            ]
          },
          "metadata": {},
          "execution_count": 4
        }
      ]
    },
    {
      "cell_type": "markdown",
      "metadata": {
        "id": "-67RydFKhuKC"
      },
      "source": [
        "## **Deleting NAN or Null values**"
      ]
    },
    {
      "cell_type": "code",
      "metadata": {
        "colab": {
          "base_uri": "https://localhost:8080/"
        },
        "id": "LtscE7xn6k72",
        "outputId": "a3fb84ff-fc60-403e-b7a0-6a7be05eb391"
      },
      "source": [
        "Bussiness_df.dropna(inplace = True)"
      ],
      "execution_count": null,
      "outputs": [
        {
          "output_type": "stream",
          "name": "stderr",
          "text": [
            "/usr/local/lib/python3.7/dist-packages/ipykernel_launcher.py:1: SettingWithCopyWarning: \n",
            "A value is trying to be set on a copy of a slice from a DataFrame\n",
            "\n",
            "See the caveats in the documentation: https://pandas.pydata.org/pandas-docs/stable/user_guide/indexing.html#returning-a-view-versus-a-copy\n",
            "  \"\"\"Entry point for launching an IPython kernel.\n"
          ]
        }
      ]
    },
    {
      "cell_type": "code",
      "metadata": {
        "colab": {
          "base_uri": "https://localhost:8080/"
        },
        "id": "PF79mvcSBwdi",
        "outputId": "c42dda73-a454-47a5-b958-aeec5fea0ed1"
      },
      "source": [
        "Bussiness_df.shape"
      ],
      "execution_count": null,
      "outputs": [
        {
          "data": {
            "text/plain": [
              "(41814, 6)"
            ]
          },
          "execution_count": 7,
          "metadata": {},
          "output_type": "execute_result"
        }
      ]
    },
    {
      "cell_type": "markdown",
      "metadata": {
        "id": "HSoI42DDh7t7"
      },
      "source": [
        "## **Number of unique Restaurants and names**"
      ]
    },
    {
      "cell_type": "code",
      "metadata": {
        "colab": {
          "base_uri": "https://localhost:8080/"
        },
        "id": "l0rxKdqOQIhb",
        "outputId": "ccfc46e0-48e8-4f07-9d52-538e3892181f"
      },
      "source": [
        "Bussiness_df['name'].unique"
      ],
      "execution_count": null,
      "outputs": [
        {
          "data": {
            "text/plain": [
              "<bound method Series.unique of 0                            Eric Goldberg, MD\n",
              "1                         Pine Cone Restaurant\n",
              "2                   Deforest Family Restaurant\n",
              "3                                     Culver's\n",
              "4                  Chang Jiang Chinese Kitchen\n",
              "                         ...                  \n",
              "42148                 Rocco's NY Pizza & Pasta\n",
              "42149                          Pilates Central\n",
              "42150    Yelp's Secret Cinema: Made In Arizona\n",
              "42151          LaBella Pizzeria and Restaurant\n",
              "42152                     Oriental Supermarket\n",
              "Name: name, Length: 41814, dtype: object>"
            ]
          },
          "execution_count": 162,
          "metadata": {},
          "output_type": "execute_result"
        }
      ]
    },
    {
      "cell_type": "code",
      "metadata": {
        "colab": {
          "base_uri": "https://localhost:8080/"
        },
        "id": "sQntIvtKT1TT",
        "outputId": "a38056b2-3ddb-4fcc-e95f-bc479f3eafb8"
      },
      "source": [
        "Bussiness_df.isnull().sum()"
      ],
      "execution_count": null,
      "outputs": [
        {
          "data": {
            "text/plain": [
              "business_id     0\n",
              "categories      0\n",
              "name            0\n",
              "review_count    0\n",
              "state           0\n",
              "stars           0\n",
              "dtype: int64"
            ]
          },
          "execution_count": 8,
          "metadata": {},
          "output_type": "execute_result"
        }
      ]
    },
    {
      "cell_type": "markdown",
      "metadata": {
        "id": "paBoxHkQiNTi"
      },
      "source": [
        "## **Importing Review data file that contains user and his/her review details**"
      ]
    },
    {
      "cell_type": "code",
      "metadata": {
        "id": "nY5t_jXMyaFc"
      },
      "source": [
        "Review_df = pd.read_csv('/content/drive/My Drive/ML_Project/review.csv')"
      ],
      "execution_count": null,
      "outputs": []
    },
    {
      "cell_type": "code",
      "metadata": {
        "colab": {
          "base_uri": "https://localhost:8080/",
          "height": 492
        },
        "id": "Sn6pH6gM1H8k",
        "outputId": "f9259d78-4d80-4fae-cd5a-9a4efe4ab899"
      },
      "source": [
        "Review_df.head()"
      ],
      "execution_count": null,
      "outputs": [
        {
          "data": {
            "text/html": [
              "<div>\n",
              "<style scoped>\n",
              "    .dataframe tbody tr th:only-of-type {\n",
              "        vertical-align: middle;\n",
              "    }\n",
              "\n",
              "    .dataframe tbody tr th {\n",
              "        vertical-align: top;\n",
              "    }\n",
              "\n",
              "    .dataframe thead th {\n",
              "        text-align: right;\n",
              "    }\n",
              "</style>\n",
              "<table border=\"1\" class=\"dataframe\">\n",
              "  <thead>\n",
              "    <tr style=\"text-align: right;\">\n",
              "      <th></th>\n",
              "      <th>user_id</th>\n",
              "      <th>review_id</th>\n",
              "      <th>text</th>\n",
              "      <th>votes.cool</th>\n",
              "      <th>business_id</th>\n",
              "      <th>votes.funny</th>\n",
              "      <th>stars</th>\n",
              "      <th>date</th>\n",
              "      <th>type</th>\n",
              "      <th>votes.useful</th>\n",
              "    </tr>\n",
              "  </thead>\n",
              "  <tbody>\n",
              "    <tr>\n",
              "      <th>0</th>\n",
              "      <td>Xqd0DzHaiyRqVH3WRG7hzg</td>\n",
              "      <td>15SdjuK7DmYqUAj6rjGowg</td>\n",
              "      <td>dr. goldberg offers everything i look for in a...</td>\n",
              "      <td>1</td>\n",
              "      <td>vcNAWiLM4dR7D2nwwJ7nCA</td>\n",
              "      <td>0</td>\n",
              "      <td>5</td>\n",
              "      <td>2007-05-17</td>\n",
              "      <td>review</td>\n",
              "      <td>2</td>\n",
              "    </tr>\n",
              "    <tr>\n",
              "      <th>1</th>\n",
              "      <td>H1kH6QZV7Le4zqTRNxoZow</td>\n",
              "      <td>RF6UnRTtG7tWMcrO2GEoAg</td>\n",
              "      <td>Unfortunately, the frustration of being Dr. Go...</td>\n",
              "      <td>0</td>\n",
              "      <td>vcNAWiLM4dR7D2nwwJ7nCA</td>\n",
              "      <td>0</td>\n",
              "      <td>2</td>\n",
              "      <td>2010-03-22</td>\n",
              "      <td>review</td>\n",
              "      <td>2</td>\n",
              "    </tr>\n",
              "    <tr>\n",
              "      <th>2</th>\n",
              "      <td>zvJCcrpm2yOZrxKffwGQLA</td>\n",
              "      <td>-TsVN230RCkLYKBeLsuz7A</td>\n",
              "      <td>Dr. Goldberg has been my doctor for years and ...</td>\n",
              "      <td>1</td>\n",
              "      <td>vcNAWiLM4dR7D2nwwJ7nCA</td>\n",
              "      <td>0</td>\n",
              "      <td>4</td>\n",
              "      <td>2012-02-14</td>\n",
              "      <td>review</td>\n",
              "      <td>1</td>\n",
              "    </tr>\n",
              "    <tr>\n",
              "      <th>3</th>\n",
              "      <td>KBLW4wJA_fwoWmMhiHRVOA</td>\n",
              "      <td>dNocEAyUucjT371NNND41Q</td>\n",
              "      <td>Been going to Dr. Goldberg for over 10 years. ...</td>\n",
              "      <td>0</td>\n",
              "      <td>vcNAWiLM4dR7D2nwwJ7nCA</td>\n",
              "      <td>0</td>\n",
              "      <td>4</td>\n",
              "      <td>2012-03-02</td>\n",
              "      <td>review</td>\n",
              "      <td>0</td>\n",
              "    </tr>\n",
              "    <tr>\n",
              "      <th>4</th>\n",
              "      <td>zvJCcrpm2yOZrxKffwGQLA</td>\n",
              "      <td>ebcN2aqmNUuYNoyvQErgnA</td>\n",
              "      <td>Got a letter in the mail last week that said D...</td>\n",
              "      <td>1</td>\n",
              "      <td>vcNAWiLM4dR7D2nwwJ7nCA</td>\n",
              "      <td>0</td>\n",
              "      <td>4</td>\n",
              "      <td>2012-05-15</td>\n",
              "      <td>review</td>\n",
              "      <td>2</td>\n",
              "    </tr>\n",
              "  </tbody>\n",
              "</table>\n",
              "</div>"
            ],
            "text/plain": [
              "                  user_id               review_id  ...    type  votes.useful\n",
              "0  Xqd0DzHaiyRqVH3WRG7hzg  15SdjuK7DmYqUAj6rjGowg  ...  review             2\n",
              "1  H1kH6QZV7Le4zqTRNxoZow  RF6UnRTtG7tWMcrO2GEoAg  ...  review             2\n",
              "2  zvJCcrpm2yOZrxKffwGQLA  -TsVN230RCkLYKBeLsuz7A  ...  review             1\n",
              "3  KBLW4wJA_fwoWmMhiHRVOA  dNocEAyUucjT371NNND41Q  ...  review             0\n",
              "4  zvJCcrpm2yOZrxKffwGQLA  ebcN2aqmNUuYNoyvQErgnA  ...  review             2\n",
              "\n",
              "[5 rows x 10 columns]"
            ]
          },
          "execution_count": 10,
          "metadata": {},
          "output_type": "execute_result"
        }
      ]
    },
    {
      "cell_type": "markdown",
      "metadata": {
        "id": "UX9h22fJwoyT"
      },
      "source": [
        "## **Deleting NAN values in Review dataset**"
      ]
    },
    {
      "cell_type": "code",
      "metadata": {
        "id": "HDme92JRicbP"
      },
      "source": [
        "Review_df.dropna(inplace=True)\n"
      ],
      "execution_count": null,
      "outputs": []
    },
    {
      "cell_type": "code",
      "metadata": {
        "colab": {
          "base_uri": "https://localhost:8080/"
        },
        "id": "bP8cXX6GZRMB",
        "outputId": "e877c2c6-a6dd-4dd6-e94c-4540d88b5b1d"
      },
      "source": [
        "Review_df.isnull().sum()"
      ],
      "execution_count": null,
      "outputs": [
        {
          "data": {
            "text/plain": [
              "user_id         0\n",
              "review_id       0\n",
              "text            0\n",
              "votes.cool      0\n",
              "business_id     0\n",
              "votes.funny     0\n",
              "stars           0\n",
              "date            0\n",
              "type            0\n",
              "votes.useful    0\n",
              "dtype: int64"
            ]
          },
          "execution_count": 12,
          "metadata": {},
          "output_type": "execute_result"
        }
      ]
    },
    {
      "cell_type": "markdown",
      "metadata": {
        "id": "262Jbdm0iaN4"
      },
      "source": [
        "## **Dropping Duplicate Rows**"
      ]
    },
    {
      "cell_type": "code",
      "metadata": {
        "colab": {
          "base_uri": "https://localhost:8080/"
        },
        "id": "7xqVpdw1uUNM",
        "outputId": "800073f0-e319-4496-baf9-3588104c7878"
      },
      "source": [
        "Review_df.shape"
      ],
      "execution_count": null,
      "outputs": [
        {
          "data": {
            "text/plain": [
              "(1125457, 10)"
            ]
          },
          "execution_count": 13,
          "metadata": {},
          "output_type": "execute_result"
        }
      ]
    },
    {
      "cell_type": "code",
      "metadata": {
        "colab": {
          "base_uri": "https://localhost:8080/",
          "height": 597
        },
        "id": "B8trjEf3ulki",
        "outputId": "a2e7bd81-b394-46d8-8c08-f3dac3e3412c"
      },
      "source": [
        "Review_df.drop_duplicates()"
      ],
      "execution_count": null,
      "outputs": [
        {
          "output_type": "execute_result",
          "data": {
            "text/html": [
              "<div>\n",
              "<style scoped>\n",
              "    .dataframe tbody tr th:only-of-type {\n",
              "        vertical-align: middle;\n",
              "    }\n",
              "\n",
              "    .dataframe tbody tr th {\n",
              "        vertical-align: top;\n",
              "    }\n",
              "\n",
              "    .dataframe thead th {\n",
              "        text-align: right;\n",
              "    }\n",
              "</style>\n",
              "<table border=\"1\" class=\"dataframe\">\n",
              "  <thead>\n",
              "    <tr style=\"text-align: right;\">\n",
              "      <th></th>\n",
              "      <th>user_id</th>\n",
              "      <th>review_id</th>\n",
              "      <th>text</th>\n",
              "      <th>votes.cool</th>\n",
              "      <th>business_id</th>\n",
              "      <th>votes.funny</th>\n",
              "      <th>stars</th>\n",
              "      <th>date</th>\n",
              "      <th>type</th>\n",
              "      <th>votes.useful</th>\n",
              "    </tr>\n",
              "  </thead>\n",
              "  <tbody>\n",
              "    <tr>\n",
              "      <th>0</th>\n",
              "      <td>Xqd0DzHaiyRqVH3WRG7hzg</td>\n",
              "      <td>15SdjuK7DmYqUAj6rjGowg</td>\n",
              "      <td>dr. goldberg offers everything i look for in a...</td>\n",
              "      <td>1</td>\n",
              "      <td>vcNAWiLM4dR7D2nwwJ7nCA</td>\n",
              "      <td>0</td>\n",
              "      <td>5</td>\n",
              "      <td>2007-05-17</td>\n",
              "      <td>review</td>\n",
              "      <td>2</td>\n",
              "    </tr>\n",
              "    <tr>\n",
              "      <th>1</th>\n",
              "      <td>H1kH6QZV7Le4zqTRNxoZow</td>\n",
              "      <td>RF6UnRTtG7tWMcrO2GEoAg</td>\n",
              "      <td>Unfortunately, the frustration of being Dr. Go...</td>\n",
              "      <td>0</td>\n",
              "      <td>vcNAWiLM4dR7D2nwwJ7nCA</td>\n",
              "      <td>0</td>\n",
              "      <td>2</td>\n",
              "      <td>2010-03-22</td>\n",
              "      <td>review</td>\n",
              "      <td>2</td>\n",
              "    </tr>\n",
              "    <tr>\n",
              "      <th>2</th>\n",
              "      <td>zvJCcrpm2yOZrxKffwGQLA</td>\n",
              "      <td>-TsVN230RCkLYKBeLsuz7A</td>\n",
              "      <td>Dr. Goldberg has been my doctor for years and ...</td>\n",
              "      <td>1</td>\n",
              "      <td>vcNAWiLM4dR7D2nwwJ7nCA</td>\n",
              "      <td>0</td>\n",
              "      <td>4</td>\n",
              "      <td>2012-02-14</td>\n",
              "      <td>review</td>\n",
              "      <td>1</td>\n",
              "    </tr>\n",
              "    <tr>\n",
              "      <th>3</th>\n",
              "      <td>KBLW4wJA_fwoWmMhiHRVOA</td>\n",
              "      <td>dNocEAyUucjT371NNND41Q</td>\n",
              "      <td>Been going to Dr. Goldberg for over 10 years. ...</td>\n",
              "      <td>0</td>\n",
              "      <td>vcNAWiLM4dR7D2nwwJ7nCA</td>\n",
              "      <td>0</td>\n",
              "      <td>4</td>\n",
              "      <td>2012-03-02</td>\n",
              "      <td>review</td>\n",
              "      <td>0</td>\n",
              "    </tr>\n",
              "    <tr>\n",
              "      <th>4</th>\n",
              "      <td>zvJCcrpm2yOZrxKffwGQLA</td>\n",
              "      <td>ebcN2aqmNUuYNoyvQErgnA</td>\n",
              "      <td>Got a letter in the mail last week that said D...</td>\n",
              "      <td>1</td>\n",
              "      <td>vcNAWiLM4dR7D2nwwJ7nCA</td>\n",
              "      <td>0</td>\n",
              "      <td>4</td>\n",
              "      <td>2012-05-15</td>\n",
              "      <td>review</td>\n",
              "      <td>2</td>\n",
              "    </tr>\n",
              "    <tr>\n",
              "      <th>...</th>\n",
              "      <td>...</td>\n",
              "      <td>...</td>\n",
              "      <td>...</td>\n",
              "      <td>...</td>\n",
              "      <td>...</td>\n",
              "      <td>...</td>\n",
              "      <td>...</td>\n",
              "      <td>...</td>\n",
              "      <td>...</td>\n",
              "      <td>...</td>\n",
              "    </tr>\n",
              "    <tr>\n",
              "      <th>1125453</th>\n",
              "      <td>lhMo-dGq0V2iKqBIiwUJSg</td>\n",
              "      <td>eujuvkGqy2ssZ9zjdPJrMA</td>\n",
              "      <td>Located at the bottom of Lauriston Place, this...</td>\n",
              "      <td>0</td>\n",
              "      <td>BVxlrYWgmi-8TPGMe6CTpg</td>\n",
              "      <td>0</td>\n",
              "      <td>5</td>\n",
              "      <td>2010-08-11</td>\n",
              "      <td>review</td>\n",
              "      <td>1</td>\n",
              "    </tr>\n",
              "    <tr>\n",
              "      <th>1125454</th>\n",
              "      <td>TTrzXCtB2MZA8Azw56bRlw</td>\n",
              "      <td>vFA5KXUGEH-oMcM6WTC-8w</td>\n",
              "      <td>I love this place! I think the staff struggle ...</td>\n",
              "      <td>1</td>\n",
              "      <td>BVxlrYWgmi-8TPGMe6CTpg</td>\n",
              "      <td>2</td>\n",
              "      <td>5</td>\n",
              "      <td>2012-06-15</td>\n",
              "      <td>review</td>\n",
              "      <td>1</td>\n",
              "    </tr>\n",
              "    <tr>\n",
              "      <th>1125455</th>\n",
              "      <td>rtS7mDof5d-cEPBsmVuUJw</td>\n",
              "      <td>0sVK4VUxvj3cy78W0DlvWQ</td>\n",
              "      <td>Perfect little shop to go to if you want to pi...</td>\n",
              "      <td>1</td>\n",
              "      <td>BVxlrYWgmi-8TPGMe6CTpg</td>\n",
              "      <td>0</td>\n",
              "      <td>3</td>\n",
              "      <td>2013-09-17</td>\n",
              "      <td>review</td>\n",
              "      <td>2</td>\n",
              "    </tr>\n",
              "    <tr>\n",
              "      <th>1125456</th>\n",
              "      <td>tZs84cKAUSOtP_nAiSdreQ</td>\n",
              "      <td>Nx88b_tCsP7Oja3PvhR5tQ</td>\n",
              "      <td>I visit here once or twice a month. Just to ge...</td>\n",
              "      <td>1</td>\n",
              "      <td>BVxlrYWgmi-8TPGMe6CTpg</td>\n",
              "      <td>1</td>\n",
              "      <td>4</td>\n",
              "      <td>2013-09-18</td>\n",
              "      <td>review</td>\n",
              "      <td>1</td>\n",
              "    </tr>\n",
              "    <tr>\n",
              "      <th>1125457</th>\n",
              "      <td>LfnB4N7SVSAIPOM3If_kDA</td>\n",
              "      <td>p2KCsYuLHDtXqh1BpR9dGQ</td>\n",
              "      <td>I like this place to pick up a few odds and en...</td>\n",
              "      <td>0</td>\n",
              "      <td>BVxlrYWgmi-8TPGMe6CTpg</td>\n",
              "      <td>0</td>\n",
              "      <td>3</td>\n",
              "      <td>2013-12-17</td>\n",
              "      <td>review</td>\n",
              "      <td>1</td>\n",
              "    </tr>\n",
              "  </tbody>\n",
              "</table>\n",
              "<p>1125457 rows × 10 columns</p>\n",
              "</div>"
            ],
            "text/plain": [
              "                        user_id               review_id  ...    type  votes.useful\n",
              "0        Xqd0DzHaiyRqVH3WRG7hzg  15SdjuK7DmYqUAj6rjGowg  ...  review             2\n",
              "1        H1kH6QZV7Le4zqTRNxoZow  RF6UnRTtG7tWMcrO2GEoAg  ...  review             2\n",
              "2        zvJCcrpm2yOZrxKffwGQLA  -TsVN230RCkLYKBeLsuz7A  ...  review             1\n",
              "3        KBLW4wJA_fwoWmMhiHRVOA  dNocEAyUucjT371NNND41Q  ...  review             0\n",
              "4        zvJCcrpm2yOZrxKffwGQLA  ebcN2aqmNUuYNoyvQErgnA  ...  review             2\n",
              "...                         ...                     ...  ...     ...           ...\n",
              "1125453  lhMo-dGq0V2iKqBIiwUJSg  eujuvkGqy2ssZ9zjdPJrMA  ...  review             1\n",
              "1125454  TTrzXCtB2MZA8Azw56bRlw  vFA5KXUGEH-oMcM6WTC-8w  ...  review             1\n",
              "1125455  rtS7mDof5d-cEPBsmVuUJw  0sVK4VUxvj3cy78W0DlvWQ  ...  review             2\n",
              "1125456  tZs84cKAUSOtP_nAiSdreQ  Nx88b_tCsP7Oja3PvhR5tQ  ...  review             1\n",
              "1125457  LfnB4N7SVSAIPOM3If_kDA  p2KCsYuLHDtXqh1BpR9dGQ  ...  review             1\n",
              "\n",
              "[1125457 rows x 10 columns]"
            ]
          },
          "metadata": {},
          "execution_count": 8
        }
      ]
    },
    {
      "cell_type": "markdown",
      "metadata": {
        "id": "YvCCdDXAw_cc"
      },
      "source": [
        "## **Selecting Required columns from Review Dataset**"
      ]
    },
    {
      "cell_type": "code",
      "metadata": {
        "colab": {
          "base_uri": "https://localhost:8080/",
          "height": 206
        },
        "id": "2MqfUtbyicY2",
        "outputId": "433792d9-082f-42b2-c56f-f1d661f695e4"
      },
      "source": [
        "Review_df  = Review_df[['user_id','text','business_id','stars','type']]\n",
        "Review_df.head(5)"
      ],
      "execution_count": null,
      "outputs": [
        {
          "output_type": "execute_result",
          "data": {
            "text/html": [
              "<div>\n",
              "<style scoped>\n",
              "    .dataframe tbody tr th:only-of-type {\n",
              "        vertical-align: middle;\n",
              "    }\n",
              "\n",
              "    .dataframe tbody tr th {\n",
              "        vertical-align: top;\n",
              "    }\n",
              "\n",
              "    .dataframe thead th {\n",
              "        text-align: right;\n",
              "    }\n",
              "</style>\n",
              "<table border=\"1\" class=\"dataframe\">\n",
              "  <thead>\n",
              "    <tr style=\"text-align: right;\">\n",
              "      <th></th>\n",
              "      <th>user_id</th>\n",
              "      <th>text</th>\n",
              "      <th>business_id</th>\n",
              "      <th>stars</th>\n",
              "      <th>type</th>\n",
              "    </tr>\n",
              "  </thead>\n",
              "  <tbody>\n",
              "    <tr>\n",
              "      <th>0</th>\n",
              "      <td>Xqd0DzHaiyRqVH3WRG7hzg</td>\n",
              "      <td>dr. goldberg offers everything i look for in a...</td>\n",
              "      <td>vcNAWiLM4dR7D2nwwJ7nCA</td>\n",
              "      <td>5</td>\n",
              "      <td>review</td>\n",
              "    </tr>\n",
              "    <tr>\n",
              "      <th>1</th>\n",
              "      <td>H1kH6QZV7Le4zqTRNxoZow</td>\n",
              "      <td>Unfortunately, the frustration of being Dr. Go...</td>\n",
              "      <td>vcNAWiLM4dR7D2nwwJ7nCA</td>\n",
              "      <td>2</td>\n",
              "      <td>review</td>\n",
              "    </tr>\n",
              "    <tr>\n",
              "      <th>2</th>\n",
              "      <td>zvJCcrpm2yOZrxKffwGQLA</td>\n",
              "      <td>Dr. Goldberg has been my doctor for years and ...</td>\n",
              "      <td>vcNAWiLM4dR7D2nwwJ7nCA</td>\n",
              "      <td>4</td>\n",
              "      <td>review</td>\n",
              "    </tr>\n",
              "    <tr>\n",
              "      <th>3</th>\n",
              "      <td>KBLW4wJA_fwoWmMhiHRVOA</td>\n",
              "      <td>Been going to Dr. Goldberg for over 10 years. ...</td>\n",
              "      <td>vcNAWiLM4dR7D2nwwJ7nCA</td>\n",
              "      <td>4</td>\n",
              "      <td>review</td>\n",
              "    </tr>\n",
              "    <tr>\n",
              "      <th>4</th>\n",
              "      <td>zvJCcrpm2yOZrxKffwGQLA</td>\n",
              "      <td>Got a letter in the mail last week that said D...</td>\n",
              "      <td>vcNAWiLM4dR7D2nwwJ7nCA</td>\n",
              "      <td>4</td>\n",
              "      <td>review</td>\n",
              "    </tr>\n",
              "  </tbody>\n",
              "</table>\n",
              "</div>"
            ],
            "text/plain": [
              "                  user_id  ...    type\n",
              "0  Xqd0DzHaiyRqVH3WRG7hzg  ...  review\n",
              "1  H1kH6QZV7Le4zqTRNxoZow  ...  review\n",
              "2  zvJCcrpm2yOZrxKffwGQLA  ...  review\n",
              "3  KBLW4wJA_fwoWmMhiHRVOA  ...  review\n",
              "4  zvJCcrpm2yOZrxKffwGQLA  ...  review\n",
              "\n",
              "[5 rows x 5 columns]"
            ]
          },
          "metadata": {},
          "execution_count": 9
        }
      ]
    },
    {
      "cell_type": "markdown",
      "metadata": {
        "id": "aSys9mo9xIvY"
      },
      "source": [
        "## **The column type of review dataset has same value \"1\"**"
      ]
    },
    {
      "cell_type": "code",
      "metadata": {
        "colab": {
          "base_uri": "https://localhost:8080/",
          "height": 341
        },
        "id": "lz8Uzf-_icWX",
        "outputId": "db4c6276-64e0-46f6-bfe9-879107b19439"
      },
      "source": [
        "import seaborn as sb\n",
        "print(Review_df.type.value_counts())\n",
        "sb.countplot(x='type',data=Review_df)"
      ],
      "execution_count": null,
      "outputs": [
        {
          "name": "stdout",
          "output_type": "stream",
          "text": [
            "review    1125457\n",
            "Name: type, dtype: int64\n"
          ]
        },
        {
          "data": {
            "text/plain": [
              "<matplotlib.axes._subplots.AxesSubplot at 0x7fd4ab73bb50>"
            ]
          },
          "execution_count": 27,
          "metadata": {},
          "output_type": "execute_result"
        },
        {
          "data": {
            "image/png": "[encoded data removed]",
            "text/plain": [
              "<Figure size 432x288 with 1 Axes>"
            ]
          },
          "metadata": {},
          "output_type": "display_data"
        }
      ]
    },
    {
      "cell_type": "markdown",
      "metadata": {
        "id": "KIfMMP3VioxU"
      },
      "source": [
        "## **so we can remove 'type' column because it has only one value**"
      ]
    },
    {
      "cell_type": "code",
      "metadata": {
        "colab": {
          "base_uri": "https://localhost:8080/",
          "height": 206
        },
        "id": "uP04TnR3mVNh",
        "outputId": "35befc88-4ebb-4e2c-f920-66a0bfe3d798"
      },
      "source": [
        "del Review_df['type']\n",
        "Review_df.head()"
      ],
      "execution_count": null,
      "outputs": [
        {
          "output_type": "execute_result",
          "data": {
            "text/html": [
              "<div>\n",
              "<style scoped>\n",
              "    .dataframe tbody tr th:only-of-type {\n",
              "        vertical-align: middle;\n",
              "    }\n",
              "\n",
              "    .dataframe tbody tr th {\n",
              "        vertical-align: top;\n",
              "    }\n",
              "\n",
              "    .dataframe thead th {\n",
              "        text-align: right;\n",
              "    }\n",
              "</style>\n",
              "<table border=\"1\" class=\"dataframe\">\n",
              "  <thead>\n",
              "    <tr style=\"text-align: right;\">\n",
              "      <th></th>\n",
              "      <th>user_id</th>\n",
              "      <th>text</th>\n",
              "      <th>business_id</th>\n",
              "      <th>stars</th>\n",
              "    </tr>\n",
              "  </thead>\n",
              "  <tbody>\n",
              "    <tr>\n",
              "      <th>0</th>\n",
              "      <td>Xqd0DzHaiyRqVH3WRG7hzg</td>\n",
              "      <td>dr. goldberg offers everything i look for in a...</td>\n",
              "      <td>vcNAWiLM4dR7D2nwwJ7nCA</td>\n",
              "      <td>5</td>\n",
              "    </tr>\n",
              "    <tr>\n",
              "      <th>1</th>\n",
              "      <td>H1kH6QZV7Le4zqTRNxoZow</td>\n",
              "      <td>Unfortunately, the frustration of being Dr. Go...</td>\n",
              "      <td>vcNAWiLM4dR7D2nwwJ7nCA</td>\n",
              "      <td>2</td>\n",
              "    </tr>\n",
              "    <tr>\n",
              "      <th>2</th>\n",
              "      <td>zvJCcrpm2yOZrxKffwGQLA</td>\n",
              "      <td>Dr. Goldberg has been my doctor for years and ...</td>\n",
              "      <td>vcNAWiLM4dR7D2nwwJ7nCA</td>\n",
              "      <td>4</td>\n",
              "    </tr>\n",
              "    <tr>\n",
              "      <th>3</th>\n",
              "      <td>KBLW4wJA_fwoWmMhiHRVOA</td>\n",
              "      <td>Been going to Dr. Goldberg for over 10 years. ...</td>\n",
              "      <td>vcNAWiLM4dR7D2nwwJ7nCA</td>\n",
              "      <td>4</td>\n",
              "    </tr>\n",
              "    <tr>\n",
              "      <th>4</th>\n",
              "      <td>zvJCcrpm2yOZrxKffwGQLA</td>\n",
              "      <td>Got a letter in the mail last week that said D...</td>\n",
              "      <td>vcNAWiLM4dR7D2nwwJ7nCA</td>\n",
              "      <td>4</td>\n",
              "    </tr>\n",
              "  </tbody>\n",
              "</table>\n",
              "</div>"
            ],
            "text/plain": [
              "                  user_id  ... stars\n",
              "0  Xqd0DzHaiyRqVH3WRG7hzg  ...     5\n",
              "1  H1kH6QZV7Le4zqTRNxoZow  ...     2\n",
              "2  zvJCcrpm2yOZrxKffwGQLA  ...     4\n",
              "3  KBLW4wJA_fwoWmMhiHRVOA  ...     4\n",
              "4  zvJCcrpm2yOZrxKffwGQLA  ...     4\n",
              "\n",
              "[5 rows x 4 columns]"
            ]
          },
          "metadata": {},
          "execution_count": 10
        }
      ]
    },
    {
      "cell_type": "code",
      "metadata": {
        "colab": {
          "base_uri": "https://localhost:8080/"
        },
        "id": "cx0E1y7dB2Zv",
        "outputId": "7e20872e-25a2-4c02-8f9c-8b530a5dec54"
      },
      "source": [
        "Review_df.shape"
      ],
      "execution_count": null,
      "outputs": [
        {
          "data": {
            "text/plain": [
              "(1125457, 4)"
            ]
          },
          "execution_count": 23,
          "metadata": {},
          "output_type": "execute_result"
        }
      ]
    },
    {
      "cell_type": "markdown",
      "metadata": {
        "id": "9HBUk7tMivW3"
      },
      "source": [
        "## **Bussiness_df - Business data**\n",
        "## **Review_df - Review data**"
      ]
    },
    {
      "cell_type": "markdown",
      "metadata": {
        "id": "TrUhSMd_gl4-"
      },
      "source": [
        "## **Top 10 Highly rated Restaurants**"
      ]
    },
    {
      "cell_type": "code",
      "metadata": {
        "colab": {
          "base_uri": "https://localhost:8080/"
        },
        "id": "aS_F0A28fGNZ",
        "outputId": "39ee3dbf-b99d-4370-cef5-4419eabf670f"
      },
      "source": [
        "res = Bussiness_df.loc[Bussiness_df['stars']==5.0].name.values\n",
        "for i in range(10):\n",
        "  print('\\033[1m'+res[i]+'\\033[0m')\n",
        "  print(\"\")"
      ],
      "execution_count": null,
      "outputs": [
        {
          "name": "stdout",
          "output_type": "stream",
          "text": [
            "\u001b[1mParsonage Bed & Breakfast the\u001b[0m\n",
            "\n",
            "\u001b[1mHarbor Athletic Club\u001b[0m\n",
            "\n",
            "\u001b[1mLori's Pet-Agree Salon Llc\u001b[0m\n",
            "\n",
            "\u001b[1mKillian Dental Clinic\u001b[0m\n",
            "\n",
            "\u001b[1mAll Pets Veterinary Clinic\u001b[0m\n",
            "\n",
            "\u001b[1mAce Hardware\u001b[0m\n",
            "\n",
            "\u001b[1mRevolution Hair Company Inc\u001b[0m\n",
            "\n",
            "\u001b[1mBennett's Auto Repair LLC\u001b[0m\n",
            "\n",
            "\u001b[1mDunn's Import Inc\u001b[0m\n",
            "\n",
            "\u001b[1mSun Prairie Public Library\u001b[0m\n",
            "\n"
          ]
        }
      ]
    },
    {
      "cell_type": "markdown",
      "metadata": {
        "id": "ZdWA1-9bjBe4"
      },
      "source": [
        "## **Review_df is main important data for visualization**"
      ]
    },
    {
      "cell_type": "markdown",
      "metadata": {
        "id": "YYKqxFWVuABK"
      },
      "source": [
        "## **Number of users given for each star**"
      ]
    },
    {
      "cell_type": "code",
      "metadata": {
        "colab": {
          "base_uri": "https://localhost:8080/",
          "height": 296
        },
        "id": "hjcuzS_r7NKs",
        "outputId": "e939e17e-ca6f-4aa5-db66-2cedf4fc1032"
      },
      "source": [
        "import matplotlib.pyplot as plt\n",
        "import seaborn as sb\n",
        "plt.style.use('dark_background')\n",
        "sb.countplot(x='stars',data=Review_df)\n"
      ],
      "execution_count": null,
      "outputs": [
        {
          "data": {
            "text/plain": [
              "<matplotlib.axes._subplots.AxesSubplot at 0x7fd4cda6b1d0>"
            ]
          },
          "execution_count": 17,
          "metadata": {},
          "output_type": "execute_result"
        },
        {
          "data": {
            "image/png": "[encoded data removed]",
            "text/plain": [
              "<Figure size 432x288 with 1 Axes>"
            ]
          },
          "metadata": {},
          "output_type": "display_data"
        }
      ]
    },
    {
      "cell_type": "markdown",
      "metadata": {
        "id": "A4z9tdNj7c2L"
      },
      "source": [
        "## **Number of Restaurants**"
      ]
    },
    {
      "cell_type": "code",
      "metadata": {
        "colab": {
          "base_uri": "https://localhost:8080/"
        },
        "id": "t2YKdCgT7NIf",
        "outputId": "98f27a6b-cca2-4e1b-cbfd-1a17bdf6db4e"
      },
      "source": [
        "n = len(pd.unique(Bussiness_df['name']))\n",
        "n"
      ],
      "execution_count": null,
      "outputs": [
        {
          "data": {
            "text/plain": [
              "30671"
            ]
          },
          "execution_count": 23,
          "metadata": {},
          "output_type": "execute_result"
        }
      ]
    },
    {
      "cell_type": "markdown",
      "metadata": {
        "id": "oyr6S0_ztyiL"
      },
      "source": [
        "## **Number of users count in each state**"
      ]
    },
    {
      "cell_type": "code",
      "metadata": {
        "colab": {
          "base_uri": "https://localhost:8080/",
          "height": 762
        },
        "id": "8TnTUBIa7NF2",
        "outputId": "4afbe3aa-2a9a-4ae5-d62c-bcb1db39bbac"
      },
      "source": [
        "fig, ax = plt.subplots(figsize=(12, 7))\n",
        "print(Bussiness_df.state.value_counts())\n",
        "plt.style.use('dark_background')\n",
        "sb.countplot(x='state',data=Bussiness_df, ax=ax)\n",
        "plt.show()"
      ],
      "execution_count": null,
      "outputs": [
        {
          "name": "stdout",
          "output_type": "stream",
          "text": [
            "AZ     22011\n",
            "NV     14444\n",
            "EDH     2832\n",
            "WI      2105\n",
            "ON       297\n",
            "MLN      102\n",
            "ELN        8\n",
            "FIF        3\n",
            "NY         2\n",
            "SCB        2\n",
            "XGL        1\n",
            "KHL        1\n",
            "MN         1\n",
            "CA         1\n",
            "NC         1\n",
            "NTH        1\n",
            "GA         1\n",
            "MA         1\n",
            "Name: state, dtype: int64\n"
          ]
        },
        {
          "data": {
            "image/png": "[encoded data removed]",
            "text/plain": [
              "<Figure size 864x504 with 1 Axes>"
            ]
          },
          "metadata": {},
          "output_type": "display_data"
        }
      ]
    },
    {
      "cell_type": "markdown",
      "metadata": {
        "id": "5F1rCT1OtpmK"
      },
      "source": [
        "## **Average number of stars in each state**"
      ]
    },
    {
      "cell_type": "code",
      "metadata": {
        "colab": {
          "base_uri": "https://localhost:8080/",
          "height": 442
        },
        "id": "Ro9jrGNbDspE",
        "outputId": "e44e735b-b068-43bf-a0d2-2160bec7398d"
      },
      "source": [
        "x1 = Bussiness_df.groupby('state').mean()['stars']\n",
        "plt.figure(figsize=(12, 7))\n",
        "plt.style.use('dark_background')\n",
        "plt.plot(x1,c='r')\n",
        "plt.xlabel('state')\n",
        "plt.ylabel('Average stars')\n",
        "\n",
        "plt.show()"
      ],
      "execution_count": null,
      "outputs": [
        {
          "data": {
            "image/png": "[encoded data removed]",
            "text/plain": [
              "<Figure size 864x504 with 1 Axes>"
            ]
          },
          "metadata": {},
          "output_type": "display_data"
        }
      ]
    },
    {
      "cell_type": "markdown",
      "metadata": {
        "id": "mzzvWqvitgxc"
      },
      "source": [
        "## **Range of stars given in each state**"
      ]
    },
    {
      "cell_type": "code",
      "metadata": {
        "colab": {
          "base_uri": "https://localhost:8080/",
          "height": 442
        },
        "id": "KRqIMDSY5zRZ",
        "outputId": "1baea709-20d1-4d9a-9412-bd4febf85bb8"
      },
      "source": [
        "import seaborn as sns\n",
        "import matplotlib.pyplot as plt\n",
        "plt.style.use('dark_background')\n",
        "plt.figure(figsize=(12, 7))\n",
        "x1 = Bussiness_df.groupby('state').mean()['stars']\n",
        "sns.boxplot(x= 'state',y = 'stars',data=Bussiness_df)\n",
        "sns.stripplot(x= 'state',y = 'stars',data=Bussiness_df)\n",
        "plt.show()"
      ],
      "execution_count": null,
      "outputs": [
        {
          "data": {
            "image/png": "[encoded data removed]",
            "text/plain": [
              "<Figure size 864x504 with 1 Axes>"
            ]
          },
          "metadata": {},
          "output_type": "display_data"
        }
      ]
    },
    {
      "cell_type": "markdown",
      "metadata": {
        "id": "edL44B5c8M4c"
      },
      "source": [
        "## **We taken 2 lakth rows inorder to manage Ram, Storage and Time issues**"
      ]
    },
    {
      "cell_type": "code",
      "metadata": {
        "id": "fADtSRBDPzBa"
      },
      "source": [
        "Review_df = Review_df.iloc[:200000,:]"
      ],
      "execution_count": null,
      "outputs": []
    },
    {
      "cell_type": "markdown",
      "metadata": {
        "id": "OeMXqUlGjQC0"
      },
      "source": [
        "## **Remove integer valus in text for model to increase accuracy**"
      ]
    },
    {
      "cell_type": "code",
      "metadata": {
        "id": "9qbOgXU517s4"
      },
      "source": [
        "num = ['1','2','3','4','5','6','7','8','9','0']\n",
        "def text_process_num(mess):\n",
        "  nopunc = [char for char in mess if char not in num]\n",
        "  nopunc = ''.join(nopunc)\n",
        "  return nopunc"
      ],
      "execution_count": null,
      "outputs": []
    },
    {
      "cell_type": "code",
      "metadata": {
        "id": "IeQ5d07t2WZa"
      },
      "source": [
        "Review_df['text'] = Review_df['text'].apply(text_process_num)"
      ],
      "execution_count": null,
      "outputs": []
    },
    {
      "cell_type": "code",
      "metadata": {
        "colab": {
          "base_uri": "https://localhost:8080/",
          "height": 203
        },
        "id": "acHjI3pz4a3b",
        "outputId": "ba9544db-d79c-440a-8de9-bf238d5c3aab"
      },
      "source": [
        "Review_df.head(5)"
      ],
      "execution_count": null,
      "outputs": [
        {
          "data": {
            "text/html": [
              "<div>\n",
              "<style scoped>\n",
              "    .dataframe tbody tr th:only-of-type {\n",
              "        vertical-align: middle;\n",
              "    }\n",
              "\n",
              "    .dataframe tbody tr th {\n",
              "        vertical-align: top;\n",
              "    }\n",
              "\n",
              "    .dataframe thead th {\n",
              "        text-align: right;\n",
              "    }\n",
              "</style>\n",
              "<table border=\"1\" class=\"dataframe\">\n",
              "  <thead>\n",
              "    <tr style=\"text-align: right;\">\n",
              "      <th></th>\n",
              "      <th>user_id</th>\n",
              "      <th>text</th>\n",
              "      <th>business_id</th>\n",
              "      <th>stars</th>\n",
              "    </tr>\n",
              "  </thead>\n",
              "  <tbody>\n",
              "    <tr>\n",
              "      <th>0</th>\n",
              "      <td>Xqd0DzHaiyRqVH3WRG7hzg</td>\n",
              "      <td>dr goldberg offers everything i look for in a ...</td>\n",
              "      <td>vcNAWiLM4dR7D2nwwJ7nCA</td>\n",
              "      <td>5</td>\n",
              "    </tr>\n",
              "    <tr>\n",
              "      <th>1</th>\n",
              "      <td>H1kH6QZV7Le4zqTRNxoZow</td>\n",
              "      <td>Unfortunately the frustration of being Dr Gold...</td>\n",
              "      <td>vcNAWiLM4dR7D2nwwJ7nCA</td>\n",
              "      <td>2</td>\n",
              "    </tr>\n",
              "    <tr>\n",
              "      <th>2</th>\n",
              "      <td>zvJCcrpm2yOZrxKffwGQLA</td>\n",
              "      <td>Dr Goldberg has been my doctor for years and I...</td>\n",
              "      <td>vcNAWiLM4dR7D2nwwJ7nCA</td>\n",
              "      <td>4</td>\n",
              "    </tr>\n",
              "    <tr>\n",
              "      <th>3</th>\n",
              "      <td>KBLW4wJA_fwoWmMhiHRVOA</td>\n",
              "      <td>Been going to Dr Goldberg for over  years I th...</td>\n",
              "      <td>vcNAWiLM4dR7D2nwwJ7nCA</td>\n",
              "      <td>4</td>\n",
              "    </tr>\n",
              "    <tr>\n",
              "      <th>4</th>\n",
              "      <td>zvJCcrpm2yOZrxKffwGQLA</td>\n",
              "      <td>Got a letter in the mail last week that said D...</td>\n",
              "      <td>vcNAWiLM4dR7D2nwwJ7nCA</td>\n",
              "      <td>4</td>\n",
              "    </tr>\n",
              "  </tbody>\n",
              "</table>\n",
              "</div>"
            ],
            "text/plain": [
              "                  user_id  ... stars\n",
              "0  Xqd0DzHaiyRqVH3WRG7hzg  ...     5\n",
              "1  H1kH6QZV7Le4zqTRNxoZow  ...     2\n",
              "2  zvJCcrpm2yOZrxKffwGQLA  ...     4\n",
              "3  KBLW4wJA_fwoWmMhiHRVOA  ...     4\n",
              "4  zvJCcrpm2yOZrxKffwGQLA  ...     4\n",
              "\n",
              "[5 rows x 4 columns]"
            ]
          },
          "execution_count": 22,
          "metadata": {},
          "output_type": "execute_result"
        }
      ]
    },
    {
      "cell_type": "markdown",
      "metadata": {
        "id": "bcx6E3Dfj6hu"
      },
      "source": [
        "## **Remove punctuations from text for model to increase accuracy**"
      ]
    },
    {
      "cell_type": "code",
      "metadata": {
        "id": "ARrQTP8BU0Iq"
      },
      "source": [
        "def text_process(mess):\n",
        "\n",
        "    # Check characters to see if they are in punctuation\n",
        "    nopunc = [char for char in mess if char not in string.punctuation]\n",
        "    \n",
        "    # Join the characters again to form the string.\n",
        "    nopunc = ''.join(nopunc)\n",
        "    \n",
        "    return nopunc"
      ],
      "execution_count": null,
      "outputs": []
    },
    {
      "cell_type": "code",
      "metadata": {
        "id": "xALydwcMU40p"
      },
      "source": [
        "#clean text\n",
        "Review_df['text'] = Review_df['text'].apply(text_process)"
      ],
      "execution_count": null,
      "outputs": []
    },
    {
      "cell_type": "code",
      "metadata": {
        "colab": {
          "base_uri": "https://localhost:8080/",
          "height": 203
        },
        "id": "MP3w1OT_fII3",
        "outputId": "f155d788-bff9-45c1-80b0-7cdb114355fc"
      },
      "source": [
        "Review_df.head()"
      ],
      "execution_count": null,
      "outputs": [
        {
          "data": {
            "text/html": [
              "<div>\n",
              "<style scoped>\n",
              "    .dataframe tbody tr th:only-of-type {\n",
              "        vertical-align: middle;\n",
              "    }\n",
              "\n",
              "    .dataframe tbody tr th {\n",
              "        vertical-align: top;\n",
              "    }\n",
              "\n",
              "    .dataframe thead th {\n",
              "        text-align: right;\n",
              "    }\n",
              "</style>\n",
              "<table border=\"1\" class=\"dataframe\">\n",
              "  <thead>\n",
              "    <tr style=\"text-align: right;\">\n",
              "      <th></th>\n",
              "      <th>user_id</th>\n",
              "      <th>text</th>\n",
              "      <th>business_id</th>\n",
              "      <th>stars</th>\n",
              "    </tr>\n",
              "  </thead>\n",
              "  <tbody>\n",
              "    <tr>\n",
              "      <th>0</th>\n",
              "      <td>Xqd0DzHaiyRqVH3WRG7hzg</td>\n",
              "      <td>dr goldberg offers everything i look for in a ...</td>\n",
              "      <td>vcNAWiLM4dR7D2nwwJ7nCA</td>\n",
              "      <td>5</td>\n",
              "    </tr>\n",
              "    <tr>\n",
              "      <th>1</th>\n",
              "      <td>H1kH6QZV7Le4zqTRNxoZow</td>\n",
              "      <td>Unfortunately the frustration of being Dr Gold...</td>\n",
              "      <td>vcNAWiLM4dR7D2nwwJ7nCA</td>\n",
              "      <td>2</td>\n",
              "    </tr>\n",
              "    <tr>\n",
              "      <th>2</th>\n",
              "      <td>zvJCcrpm2yOZrxKffwGQLA</td>\n",
              "      <td>Dr Goldberg has been my doctor for years and I...</td>\n",
              "      <td>vcNAWiLM4dR7D2nwwJ7nCA</td>\n",
              "      <td>4</td>\n",
              "    </tr>\n",
              "    <tr>\n",
              "      <th>3</th>\n",
              "      <td>KBLW4wJA_fwoWmMhiHRVOA</td>\n",
              "      <td>Been going to Dr Goldberg for over  years I th...</td>\n",
              "      <td>vcNAWiLM4dR7D2nwwJ7nCA</td>\n",
              "      <td>4</td>\n",
              "    </tr>\n",
              "    <tr>\n",
              "      <th>4</th>\n",
              "      <td>zvJCcrpm2yOZrxKffwGQLA</td>\n",
              "      <td>Got a letter in the mail last week that said D...</td>\n",
              "      <td>vcNAWiLM4dR7D2nwwJ7nCA</td>\n",
              "      <td>4</td>\n",
              "    </tr>\n",
              "  </tbody>\n",
              "</table>\n",
              "</div>"
            ],
            "text/plain": [
              "                  user_id  ... stars\n",
              "0  Xqd0DzHaiyRqVH3WRG7hzg  ...     5\n",
              "1  H1kH6QZV7Le4zqTRNxoZow  ...     2\n",
              "2  zvJCcrpm2yOZrxKffwGQLA  ...     4\n",
              "3  KBLW4wJA_fwoWmMhiHRVOA  ...     4\n",
              "4  zvJCcrpm2yOZrxKffwGQLA  ...     4\n",
              "\n",
              "[5 rows x 4 columns]"
            ]
          },
          "execution_count": 15,
          "metadata": {},
          "output_type": "execute_result"
        }
      ]
    },
    {
      "cell_type": "markdown",
      "metadata": {
        "id": "s9Zn0KuMkMY_"
      },
      "source": [
        "## **Creating new data frames for predictions**"
      ]
    },
    {
      "cell_type": "code",
      "metadata": {
        "id": "4W257cKk5eTg"
      },
      "source": [
        "userid_df = Review_df[['user_id','text']]"
      ],
      "execution_count": null,
      "outputs": []
    },
    {
      "cell_type": "code",
      "metadata": {
        "id": "DaLSU74jAv5b"
      },
      "source": [
        "business_df = Review_df[['business_id', 'text']]"
      ],
      "execution_count": null,
      "outputs": []
    },
    {
      "cell_type": "code",
      "metadata": {
        "colab": {
          "base_uri": "https://localhost:8080/",
          "height": 203
        },
        "id": "h7TL-5nrAQyf",
        "outputId": "9f2d53e7-893b-48f2-d311-d586d606571a"
      },
      "source": [
        "userid_df.head()"
      ],
      "execution_count": null,
      "outputs": [
        {
          "data": {
            "text/html": [
              "<div>\n",
              "<style scoped>\n",
              "    .dataframe tbody tr th:only-of-type {\n",
              "        vertical-align: middle;\n",
              "    }\n",
              "\n",
              "    .dataframe tbody tr th {\n",
              "        vertical-align: top;\n",
              "    }\n",
              "\n",
              "    .dataframe thead th {\n",
              "        text-align: right;\n",
              "    }\n",
              "</style>\n",
              "<table border=\"1\" class=\"dataframe\">\n",
              "  <thead>\n",
              "    <tr style=\"text-align: right;\">\n",
              "      <th></th>\n",
              "      <th>user_id</th>\n",
              "      <th>text</th>\n",
              "    </tr>\n",
              "  </thead>\n",
              "  <tbody>\n",
              "    <tr>\n",
              "      <th>0</th>\n",
              "      <td>Xqd0DzHaiyRqVH3WRG7hzg</td>\n",
              "      <td>dr goldberg offers everything i look for in a ...</td>\n",
              "    </tr>\n",
              "    <tr>\n",
              "      <th>1</th>\n",
              "      <td>H1kH6QZV7Le4zqTRNxoZow</td>\n",
              "      <td>Unfortunately the frustration of being Dr Gold...</td>\n",
              "    </tr>\n",
              "    <tr>\n",
              "      <th>2</th>\n",
              "      <td>zvJCcrpm2yOZrxKffwGQLA</td>\n",
              "      <td>Dr Goldberg has been my doctor for years and I...</td>\n",
              "    </tr>\n",
              "    <tr>\n",
              "      <th>3</th>\n",
              "      <td>KBLW4wJA_fwoWmMhiHRVOA</td>\n",
              "      <td>Been going to Dr Goldberg for over  years I th...</td>\n",
              "    </tr>\n",
              "    <tr>\n",
              "      <th>4</th>\n",
              "      <td>zvJCcrpm2yOZrxKffwGQLA</td>\n",
              "      <td>Got a letter in the mail last week that said D...</td>\n",
              "    </tr>\n",
              "  </tbody>\n",
              "</table>\n",
              "</div>"
            ],
            "text/plain": [
              "                  user_id                                               text\n",
              "0  Xqd0DzHaiyRqVH3WRG7hzg  dr goldberg offers everything i look for in a ...\n",
              "1  H1kH6QZV7Le4zqTRNxoZow  Unfortunately the frustration of being Dr Gold...\n",
              "2  zvJCcrpm2yOZrxKffwGQLA  Dr Goldberg has been my doctor for years and I...\n",
              "3  KBLW4wJA_fwoWmMhiHRVOA  Been going to Dr Goldberg for over  years I th...\n",
              "4  zvJCcrpm2yOZrxKffwGQLA  Got a letter in the mail last week that said D..."
            ]
          },
          "execution_count": 17,
          "metadata": {},
          "output_type": "execute_result"
        }
      ]
    },
    {
      "cell_type": "code",
      "metadata": {
        "colab": {
          "base_uri": "https://localhost:8080/",
          "height": 203
        },
        "id": "cH8ACQNG5eJf",
        "outputId": "57d7de18-87e2-4957-dce1-2d6c34fe382b"
      },
      "source": [
        "business_df.head()"
      ],
      "execution_count": null,
      "outputs": [
        {
          "data": {
            "text/html": [
              "<div>\n",
              "<style scoped>\n",
              "    .dataframe tbody tr th:only-of-type {\n",
              "        vertical-align: middle;\n",
              "    }\n",
              "\n",
              "    .dataframe tbody tr th {\n",
              "        vertical-align: top;\n",
              "    }\n",
              "\n",
              "    .dataframe thead th {\n",
              "        text-align: right;\n",
              "    }\n",
              "</style>\n",
              "<table border=\"1\" class=\"dataframe\">\n",
              "  <thead>\n",
              "    <tr style=\"text-align: right;\">\n",
              "      <th></th>\n",
              "      <th>business_id</th>\n",
              "      <th>text</th>\n",
              "    </tr>\n",
              "  </thead>\n",
              "  <tbody>\n",
              "    <tr>\n",
              "      <th>0</th>\n",
              "      <td>vcNAWiLM4dR7D2nwwJ7nCA</td>\n",
              "      <td>dr goldberg offers everything i look for in a ...</td>\n",
              "    </tr>\n",
              "    <tr>\n",
              "      <th>1</th>\n",
              "      <td>vcNAWiLM4dR7D2nwwJ7nCA</td>\n",
              "      <td>Unfortunately the frustration of being Dr Gold...</td>\n",
              "    </tr>\n",
              "    <tr>\n",
              "      <th>2</th>\n",
              "      <td>vcNAWiLM4dR7D2nwwJ7nCA</td>\n",
              "      <td>Dr Goldberg has been my doctor for years and I...</td>\n",
              "    </tr>\n",
              "    <tr>\n",
              "      <th>3</th>\n",
              "      <td>vcNAWiLM4dR7D2nwwJ7nCA</td>\n",
              "      <td>Been going to Dr Goldberg for over  years I th...</td>\n",
              "    </tr>\n",
              "    <tr>\n",
              "      <th>4</th>\n",
              "      <td>vcNAWiLM4dR7D2nwwJ7nCA</td>\n",
              "      <td>Got a letter in the mail last week that said D...</td>\n",
              "    </tr>\n",
              "  </tbody>\n",
              "</table>\n",
              "</div>"
            ],
            "text/plain": [
              "              business_id                                               text\n",
              "0  vcNAWiLM4dR7D2nwwJ7nCA  dr goldberg offers everything i look for in a ...\n",
              "1  vcNAWiLM4dR7D2nwwJ7nCA  Unfortunately the frustration of being Dr Gold...\n",
              "2  vcNAWiLM4dR7D2nwwJ7nCA  Dr Goldberg has been my doctor for years and I...\n",
              "3  vcNAWiLM4dR7D2nwwJ7nCA  Been going to Dr Goldberg for over  years I th...\n",
              "4  vcNAWiLM4dR7D2nwwJ7nCA  Got a letter in the mail last week that said D..."
            ]
          },
          "execution_count": 18,
          "metadata": {},
          "output_type": "execute_result"
        }
      ]
    },
    {
      "cell_type": "code",
      "metadata": {
        "colab": {
          "base_uri": "https://localhost:8080/"
        },
        "id": "1n-I4tPVpIFA",
        "outputId": "4029ce11-0781-4faf-a951-a7bdc9c9906c"
      },
      "source": [
        "print(business_df.shape,userid_df.shape)"
      ],
      "execution_count": null,
      "outputs": [
        {
          "name": "stdout",
          "output_type": "stream",
          "text": [
            "(1125457, 2) (1125457, 2)\n"
          ]
        }
      ]
    },
    {
      "cell_type": "markdown",
      "metadata": {
        "id": "GN9elBbfvGT-"
      },
      "source": [
        "## **Merging all duplicate reviews of the users**"
      ]
    },
    {
      "cell_type": "code",
      "metadata": {
        "id": "Nph-JHRxpQBj"
      },
      "source": [
        "userid_df = userid_df.groupby('user_id',as_index=False).agg({'text': ' '.join})"
      ],
      "execution_count": null,
      "outputs": []
    },
    {
      "cell_type": "code",
      "metadata": {
        "id": "a99BsLM_A0Qz"
      },
      "source": [
        "business_df = business_df.groupby('business_id',as_index=False).agg({'text': ' '.join})"
      ],
      "execution_count": null,
      "outputs": []
    },
    {
      "cell_type": "code",
      "metadata": {
        "colab": {
          "base_uri": "https://localhost:8080/",
          "height": 203
        },
        "id": "LXRCBkLe1YRf",
        "outputId": "0821f11e-5848-427e-d92f-39d69b62e4ff"
      },
      "source": [
        "business_df.head()"
      ],
      "execution_count": null,
      "outputs": [
        {
          "data": {
            "text/html": [
              "<div>\n",
              "<style scoped>\n",
              "    .dataframe tbody tr th:only-of-type {\n",
              "        vertical-align: middle;\n",
              "    }\n",
              "\n",
              "    .dataframe tbody tr th {\n",
              "        vertical-align: top;\n",
              "    }\n",
              "\n",
              "    .dataframe thead th {\n",
              "        text-align: right;\n",
              "    }\n",
              "</style>\n",
              "<table border=\"1\" class=\"dataframe\">\n",
              "  <thead>\n",
              "    <tr style=\"text-align: right;\">\n",
              "      <th></th>\n",
              "      <th>business_id</th>\n",
              "      <th>text</th>\n",
              "    </tr>\n",
              "  </thead>\n",
              "  <tbody>\n",
              "    <tr>\n",
              "      <th>0</th>\n",
              "      <td>--XBxRlD92RaV6TyUnP8Ow</td>\n",
              "      <td>Yo their store is awesome  That dude Richard i...</td>\n",
              "    </tr>\n",
              "    <tr>\n",
              "      <th>1</th>\n",
              "      <td>--sSW-WY3vyASh_eVPGUAw</td>\n",
              "      <td>Worst BofA EVER  I will readily drive to the o...</td>\n",
              "    </tr>\n",
              "    <tr>\n",
              "      <th>2</th>\n",
              "      <td>-0HGqwlfw3I8nkJyMHxAsQ</td>\n",
              "      <td>Why  stars Its McDonalds thats why Its consist...</td>\n",
              "    </tr>\n",
              "    <tr>\n",
              "      <th>3</th>\n",
              "      <td>-0QBrNvhrPQCaeo7mTo0zQ</td>\n",
              "      <td>Best shrimp burros If it wasnt in the hood  ma...</td>\n",
              "    </tr>\n",
              "    <tr>\n",
              "      <th>4</th>\n",
              "      <td>-0bUDim5OGuv8R0Qqq6J4A</td>\n",
              "      <td>Stopped in for a Sunday Breakfast before a bas...</td>\n",
              "    </tr>\n",
              "  </tbody>\n",
              "</table>\n",
              "</div>"
            ],
            "text/plain": [
              "              business_id                                               text\n",
              "0  --XBxRlD92RaV6TyUnP8Ow  Yo their store is awesome  That dude Richard i...\n",
              "1  --sSW-WY3vyASh_eVPGUAw  Worst BofA EVER  I will readily drive to the o...\n",
              "2  -0HGqwlfw3I8nkJyMHxAsQ  Why  stars Its McDonalds thats why Its consist...\n",
              "3  -0QBrNvhrPQCaeo7mTo0zQ  Best shrimp burros If it wasnt in the hood  ma...\n",
              "4  -0bUDim5OGuv8R0Qqq6J4A  Stopped in for a Sunday Breakfast before a bas..."
            ]
          },
          "execution_count": 29,
          "metadata": {},
          "output_type": "execute_result"
        }
      ]
    },
    {
      "cell_type": "code",
      "metadata": {
        "colab": {
          "base_uri": "https://localhost:8080/"
        },
        "id": "rIyzhaH5v6Nn",
        "outputId": "8f6aae7e-bdc3-4c80-bb81-b24095fe478f"
      },
      "source": [
        "print(business_df.shape,userid_df.shape)"
      ],
      "execution_count": null,
      "outputs": [
        {
          "name": "stdout",
          "output_type": "stream",
          "text": [
            "(10164, 2) (74604, 2)\n"
          ]
        }
      ]
    },
    {
      "cell_type": "markdown",
      "metadata": {
        "id": "rm8ITn-Zvc9a"
      },
      "source": [
        "## **Here we merged business_df and Bussiness_df to get names of restaurants bu business_id**"
      ]
    },
    {
      "cell_type": "code",
      "metadata": {
        "id": "o_PobtyB1Q4z"
      },
      "source": [
        "business_df = business_df.merge(Bussiness_df, on='business_id', how='right')"
      ],
      "execution_count": null,
      "outputs": []
    },
    {
      "cell_type": "code",
      "metadata": {
        "colab": {
          "base_uri": "https://localhost:8080/",
          "height": 203
        },
        "id": "5B4kiKfIsCRY",
        "outputId": "7d117f10-fced-4d6d-a97b-23acaaa65586"
      },
      "source": [
        "business_df.head()"
      ],
      "execution_count": null,
      "outputs": [
        {
          "data": {
            "text/html": [
              "<div>\n",
              "<style scoped>\n",
              "    .dataframe tbody tr th:only-of-type {\n",
              "        vertical-align: middle;\n",
              "    }\n",
              "\n",
              "    .dataframe tbody tr th {\n",
              "        vertical-align: top;\n",
              "    }\n",
              "\n",
              "    .dataframe thead th {\n",
              "        text-align: right;\n",
              "    }\n",
              "</style>\n",
              "<table border=\"1\" class=\"dataframe\">\n",
              "  <thead>\n",
              "    <tr style=\"text-align: right;\">\n",
              "      <th></th>\n",
              "      <th>business_id</th>\n",
              "      <th>text</th>\n",
              "      <th>categories</th>\n",
              "      <th>name</th>\n",
              "      <th>review_count</th>\n",
              "      <th>state</th>\n",
              "      <th>stars</th>\n",
              "    </tr>\n",
              "  </thead>\n",
              "  <tbody>\n",
              "    <tr>\n",
              "      <th>0</th>\n",
              "      <td>vcNAWiLM4dR7D2nwwJ7nCA</td>\n",
              "      <td>dr goldberg offers everything i look for in a ...</td>\n",
              "      <td>Doctors;Health &amp; Medical</td>\n",
              "      <td>Eric Goldberg, MD</td>\n",
              "      <td>7</td>\n",
              "      <td>AZ</td>\n",
              "      <td>3.5</td>\n",
              "    </tr>\n",
              "    <tr>\n",
              "      <th>1</th>\n",
              "      <td>JwUE5GmEO-sH1FuwJgKBlQ</td>\n",
              "      <td>Pretty good dinner with a nice selection of fo...</td>\n",
              "      <td>Restaurants</td>\n",
              "      <td>Pine Cone Restaurant</td>\n",
              "      <td>26</td>\n",
              "      <td>WI</td>\n",
              "      <td>4.0</td>\n",
              "    </tr>\n",
              "    <tr>\n",
              "      <th>2</th>\n",
              "      <td>uGykseHzyS5xAMWoN6YUqA</td>\n",
              "      <td>A really lovely surprise on a rather horrific ...</td>\n",
              "      <td>American (Traditional);Restaurants</td>\n",
              "      <td>Deforest Family Restaurant</td>\n",
              "      <td>16</td>\n",
              "      <td>WI</td>\n",
              "      <td>4.0</td>\n",
              "    </tr>\n",
              "    <tr>\n",
              "      <th>3</th>\n",
              "      <td>LRKJF43s9-3jG9Lgx4zODg</td>\n",
              "      <td>Californians are all about the InNOut where yo...</td>\n",
              "      <td>Food;Ice Cream &amp; Frozen Yogurt;Fast Food;Resta...</td>\n",
              "      <td>Culver's</td>\n",
              "      <td>7</td>\n",
              "      <td>WI</td>\n",
              "      <td>4.5</td>\n",
              "    </tr>\n",
              "    <tr>\n",
              "      <th>4</th>\n",
              "      <td>RgDg-k9S5YD_BaxMckifkg</td>\n",
              "      <td>I really like both Chinese restaurants in town...</td>\n",
              "      <td>Chinese;Restaurants</td>\n",
              "      <td>Chang Jiang Chinese Kitchen</td>\n",
              "      <td>3</td>\n",
              "      <td>WI</td>\n",
              "      <td>4.0</td>\n",
              "    </tr>\n",
              "  </tbody>\n",
              "</table>\n",
              "</div>"
            ],
            "text/plain": [
              "              business_id  ... stars\n",
              "0  vcNAWiLM4dR7D2nwwJ7nCA  ...   3.5\n",
              "1  JwUE5GmEO-sH1FuwJgKBlQ  ...   4.0\n",
              "2  uGykseHzyS5xAMWoN6YUqA  ...   4.0\n",
              "3  LRKJF43s9-3jG9Lgx4zODg  ...   4.5\n",
              "4  RgDg-k9S5YD_BaxMckifkg  ...   4.0\n",
              "\n",
              "[5 rows x 7 columns]"
            ]
          },
          "execution_count": 32,
          "metadata": {},
          "output_type": "execute_result"
        }
      ]
    },
    {
      "cell_type": "code",
      "metadata": {
        "id": "76emLa6rNo7z"
      },
      "source": [
        "business_df.dropna(inplace=True)"
      ],
      "execution_count": null,
      "outputs": []
    },
    {
      "cell_type": "code",
      "metadata": {
        "colab": {
          "base_uri": "https://localhost:8080/"
        },
        "id": "4KBdLi3sN5tZ",
        "outputId": "6a0a87b8-b011-43fe-e48b-d705e8dc4cdd"
      },
      "source": [
        "business_df.shape"
      ],
      "execution_count": null,
      "outputs": [
        {
          "data": {
            "text/plain": [
              "(9910, 7)"
            ]
          },
          "execution_count": 34,
          "metadata": {},
          "output_type": "execute_result"
        }
      ]
    },
    {
      "cell_type": "markdown",
      "metadata": {
        "id": "y-s9wKqG9e-9"
      },
      "source": [
        "## **Removed review_count column because it is not needed**"
      ]
    },
    {
      "cell_type": "code",
      "metadata": {
        "id": "nklO2Se0N_vB"
      },
      "source": [
        "\n",
        "del business_df['review_count']"
      ],
      "execution_count": null,
      "outputs": []
    },
    {
      "cell_type": "code",
      "metadata": {
        "colab": {
          "base_uri": "https://localhost:8080/",
          "height": 203
        },
        "id": "PtmlSPXfPeKn",
        "outputId": "fda2b120-3356-4c2a-a1d8-d33e5be6c335"
      },
      "source": [
        "business_df.head()"
      ],
      "execution_count": null,
      "outputs": [
        {
          "data": {
            "text/html": [
              "<div>\n",
              "<style scoped>\n",
              "    .dataframe tbody tr th:only-of-type {\n",
              "        vertical-align: middle;\n",
              "    }\n",
              "\n",
              "    .dataframe tbody tr th {\n",
              "        vertical-align: top;\n",
              "    }\n",
              "\n",
              "    .dataframe thead th {\n",
              "        text-align: right;\n",
              "    }\n",
              "</style>\n",
              "<table border=\"1\" class=\"dataframe\">\n",
              "  <thead>\n",
              "    <tr style=\"text-align: right;\">\n",
              "      <th></th>\n",
              "      <th>business_id</th>\n",
              "      <th>text</th>\n",
              "      <th>categories</th>\n",
              "      <th>name</th>\n",
              "      <th>state</th>\n",
              "      <th>stars</th>\n",
              "    </tr>\n",
              "  </thead>\n",
              "  <tbody>\n",
              "    <tr>\n",
              "      <th>0</th>\n",
              "      <td>vcNAWiLM4dR7D2nwwJ7nCA</td>\n",
              "      <td>dr goldberg offers everything i look for in a ...</td>\n",
              "      <td>Doctors;Health &amp; Medical</td>\n",
              "      <td>Eric Goldberg, MD</td>\n",
              "      <td>AZ</td>\n",
              "      <td>3.5</td>\n",
              "    </tr>\n",
              "    <tr>\n",
              "      <th>1</th>\n",
              "      <td>JwUE5GmEO-sH1FuwJgKBlQ</td>\n",
              "      <td>Pretty good dinner with a nice selection of fo...</td>\n",
              "      <td>Restaurants</td>\n",
              "      <td>Pine Cone Restaurant</td>\n",
              "      <td>WI</td>\n",
              "      <td>4.0</td>\n",
              "    </tr>\n",
              "    <tr>\n",
              "      <th>2</th>\n",
              "      <td>uGykseHzyS5xAMWoN6YUqA</td>\n",
              "      <td>A really lovely surprise on a rather horrific ...</td>\n",
              "      <td>American (Traditional);Restaurants</td>\n",
              "      <td>Deforest Family Restaurant</td>\n",
              "      <td>WI</td>\n",
              "      <td>4.0</td>\n",
              "    </tr>\n",
              "    <tr>\n",
              "      <th>3</th>\n",
              "      <td>LRKJF43s9-3jG9Lgx4zODg</td>\n",
              "      <td>Californians are all about the InNOut where yo...</td>\n",
              "      <td>Food;Ice Cream &amp; Frozen Yogurt;Fast Food;Resta...</td>\n",
              "      <td>Culver's</td>\n",
              "      <td>WI</td>\n",
              "      <td>4.5</td>\n",
              "    </tr>\n",
              "    <tr>\n",
              "      <th>4</th>\n",
              "      <td>RgDg-k9S5YD_BaxMckifkg</td>\n",
              "      <td>I really like both Chinese restaurants in town...</td>\n",
              "      <td>Chinese;Restaurants</td>\n",
              "      <td>Chang Jiang Chinese Kitchen</td>\n",
              "      <td>WI</td>\n",
              "      <td>4.0</td>\n",
              "    </tr>\n",
              "  </tbody>\n",
              "</table>\n",
              "</div>"
            ],
            "text/plain": [
              "              business_id  ... stars\n",
              "0  vcNAWiLM4dR7D2nwwJ7nCA  ...   3.5\n",
              "1  JwUE5GmEO-sH1FuwJgKBlQ  ...   4.0\n",
              "2  uGykseHzyS5xAMWoN6YUqA  ...   4.0\n",
              "3  LRKJF43s9-3jG9Lgx4zODg  ...   4.5\n",
              "4  RgDg-k9S5YD_BaxMckifkg  ...   4.0\n",
              "\n",
              "[5 rows x 6 columns]"
            ]
          },
          "execution_count": 36,
          "metadata": {},
          "output_type": "execute_result"
        }
      ]
    },
    {
      "cell_type": "code",
      "metadata": {
        "colab": {
          "base_uri": "https://localhost:8080/"
        },
        "id": "inByBjqKQ23K",
        "outputId": "e6158b9d-f2ec-4549-b2da-bbee3631eba5"
      },
      "source": [
        "business_df['name'].unique"
      ],
      "execution_count": null,
      "outputs": [
        {
          "data": {
            "text/plain": [
              "<bound method Series.unique of 0                    Eric Goldberg, MD\n",
              "1                 Pine Cone Restaurant\n",
              "2           Deforest Family Restaurant\n",
              "3                             Culver's\n",
              "4          Chang Jiang Chinese Kitchen\n",
              "                     ...              \n",
              "10424    The California Hotel & Casino\n",
              "10425                      Gene's Auto\n",
              "10426                      Burger King\n",
              "10427                Best Muffler Shop\n",
              "10428                Uncle Joe's Pizza\n",
              "Name: name, Length: 9910, dtype: object>"
            ]
          },
          "execution_count": 37,
          "metadata": {},
          "output_type": "execute_result"
        }
      ]
    },
    {
      "cell_type": "markdown",
      "metadata": {
        "id": "6nKurg6m9q1n"
      },
      "source": [
        "## **We used TfidfVectorizer to get the features and analyse them**"
      ]
    },
    {
      "cell_type": "markdown",
      "metadata": {
        "id": "HErChJC1zDjT"
      },
      "source": [
        "## **Model 1**"
      ]
    },
    {
      "cell_type": "code",
      "metadata": {
        "id": "R59kL0LuYLKa"
      },
      "source": [
        "from sklearn.feature_extraction.text import TfidfVectorizer\n",
        "from nltk.tokenize import WordPunctTokenizer"
      ],
      "execution_count": null,
      "outputs": []
    },
    {
      "cell_type": "code",
      "metadata": {
        "colab": {
          "base_uri": "https://localhost:8080/"
        },
        "id": "Uvra570iaStw",
        "outputId": "742df33c-10f5-4b7c-a645-5efa8a7b33fe"
      },
      "source": [
        "businessid_vectorizer = TfidfVectorizer(tokenizer = WordPunctTokenizer().tokenize, max_features=1000)\n",
        "businessid_vectors = businessid_vectorizer.fit_transform(business_df['text'])\n",
        "businessid_vectors.shape"
      ],
      "execution_count": null,
      "outputs": [
        {
          "data": {
            "text/plain": [
              "(9910, 1000)"
            ]
          },
          "execution_count": 39,
          "metadata": {},
          "output_type": "execute_result"
        }
      ]
    },
    {
      "cell_type": "code",
      "metadata": {
        "id": "dQmqZmMKanoc"
      },
      "source": [
        "P = pd.DataFrame(businessid_vectors.toarray(), index=business_df['business_id'], columns=businessid_vectorizer.get_feature_names())"
      ],
      "execution_count": null,
      "outputs": []
    },
    {
      "cell_type": "code",
      "metadata": {
        "colab": {
          "base_uri": "https://localhost:8080/",
          "height": 282
        },
        "id": "j0Cck9Lwbc7F",
        "outputId": "95b30252-15d8-4553-c494-5834e920f224"
      },
      "source": [
        "P.head()"
      ],
      "execution_count": null,
      "outputs": [
        {
          "data": {
            "text/html": [
              "<div>\n",
              "<style scoped>\n",
              "    .dataframe tbody tr th:only-of-type {\n",
              "        vertical-align: middle;\n",
              "    }\n",
              "\n",
              "    .dataframe tbody tr th {\n",
              "        vertical-align: top;\n",
              "    }\n",
              "\n",
              "    .dataframe thead th {\n",
              "        text-align: right;\n",
              "    }\n",
              "</style>\n",
              "<table border=\"1\" class=\"dataframe\">\n",
              "  <thead>\n",
              "    <tr style=\"text-align: right;\">\n",
              "      <th></th>\n",
              "      <th>a</th>\n",
              "      <th>able</th>\n",
              "      <th>about</th>\n",
              "      <th>above</th>\n",
              "      <th>absolutely</th>\n",
              "      <th>across</th>\n",
              "      <th>actually</th>\n",
              "      <th>add</th>\n",
              "      <th>added</th>\n",
              "      <th>after</th>\n",
              "      <th>afternoon</th>\n",
              "      <th>again</th>\n",
              "      <th>ago</th>\n",
              "      <th>air</th>\n",
              "      <th>airport</th>\n",
              "      <th>all</th>\n",
              "      <th>almost</th>\n",
              "      <th>along</th>\n",
              "      <th>already</th>\n",
              "      <th>also</th>\n",
              "      <th>although</th>\n",
              "      <th>always</th>\n",
              "      <th>am</th>\n",
              "      <th>amazing</th>\n",
              "      <th>ambiance</th>\n",
              "      <th>amount</th>\n",
              "      <th>an</th>\n",
              "      <th>and</th>\n",
              "      <th>another</th>\n",
              "      <th>any</th>\n",
              "      <th>anyone</th>\n",
              "      <th>anything</th>\n",
              "      <th>anyway</th>\n",
              "      <th>anywhere</th>\n",
              "      <th>apparently</th>\n",
              "      <th>appetizer</th>\n",
              "      <th>appetizers</th>\n",
              "      <th>appointment</th>\n",
              "      <th>are</th>\n",
              "      <th>area</th>\n",
              "      <th>...</th>\n",
              "      <th>who</th>\n",
              "      <th>whole</th>\n",
              "      <th>why</th>\n",
              "      <th>wife</th>\n",
              "      <th>will</th>\n",
              "      <th>wine</th>\n",
              "      <th>wings</th>\n",
              "      <th>wish</th>\n",
              "      <th>with</th>\n",
              "      <th>within</th>\n",
              "      <th>without</th>\n",
              "      <th>woman</th>\n",
              "      <th>wonderful</th>\n",
              "      <th>wont</th>\n",
              "      <th>work</th>\n",
              "      <th>worked</th>\n",
              "      <th>working</th>\n",
              "      <th>works</th>\n",
              "      <th>world</th>\n",
              "      <th>worst</th>\n",
              "      <th>worth</th>\n",
              "      <th>would</th>\n",
              "      <th>wouldnt</th>\n",
              "      <th>wow</th>\n",
              "      <th>write</th>\n",
              "      <th>wrong</th>\n",
              "      <th>yeah</th>\n",
              "      <th>year</th>\n",
              "      <th>years</th>\n",
              "      <th>yelp</th>\n",
              "      <th>yes</th>\n",
              "      <th>yet</th>\n",
              "      <th>you</th>\n",
              "      <th>youll</th>\n",
              "      <th>young</th>\n",
              "      <th>your</th>\n",
              "      <th>youre</th>\n",
              "      <th>yourself</th>\n",
              "      <th>yum</th>\n",
              "      <th>yummy</th>\n",
              "    </tr>\n",
              "    <tr>\n",
              "      <th>business_id</th>\n",
              "      <th></th>\n",
              "      <th></th>\n",
              "      <th></th>\n",
              "      <th></th>\n",
              "      <th></th>\n",
              "      <th></th>\n",
              "      <th></th>\n",
              "      <th></th>\n",
              "      <th></th>\n",
              "      <th></th>\n",
              "      <th></th>\n",
              "      <th></th>\n",
              "      <th></th>\n",
              "      <th></th>\n",
              "      <th></th>\n",
              "      <th></th>\n",
              "      <th></th>\n",
              "      <th></th>\n",
              "      <th></th>\n",
              "      <th></th>\n",
              "      <th></th>\n",
              "      <th></th>\n",
              "      <th></th>\n",
              "      <th></th>\n",
              "      <th></th>\n",
              "      <th></th>\n",
              "      <th></th>\n",
              "      <th></th>\n",
              "      <th></th>\n",
              "      <th></th>\n",
              "      <th></th>\n",
              "      <th></th>\n",
              "      <th></th>\n",
              "      <th></th>\n",
              "      <th></th>\n",
              "      <th></th>\n",
              "      <th></th>\n",
              "      <th></th>\n",
              "      <th></th>\n",
              "      <th></th>\n",
              "      <th></th>\n",
              "      <th></th>\n",
              "      <th></th>\n",
              "      <th></th>\n",
              "      <th></th>\n",
              "      <th></th>\n",
              "      <th></th>\n",
              "      <th></th>\n",
              "      <th></th>\n",
              "      <th></th>\n",
              "      <th></th>\n",
              "      <th></th>\n",
              "      <th></th>\n",
              "      <th></th>\n",
              "      <th></th>\n",
              "      <th></th>\n",
              "      <th></th>\n",
              "      <th></th>\n",
              "      <th></th>\n",
              "      <th></th>\n",
              "      <th></th>\n",
              "      <th></th>\n",
              "      <th></th>\n",
              "      <th></th>\n",
              "      <th></th>\n",
              "      <th></th>\n",
              "      <th></th>\n",
              "      <th></th>\n",
              "      <th></th>\n",
              "      <th></th>\n",
              "      <th></th>\n",
              "      <th></th>\n",
              "      <th></th>\n",
              "      <th></th>\n",
              "      <th></th>\n",
              "      <th></th>\n",
              "      <th></th>\n",
              "      <th></th>\n",
              "      <th></th>\n",
              "      <th></th>\n",
              "      <th></th>\n",
              "    </tr>\n",
              "  </thead>\n",
              "  <tbody>\n",
              "    <tr>\n",
              "      <th>vcNAWiLM4dR7D2nwwJ7nCA</th>\n",
              "      <td>0.192262</td>\n",
              "      <td>0.022352</td>\n",
              "      <td>0.065677</td>\n",
              "      <td>0.000000</td>\n",
              "      <td>0.000000</td>\n",
              "      <td>0.000000</td>\n",
              "      <td>0.039669</td>\n",
              "      <td>0.000000</td>\n",
              "      <td>0.000000</td>\n",
              "      <td>0.015161</td>\n",
              "      <td>0.0</td>\n",
              "      <td>0.000000</td>\n",
              "      <td>0.000000</td>\n",
              "      <td>0.0</td>\n",
              "      <td>0.0</td>\n",
              "      <td>0.050319</td>\n",
              "      <td>0.021414</td>\n",
              "      <td>0.0</td>\n",
              "      <td>0.0</td>\n",
              "      <td>0.000000</td>\n",
              "      <td>0.0</td>\n",
              "      <td>0.014570</td>\n",
              "      <td>0.015873</td>\n",
              "      <td>0.000000</td>\n",
              "      <td>0.0</td>\n",
              "      <td>0.0</td>\n",
              "      <td>0.039565</td>\n",
              "      <td>0.287232</td>\n",
              "      <td>0.017592</td>\n",
              "      <td>0.015822</td>\n",
              "      <td>0.044834</td>\n",
              "      <td>0.000000</td>\n",
              "      <td>0.0</td>\n",
              "      <td>0.000000</td>\n",
              "      <td>0.0</td>\n",
              "      <td>0.0</td>\n",
              "      <td>0.0</td>\n",
              "      <td>0.032449</td>\n",
              "      <td>0.023413</td>\n",
              "      <td>0.000000</td>\n",
              "      <td>...</td>\n",
              "      <td>0.062733</td>\n",
              "      <td>0.000000</td>\n",
              "      <td>0.019615</td>\n",
              "      <td>0.026111</td>\n",
              "      <td>0.040483</td>\n",
              "      <td>0.0</td>\n",
              "      <td>0.0</td>\n",
              "      <td>0.0</td>\n",
              "      <td>0.102488</td>\n",
              "      <td>0.0</td>\n",
              "      <td>0.042262</td>\n",
              "      <td>0.0</td>\n",
              "      <td>0.024505</td>\n",
              "      <td>0.00000</td>\n",
              "      <td>0.016957</td>\n",
              "      <td>0.0</td>\n",
              "      <td>0.000000</td>\n",
              "      <td>0.0</td>\n",
              "      <td>0.0</td>\n",
              "      <td>0.0</td>\n",
              "      <td>0.000000</td>\n",
              "      <td>0.000000</td>\n",
              "      <td>0.000000</td>\n",
              "      <td>0.0</td>\n",
              "      <td>0.029919</td>\n",
              "      <td>0.0</td>\n",
              "      <td>0.000000</td>\n",
              "      <td>0.000000</td>\n",
              "      <td>0.066819</td>\n",
              "      <td>0.000000</td>\n",
              "      <td>0.000000</td>\n",
              "      <td>0.024108</td>\n",
              "      <td>0.161471</td>\n",
              "      <td>0.000000</td>\n",
              "      <td>0.000000</td>\n",
              "      <td>0.056039</td>\n",
              "      <td>0.000000</td>\n",
              "      <td>0.000000</td>\n",
              "      <td>0.0</td>\n",
              "      <td>0.0</td>\n",
              "    </tr>\n",
              "    <tr>\n",
              "      <th>JwUE5GmEO-sH1FuwJgKBlQ</th>\n",
              "      <td>0.236392</td>\n",
              "      <td>0.000000</td>\n",
              "      <td>0.027952</td>\n",
              "      <td>0.000000</td>\n",
              "      <td>0.031725</td>\n",
              "      <td>0.011212</td>\n",
              "      <td>0.000000</td>\n",
              "      <td>0.012071</td>\n",
              "      <td>0.013033</td>\n",
              "      <td>0.006453</td>\n",
              "      <td>0.0</td>\n",
              "      <td>0.014309</td>\n",
              "      <td>0.018787</td>\n",
              "      <td>0.0</td>\n",
              "      <td>0.0</td>\n",
              "      <td>0.042832</td>\n",
              "      <td>0.000000</td>\n",
              "      <td>0.0</td>\n",
              "      <td>0.0</td>\n",
              "      <td>0.006244</td>\n",
              "      <td>0.0</td>\n",
              "      <td>0.012402</td>\n",
              "      <td>0.000000</td>\n",
              "      <td>0.035638</td>\n",
              "      <td>0.0</td>\n",
              "      <td>0.0</td>\n",
              "      <td>0.011226</td>\n",
              "      <td>0.312410</td>\n",
              "      <td>0.000000</td>\n",
              "      <td>0.006734</td>\n",
              "      <td>0.000000</td>\n",
              "      <td>0.000000</td>\n",
              "      <td>0.0</td>\n",
              "      <td>0.000000</td>\n",
              "      <td>0.0</td>\n",
              "      <td>0.0</td>\n",
              "      <td>0.0</td>\n",
              "      <td>0.000000</td>\n",
              "      <td>0.084702</td>\n",
              "      <td>0.031769</td>\n",
              "      <td>...</td>\n",
              "      <td>0.006675</td>\n",
              "      <td>0.009777</td>\n",
              "      <td>0.008348</td>\n",
              "      <td>0.022226</td>\n",
              "      <td>0.005743</td>\n",
              "      <td>0.0</td>\n",
              "      <td>0.0</td>\n",
              "      <td>0.0</td>\n",
              "      <td>0.063006</td>\n",
              "      <td>0.0</td>\n",
              "      <td>0.017987</td>\n",
              "      <td>0.0</td>\n",
              "      <td>0.000000</td>\n",
              "      <td>0.00000</td>\n",
              "      <td>0.014434</td>\n",
              "      <td>0.0</td>\n",
              "      <td>0.000000</td>\n",
              "      <td>0.0</td>\n",
              "      <td>0.0</td>\n",
              "      <td>0.0</td>\n",
              "      <td>0.008992</td>\n",
              "      <td>0.017084</td>\n",
              "      <td>0.009936</td>\n",
              "      <td>0.0</td>\n",
              "      <td>0.000000</td>\n",
              "      <td>0.0</td>\n",
              "      <td>0.012736</td>\n",
              "      <td>0.018484</td>\n",
              "      <td>0.007110</td>\n",
              "      <td>0.000000</td>\n",
              "      <td>0.000000</td>\n",
              "      <td>0.000000</td>\n",
              "      <td>0.058905</td>\n",
              "      <td>0.011248</td>\n",
              "      <td>0.012793</td>\n",
              "      <td>0.047701</td>\n",
              "      <td>0.008739</td>\n",
              "      <td>0.011914</td>\n",
              "      <td>0.0</td>\n",
              "      <td>0.0</td>\n",
              "    </tr>\n",
              "    <tr>\n",
              "      <th>uGykseHzyS5xAMWoN6YUqA</th>\n",
              "      <td>0.200829</td>\n",
              "      <td>0.000000</td>\n",
              "      <td>0.033678</td>\n",
              "      <td>0.000000</td>\n",
              "      <td>0.000000</td>\n",
              "      <td>0.000000</td>\n",
              "      <td>0.000000</td>\n",
              "      <td>0.000000</td>\n",
              "      <td>0.000000</td>\n",
              "      <td>0.025915</td>\n",
              "      <td>0.0</td>\n",
              "      <td>0.000000</td>\n",
              "      <td>0.000000</td>\n",
              "      <td>0.0</td>\n",
              "      <td>0.0</td>\n",
              "      <td>0.032253</td>\n",
              "      <td>0.018302</td>\n",
              "      <td>0.0</td>\n",
              "      <td>0.0</td>\n",
              "      <td>0.012537</td>\n",
              "      <td>0.0</td>\n",
              "      <td>0.000000</td>\n",
              "      <td>0.000000</td>\n",
              "      <td>0.000000</td>\n",
              "      <td>0.0</td>\n",
              "      <td>0.0</td>\n",
              "      <td>0.011271</td>\n",
              "      <td>0.272755</td>\n",
              "      <td>0.030070</td>\n",
              "      <td>0.040567</td>\n",
              "      <td>0.000000</td>\n",
              "      <td>0.016613</td>\n",
              "      <td>0.0</td>\n",
              "      <td>0.000000</td>\n",
              "      <td>0.0</td>\n",
              "      <td>0.0</td>\n",
              "      <td>0.0</td>\n",
              "      <td>0.000000</td>\n",
              "      <td>0.040020</td>\n",
              "      <td>0.000000</td>\n",
              "      <td>...</td>\n",
              "      <td>0.026807</td>\n",
              "      <td>0.000000</td>\n",
              "      <td>0.000000</td>\n",
              "      <td>0.000000</td>\n",
              "      <td>0.023066</td>\n",
              "      <td>0.0</td>\n",
              "      <td>0.0</td>\n",
              "      <td>0.0</td>\n",
              "      <td>0.058393</td>\n",
              "      <td>0.0</td>\n",
              "      <td>0.000000</td>\n",
              "      <td>0.0</td>\n",
              "      <td>0.020943</td>\n",
              "      <td>0.01878</td>\n",
              "      <td>0.000000</td>\n",
              "      <td>0.0</td>\n",
              "      <td>0.019467</td>\n",
              "      <td>0.0</td>\n",
              "      <td>0.0</td>\n",
              "      <td>0.0</td>\n",
              "      <td>0.036114</td>\n",
              "      <td>0.022870</td>\n",
              "      <td>0.019952</td>\n",
              "      <td>0.0</td>\n",
              "      <td>0.025570</td>\n",
              "      <td>0.0</td>\n",
              "      <td>0.000000</td>\n",
              "      <td>0.000000</td>\n",
              "      <td>0.014276</td>\n",
              "      <td>0.044287</td>\n",
              "      <td>0.000000</td>\n",
              "      <td>0.000000</td>\n",
              "      <td>0.019714</td>\n",
              "      <td>0.000000</td>\n",
              "      <td>0.000000</td>\n",
              "      <td>0.011973</td>\n",
              "      <td>0.035098</td>\n",
              "      <td>0.000000</td>\n",
              "      <td>0.0</td>\n",
              "      <td>0.0</td>\n",
              "    </tr>\n",
              "    <tr>\n",
              "      <th>LRKJF43s9-3jG9Lgx4zODg</th>\n",
              "      <td>0.150509</td>\n",
              "      <td>0.000000</td>\n",
              "      <td>0.061696</td>\n",
              "      <td>0.000000</td>\n",
              "      <td>0.000000</td>\n",
              "      <td>0.000000</td>\n",
              "      <td>0.023291</td>\n",
              "      <td>0.066609</td>\n",
              "      <td>0.000000</td>\n",
              "      <td>0.000000</td>\n",
              "      <td>0.0</td>\n",
              "      <td>0.000000</td>\n",
              "      <td>0.000000</td>\n",
              "      <td>0.0</td>\n",
              "      <td>0.0</td>\n",
              "      <td>0.029543</td>\n",
              "      <td>0.000000</td>\n",
              "      <td>0.0</td>\n",
              "      <td>0.0</td>\n",
              "      <td>0.034452</td>\n",
              "      <td>0.0</td>\n",
              "      <td>0.000000</td>\n",
              "      <td>0.037278</td>\n",
              "      <td>0.024581</td>\n",
              "      <td>0.0</td>\n",
              "      <td>0.0</td>\n",
              "      <td>0.000000</td>\n",
              "      <td>0.237346</td>\n",
              "      <td>0.020658</td>\n",
              "      <td>0.000000</td>\n",
              "      <td>0.000000</td>\n",
              "      <td>0.022826</td>\n",
              "      <td>0.0</td>\n",
              "      <td>0.031954</td>\n",
              "      <td>0.0</td>\n",
              "      <td>0.0</td>\n",
              "      <td>0.0</td>\n",
              "      <td>0.000000</td>\n",
              "      <td>0.068733</td>\n",
              "      <td>0.000000</td>\n",
              "      <td>...</td>\n",
              "      <td>0.018416</td>\n",
              "      <td>0.000000</td>\n",
              "      <td>0.023033</td>\n",
              "      <td>0.000000</td>\n",
              "      <td>0.031692</td>\n",
              "      <td>0.0</td>\n",
              "      <td>0.0</td>\n",
              "      <td>0.0</td>\n",
              "      <td>0.093602</td>\n",
              "      <td>0.0</td>\n",
              "      <td>0.024813</td>\n",
              "      <td>0.0</td>\n",
              "      <td>0.000000</td>\n",
              "      <td>0.00000</td>\n",
              "      <td>0.000000</td>\n",
              "      <td>0.0</td>\n",
              "      <td>0.000000</td>\n",
              "      <td>0.0</td>\n",
              "      <td>0.0</td>\n",
              "      <td>0.0</td>\n",
              "      <td>0.000000</td>\n",
              "      <td>0.000000</td>\n",
              "      <td>0.000000</td>\n",
              "      <td>0.0</td>\n",
              "      <td>0.000000</td>\n",
              "      <td>0.0</td>\n",
              "      <td>0.035140</td>\n",
              "      <td>0.000000</td>\n",
              "      <td>0.000000</td>\n",
              "      <td>0.000000</td>\n",
              "      <td>0.027675</td>\n",
              "      <td>0.000000</td>\n",
              "      <td>0.189607</td>\n",
              "      <td>0.031034</td>\n",
              "      <td>0.000000</td>\n",
              "      <td>0.032902</td>\n",
              "      <td>0.024112</td>\n",
              "      <td>0.000000</td>\n",
              "      <td>0.0</td>\n",
              "      <td>0.0</td>\n",
              "    </tr>\n",
              "    <tr>\n",
              "      <th>RgDg-k9S5YD_BaxMckifkg</th>\n",
              "      <td>0.000000</td>\n",
              "      <td>0.000000</td>\n",
              "      <td>0.000000</td>\n",
              "      <td>0.144569</td>\n",
              "      <td>0.000000</td>\n",
              "      <td>0.000000</td>\n",
              "      <td>0.000000</td>\n",
              "      <td>0.000000</td>\n",
              "      <td>0.000000</td>\n",
              "      <td>0.000000</td>\n",
              "      <td>0.0</td>\n",
              "      <td>0.000000</td>\n",
              "      <td>0.000000</td>\n",
              "      <td>0.0</td>\n",
              "      <td>0.0</td>\n",
              "      <td>0.000000</td>\n",
              "      <td>0.000000</td>\n",
              "      <td>0.0</td>\n",
              "      <td>0.0</td>\n",
              "      <td>0.000000</td>\n",
              "      <td>0.0</td>\n",
              "      <td>0.075158</td>\n",
              "      <td>0.000000</td>\n",
              "      <td>0.000000</td>\n",
              "      <td>0.0</td>\n",
              "      <td>0.0</td>\n",
              "      <td>0.000000</td>\n",
              "      <td>0.274384</td>\n",
              "      <td>0.000000</td>\n",
              "      <td>0.000000</td>\n",
              "      <td>0.000000</td>\n",
              "      <td>0.000000</td>\n",
              "      <td>0.0</td>\n",
              "      <td>0.000000</td>\n",
              "      <td>0.0</td>\n",
              "      <td>0.0</td>\n",
              "      <td>0.0</td>\n",
              "      <td>0.000000</td>\n",
              "      <td>0.060389</td>\n",
              "      <td>0.000000</td>\n",
              "      <td>...</td>\n",
              "      <td>0.000000</td>\n",
              "      <td>0.000000</td>\n",
              "      <td>0.000000</td>\n",
              "      <td>0.000000</td>\n",
              "      <td>0.000000</td>\n",
              "      <td>0.0</td>\n",
              "      <td>0.0</td>\n",
              "      <td>0.0</td>\n",
              "      <td>0.117484</td>\n",
              "      <td>0.0</td>\n",
              "      <td>0.000000</td>\n",
              "      <td>0.0</td>\n",
              "      <td>0.000000</td>\n",
              "      <td>0.00000</td>\n",
              "      <td>0.000000</td>\n",
              "      <td>0.0</td>\n",
              "      <td>0.000000</td>\n",
              "      <td>0.0</td>\n",
              "      <td>0.0</td>\n",
              "      <td>0.0</td>\n",
              "      <td>0.000000</td>\n",
              "      <td>0.000000</td>\n",
              "      <td>0.000000</td>\n",
              "      <td>0.0</td>\n",
              "      <td>0.000000</td>\n",
              "      <td>0.0</td>\n",
              "      <td>0.000000</td>\n",
              "      <td>0.000000</td>\n",
              "      <td>0.000000</td>\n",
              "      <td>0.000000</td>\n",
              "      <td>0.000000</td>\n",
              "      <td>0.000000</td>\n",
              "      <td>0.059496</td>\n",
              "      <td>0.000000</td>\n",
              "      <td>0.000000</td>\n",
              "      <td>0.000000</td>\n",
              "      <td>0.000000</td>\n",
              "      <td>0.000000</td>\n",
              "      <td>0.0</td>\n",
              "      <td>0.0</td>\n",
              "    </tr>\n",
              "  </tbody>\n",
              "</table>\n",
              "<p>5 rows × 1000 columns</p>\n",
              "</div>"
            ],
            "text/plain": [
              "                               a      able     about  ...  yourself  yum  yummy\n",
              "business_id                                           ...                      \n",
              "vcNAWiLM4dR7D2nwwJ7nCA  0.192262  0.022352  0.065677  ...  0.000000  0.0    0.0\n",
              "JwUE5GmEO-sH1FuwJgKBlQ  0.236392  0.000000  0.027952  ...  0.011914  0.0    0.0\n",
              "uGykseHzyS5xAMWoN6YUqA  0.200829  0.000000  0.033678  ...  0.000000  0.0    0.0\n",
              "LRKJF43s9-3jG9Lgx4zODg  0.150509  0.000000  0.061696  ...  0.000000  0.0    0.0\n",
              "RgDg-k9S5YD_BaxMckifkg  0.000000  0.000000  0.000000  ...  0.000000  0.0    0.0\n",
              "\n",
              "[5 rows x 1000 columns]"
            ]
          },
          "execution_count": 42,
          "metadata": {},
          "output_type": "execute_result"
        }
      ]
    },
    {
      "cell_type": "markdown",
      "metadata": {
        "id": "DV8nrPb7wtOt"
      },
      "source": [
        "## **As we tired to use collaborative filtering due to Ram and huge size of data we used content based filtering**"
      ]
    },
    {
      "cell_type": "markdown",
      "metadata": {
        "id": "IMRPW1dLSa5Q"
      },
      "source": [
        "## **Content Based Filtering**"
      ]
    },
    {
      "cell_type": "markdown",
      "metadata": {
        "id": "JQmStuX9GHHw"
      },
      "source": [
        "## **Restaurant Recommendation for old users using Vader Lexicon sentiment analysis**"
      ]
    },
    {
      "cell_type": "markdown",
      "metadata": {
        "id": "43OHWZmHzHny"
      },
      "source": [
        "## **Model 2**"
      ]
    },
    {
      "cell_type": "code",
      "metadata": {
        "id": "HEw_G-RoaWRO"
      },
      "source": [
        "import nltk\n",
        "nltk.download('vader_lexicon')"
      ],
      "execution_count": null,
      "outputs": []
    },
    {
      "cell_type": "code",
      "metadata": {
        "id": "9yiLrXwcag2K"
      },
      "source": [
        "from nltk.sentiment.vader import SentimentIntensityAnalyzer"
      ],
      "execution_count": null,
      "outputs": []
    },
    {
      "cell_type": "code",
      "metadata": {
        "id": "1iPLfEcEaryX"
      },
      "source": [
        "sentiment = SentimentIntensityAnalyzer()"
      ],
      "execution_count": null,
      "outputs": []
    },
    {
      "cell_type": "markdown",
      "metadata": {
        "id": "W5XdS7zzxJK6"
      },
      "source": [
        "## For Old or already existing users they can enter the restaurant they wanted to visit our model will recommand the similar restaurants using the score the model generates for every restaurants (stars given by users + compound_score * positive_score) "
      ]
    },
    {
      "cell_type": "code",
      "metadata": {
        "colab": {
          "base_uri": "https://localhost:8080/"
        },
        "id": "o_zV4mSZbZdJ",
        "outputId": "b0a1e927-7880-4cc5-8ef9-32380a9197c8"
      },
      "source": [
        "Res = input()\n",
        "k1 = business_df.loc[business_df['name']==Res].text.values\n",
        "k2 = business_df.loc[business_df['name']==Res].stars.values\n",
        "k2 = float(k2[0])\n",
        "score= sentiment.polarity_scores(k1[0])\n",
        "sc = k2+score['compound']*score['pos']\n",
        "m=0\n",
        "for i in range(len(business_df)):\n",
        "  k1 = business_df.iloc[i,3]\n",
        "  k2 = business_df.iloc[i,5]\n",
        "  score= sentiment.polarity_scores(k1)\n",
        "  ko = k2+score['compound']*score['pos']\n",
        "  if abs(sc-ko)<=0.1:\n",
        "    if m<10:\n",
        "      print(\" \")\n",
        "      print('\\033[1m'+str(business_df.iloc[i,3])+'\\033[0m')\n",
        "      print(business_df.iloc[i,2])\n",
        "      print('State :'+str(business_df.iloc[i,4])+\"   \"+'Stars :'+str(business_df.iloc[i,5]))\n",
        "      print('-'*100)\n",
        "      m = m+1\n",
        "    else:\n",
        "      break"
      ],
      "execution_count": null,
      "outputs": [
        {
          "name": "stdout",
          "output_type": "stream",
          "text": [
            "Best Muffler Shop\n",
            " \n",
            "\u001b[1mWisconsin Vision\u001b[0m\n",
            "Optometrists;Health & Medical\n",
            "State :WI   Stars :4.5\n",
            "----------------------------------------------------------------------------------------------------\n",
            " \n",
            "\u001b[1mHoliday Inn Express\u001b[0m\n",
            "Hotels & Travel;Event Planning & Services;Hotels\n",
            "State :AZ   Stars :4.5\n",
            "----------------------------------------------------------------------------------------------------\n",
            " \n",
            "\u001b[1mFresh Start Women's Resource Center\u001b[0m\n",
            "Local Services;Career Counseling;Community Service/Non-Profit;Professional Services\n",
            "State :AZ   Stars :4.5\n",
            "----------------------------------------------------------------------------------------------------\n",
            " \n",
            "\u001b[1mParty People\u001b[0m\n",
            "Party Supplies;Party Equipment Rentals;Event Planning & Services;Party & Event Planning\n",
            "State :AZ   Stars :4.5\n",
            "----------------------------------------------------------------------------------------------------\n",
            " \n",
            "\u001b[1mCentral Phoenix Eye Care\u001b[0m\n",
            "Shopping;Optometrists;Health & Medical;Eyewear & Opticians\n",
            "State :AZ   Stars :4.5\n",
            "----------------------------------------------------------------------------------------------------\n",
            " \n",
            "\u001b[1mAnimal Care Hospital & Clinic\u001b[0m\n",
            "Pet Services;Veterinarians;Pet Boarding/Pet Sitting;Pets\n",
            "State :AZ   Stars :4.5\n",
            "----------------------------------------------------------------------------------------------------\n",
            " \n",
            "\u001b[1mPhoenix Film Festival\u001b[0m\n",
            "Arts & Entertainment;Festivals\n",
            "State :AZ   Stars :4.5\n",
            "----------------------------------------------------------------------------------------------------\n",
            " \n",
            "\u001b[1mJewels & Estate Gallery by G Darrell Olson\u001b[0m\n",
            "Shopping;Jewelry\n",
            "State :AZ   Stars :4.5\n",
            "----------------------------------------------------------------------------------------------------\n",
            " \n",
            "\u001b[1mStellar Adventures\u001b[0m\n",
            "Hotels & Travel;Tours\n",
            "State :AZ   Stars :4.5\n",
            "----------------------------------------------------------------------------------------------------\n",
            " \n",
            "\u001b[1mCentral Car Care\u001b[0m\n",
            "Auto Repair;Automotive;Towing;Auto Glass Services\n",
            "State :AZ   Stars :4.5\n",
            "----------------------------------------------------------------------------------------------------\n"
          ]
        }
      ]
    },
    {
      "cell_type": "markdown",
      "metadata": {
        "id": "4C-RghAuGQDY"
      },
      "source": [
        "## **Restaurants Recommendations for new users using Bert model and semantic similarity**"
      ]
    },
    {
      "cell_type": "markdown",
      "metadata": {
        "id": "WFsqySTTzLS8"
      },
      "source": [
        "## **Model 3**"
      ]
    },
    {
      "cell_type": "code",
      "metadata": {
        "id": "aFk0Dew7ty_-"
      },
      "source": [
        "model_name = 'bert-base-nli-mean-tokens'"
      ],
      "execution_count": null,
      "outputs": []
    },
    {
      "cell_type": "code",
      "metadata": {
        "id": "qBUyB4Mrty9h"
      },
      "source": [
        "pip install sentence-transformers"
      ],
      "execution_count": null,
      "outputs": []
    },
    {
      "cell_type": "code",
      "metadata": {
        "id": "RKkuAPIdty5w"
      },
      "source": [
        "from sentence_transformers import SentenceTransformer"
      ],
      "execution_count": null,
      "outputs": []
    },
    {
      "cell_type": "code",
      "metadata": {
        "id": "-O80OdBnt9qv"
      },
      "source": [
        "model = SentenceTransformer(model_name)"
      ],
      "execution_count": null,
      "outputs": []
    },
    {
      "cell_type": "code",
      "metadata": {
        "id": "0upYWwmluAU3"
      },
      "source": [
        "from sklearn.metrics.pairwise import cosine_similarity"
      ],
      "execution_count": null,
      "outputs": []
    },
    {
      "cell_type": "markdown",
      "metadata": {
        "id": "pFma3ik0TTqe"
      },
      "source": [
        "## **Recommending restaurants to new users by entering the type of restaurants they wanted and according to semantic similarity generated using cosine similarity will recommend top 10 restaurants**"
      ]
    },
    {
      "cell_type": "code",
      "metadata": {
        "colab": {
          "base_uri": "https://localhost:8080/"
        },
        "id": "884ojWWauGzh",
        "outputId": "93c1f423-4eec-486e-9f83-c83b495402eb"
      },
      "source": [
        "df_text1 = input()\n",
        "m = 0\n",
        "for i in range(len(business_df)): \n",
        "  combine = []\n",
        "  combine.append(df_text1)\n",
        "  combine.append(business_df.iloc[i,1])\n",
        "  sen_vec = model.encode(combine)\n",
        "  arr = cosine_similarity([sen_vec[0]],[sen_vec[1]])\n",
        "  if arr[0][0]>=0.60:\n",
        "    if m<10:\n",
        "      print(\" \")\n",
        "      print('\\033[1m'+str(business_df.iloc[i,3])+'\\033[0m')\n",
        "      print(business_df.iloc[i,2])\n",
        "             \n",
        "      print('State :'+str(business_df.iloc[i,5])+\"   \"+'Stars :'+str(business_df.iloc[i,4]))\n",
        "      print('-'*100)\n",
        "      m = m+1\n",
        "    else:\n",
        "      break"
      ],
      "execution_count": null,
      "outputs": [
        {
          "name": "stdout",
          "output_type": "stream",
          "text": [
            "I want chinese food for breakfast\n",
            " \n",
            "\u001b[1mCulver's\u001b[0m\n",
            "Food;Ice Cream & Frozen Yogurt;Fast Food;Restaurants\n",
            "State :4.5   Stars :WI\n",
            "----------------------------------------------------------------------------------------------------\n",
            " \n",
            "\u001b[1mMain Moon Chinese Restaurant\u001b[0m\n",
            "Chinese;Restaurants\n",
            "State :3.5   Stars :WI\n",
            "----------------------------------------------------------------------------------------------------\n",
            " \n",
            "\u001b[1mImperial Garden Chinese Restaurant\u001b[0m\n",
            "Party & Event Planning;Asian Fusion;Event Planning & Services;Venues & Event Spaces;Restaurants\n",
            "State :3.0   Stars :WI\n",
            "----------------------------------------------------------------------------------------------------\n",
            " \n",
            "\u001b[1mChina Wok Buffet\u001b[0m\n",
            "Chinese;Restaurants\n",
            "State :2.5   Stars :WI\n",
            "----------------------------------------------------------------------------------------------------\n",
            " \n",
            "\u001b[1mPrairie Cafe & Bakery\u001b[0m\n",
            "Bakeries;Food;Breakfast & Brunch;Coffee & Tea;Restaurants\n",
            "State :3.5   Stars :WI\n",
            "----------------------------------------------------------------------------------------------------\n",
            " \n",
            "\u001b[1mThree Sisters Old Town Inn\u001b[0m\n",
            "Breakfast & Brunch;Restaurants\n",
            "State :4.0   Stars :WI\n",
            "----------------------------------------------------------------------------------------------------\n",
            " \n",
            "\u001b[1mSoup Factory\u001b[0m\n",
            "Restaurants\n",
            "State :3.0   Stars :WI\n",
            "----------------------------------------------------------------------------------------------------\n",
            " \n",
            "\u001b[1mPanda Garden\u001b[0m\n",
            "Chinese;Restaurants\n",
            "State :4.0   Stars :WI\n",
            "----------------------------------------------------------------------------------------------------\n",
            " \n",
            "\u001b[1mChang Jiang\u001b[0m\n",
            "Chinese;Restaurants\n",
            "State :3.0   Stars :WI\n",
            "----------------------------------------------------------------------------------------------------\n",
            " \n",
            "\u001b[1mDeli Roma\u001b[0m\n",
            "Delis;Restaurants\n",
            "State :4.0   Stars :WI\n",
            "----------------------------------------------------------------------------------------------------\n"
          ]
        }
      ]
    }
  ]
}