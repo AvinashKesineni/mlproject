{
 "cells": [
  {
   "cell_type": "markdown",
   "metadata": {
    "id": "KJOuhWmug989"
   },
   "source": [
    "## **DATA PREPROCESSING**"
   ]
  },
  {
   "cell_type": "markdown",
   "metadata": {
    "id": "Bz3O8l9lhPC6"
   },
   "source": [
    "## **Importing Bussiness data file that contains all restaurant details**"
   ]
  },
  {
   "cell_type": "code",
   "execution_count": 2,
   "metadata": {
    "colab": {
     "base_uri": "https://localhost:8080/"
    },
    "id": "rle-_pl8sxaS",
    "outputId": "d75286b0-10b4-470b-e835-b208db167424"
   },
   "outputs": [
    {
     "name": "stderr",
     "output_type": "stream",
     "text": [
      "C:\\Users\\HP\\anaconda3\\lib\\site-packages\\IPython\\core\\interactiveshell.py:3444: DtypeWarning: Columns (2,5,8,15,18,21,27,30,43,49,52,62,64,66,70,84,89,92,100) have mixed types.Specify dtype option on import or set low_memory=False.\n",
      "  exec(code_obj, self.user_global_ns, self.user_ns)\n"
     ]
    }
   ],
   "source": [
    "import pandas as pd\n",
    "import string\n",
    "df = pd.read_csv('ML Dataset/business.csv')"
   ]
  },
  {
   "cell_type": "code",
   "execution_count": 3,
   "metadata": {
    "colab": {
     "base_uri": "https://localhost:8080/",
     "height": 470
    },
    "id": "BYimCquwsxXb",
    "outputId": "36435070-2fe3-41ed-80f4-93ca8330a8bf"
   },
   "outputs": [
    {
     "data": {
      "text/html": [
       "<div>\n",
       "<style scoped>\n",
       "    .dataframe tbody tr th:only-of-type {\n",
       "        vertical-align: middle;\n",
       "    }\n",
       "\n",
       "    .dataframe tbody tr th {\n",
       "        vertical-align: top;\n",
       "    }\n",
       "\n",
       "    .dataframe thead th {\n",
       "        text-align: right;\n",
       "    }\n",
       "</style>\n",
       "<table border=\"1\" class=\"dataframe\">\n",
       "  <thead>\n",
       "    <tr style=\"text-align: right;\">\n",
       "      <th></th>\n",
       "      <th>business_id</th>\n",
       "      <th>attributes.Ambience.divey</th>\n",
       "      <th>attributes.Dietary Restrictions.vegan</th>\n",
       "      <th>attributes.Happy Hour</th>\n",
       "      <th>hours.Thursday.open</th>\n",
       "      <th>attributes.Order at Counter</th>\n",
       "      <th>attributes.Hair Types Specialized In.africanamerican</th>\n",
       "      <th>attributes.Hair Types Specialized In.kids</th>\n",
       "      <th>attributes.BYOB</th>\n",
       "      <th>hours.Friday.open</th>\n",
       "      <th>...</th>\n",
       "      <th>attributes.Smoking</th>\n",
       "      <th>attributes.Attire</th>\n",
       "      <th>attributes.Hair Types Specialized In.curly</th>\n",
       "      <th>attributes.Good For Groups</th>\n",
       "      <th>neighborhoods</th>\n",
       "      <th>attributes.Open 24 Hours</th>\n",
       "      <th>attributes.Ambience.romantic</th>\n",
       "      <th>attributes.Hair Types Specialized In.perms</th>\n",
       "      <th>attributes.Music.jukebox</th>\n",
       "      <th>attributes.Ambience.upscale</th>\n",
       "    </tr>\n",
       "  </thead>\n",
       "  <tbody>\n",
       "    <tr>\n",
       "      <th>0</th>\n",
       "      <td>vcNAWiLM4dR7D2nwwJ7nCA</td>\n",
       "      <td>NaN</td>\n",
       "      <td>NaN</td>\n",
       "      <td>NaN</td>\n",
       "      <td>8:00</td>\n",
       "      <td>NaN</td>\n",
       "      <td>NaN</td>\n",
       "      <td>NaN</td>\n",
       "      <td>NaN</td>\n",
       "      <td>8:00</td>\n",
       "      <td>...</td>\n",
       "      <td>NaN</td>\n",
       "      <td>NaN</td>\n",
       "      <td>NaN</td>\n",
       "      <td>NaN</td>\n",
       "      <td>NaN</td>\n",
       "      <td>NaN</td>\n",
       "      <td>NaN</td>\n",
       "      <td>NaN</td>\n",
       "      <td>NaN</td>\n",
       "      <td>NaN</td>\n",
       "    </tr>\n",
       "    <tr>\n",
       "      <th>1</th>\n",
       "      <td>JwUE5GmEO-sH1FuwJgKBlQ</td>\n",
       "      <td>False</td>\n",
       "      <td>NaN</td>\n",
       "      <td>NaN</td>\n",
       "      <td>NaN</td>\n",
       "      <td>NaN</td>\n",
       "      <td>NaN</td>\n",
       "      <td>NaN</td>\n",
       "      <td>NaN</td>\n",
       "      <td>NaN</td>\n",
       "      <td>...</td>\n",
       "      <td>NaN</td>\n",
       "      <td>casual</td>\n",
       "      <td>NaN</td>\n",
       "      <td>True</td>\n",
       "      <td>NaN</td>\n",
       "      <td>NaN</td>\n",
       "      <td>False</td>\n",
       "      <td>NaN</td>\n",
       "      <td>NaN</td>\n",
       "      <td>False</td>\n",
       "    </tr>\n",
       "    <tr>\n",
       "      <th>2</th>\n",
       "      <td>uGykseHzyS5xAMWoN6YUqA</td>\n",
       "      <td>False</td>\n",
       "      <td>NaN</td>\n",
       "      <td>NaN</td>\n",
       "      <td>6:00</td>\n",
       "      <td>NaN</td>\n",
       "      <td>NaN</td>\n",
       "      <td>NaN</td>\n",
       "      <td>NaN</td>\n",
       "      <td>6:00</td>\n",
       "      <td>...</td>\n",
       "      <td>NaN</td>\n",
       "      <td>casual</td>\n",
       "      <td>NaN</td>\n",
       "      <td>True</td>\n",
       "      <td>NaN</td>\n",
       "      <td>NaN</td>\n",
       "      <td>False</td>\n",
       "      <td>NaN</td>\n",
       "      <td>NaN</td>\n",
       "      <td>False</td>\n",
       "    </tr>\n",
       "    <tr>\n",
       "      <th>3</th>\n",
       "      <td>LRKJF43s9-3jG9Lgx4zODg</td>\n",
       "      <td>NaN</td>\n",
       "      <td>NaN</td>\n",
       "      <td>NaN</td>\n",
       "      <td>10:30</td>\n",
       "      <td>NaN</td>\n",
       "      <td>NaN</td>\n",
       "      <td>NaN</td>\n",
       "      <td>NaN</td>\n",
       "      <td>10:30</td>\n",
       "      <td>...</td>\n",
       "      <td>NaN</td>\n",
       "      <td>casual</td>\n",
       "      <td>NaN</td>\n",
       "      <td>True</td>\n",
       "      <td>NaN</td>\n",
       "      <td>NaN</td>\n",
       "      <td>NaN</td>\n",
       "      <td>NaN</td>\n",
       "      <td>NaN</td>\n",
       "      <td>NaN</td>\n",
       "    </tr>\n",
       "    <tr>\n",
       "      <th>4</th>\n",
       "      <td>RgDg-k9S5YD_BaxMckifkg</td>\n",
       "      <td>NaN</td>\n",
       "      <td>NaN</td>\n",
       "      <td>NaN</td>\n",
       "      <td>11:00</td>\n",
       "      <td>NaN</td>\n",
       "      <td>NaN</td>\n",
       "      <td>NaN</td>\n",
       "      <td>NaN</td>\n",
       "      <td>11:00</td>\n",
       "      <td>...</td>\n",
       "      <td>NaN</td>\n",
       "      <td>casual</td>\n",
       "      <td>NaN</td>\n",
       "      <td>NaN</td>\n",
       "      <td>NaN</td>\n",
       "      <td>NaN</td>\n",
       "      <td>NaN</td>\n",
       "      <td>NaN</td>\n",
       "      <td>NaN</td>\n",
       "      <td>NaN</td>\n",
       "    </tr>\n",
       "  </tbody>\n",
       "</table>\n",
       "<p>5 rows × 105 columns</p>\n",
       "</div>"
      ],
      "text/plain": [
       "              business_id attributes.Ambience.divey  \\\n",
       "0  vcNAWiLM4dR7D2nwwJ7nCA                       NaN   \n",
       "1  JwUE5GmEO-sH1FuwJgKBlQ                     False   \n",
       "2  uGykseHzyS5xAMWoN6YUqA                     False   \n",
       "3  LRKJF43s9-3jG9Lgx4zODg                       NaN   \n",
       "4  RgDg-k9S5YD_BaxMckifkg                       NaN   \n",
       "\n",
       "  attributes.Dietary Restrictions.vegan attributes.Happy Hour  \\\n",
       "0                                   NaN                   NaN   \n",
       "1                                   NaN                   NaN   \n",
       "2                                   NaN                   NaN   \n",
       "3                                   NaN                   NaN   \n",
       "4                                   NaN                   NaN   \n",
       "\n",
       "  hours.Thursday.open attributes.Order at Counter  \\\n",
       "0                8:00                         NaN   \n",
       "1                 NaN                         NaN   \n",
       "2                6:00                         NaN   \n",
       "3               10:30                         NaN   \n",
       "4               11:00                         NaN   \n",
       "\n",
       "  attributes.Hair Types Specialized In.africanamerican  \\\n",
       "0                                                NaN     \n",
       "1                                                NaN     \n",
       "2                                                NaN     \n",
       "3                                                NaN     \n",
       "4                                                NaN     \n",
       "\n",
       "  attributes.Hair Types Specialized In.kids attributes.BYOB hours.Friday.open  \\\n",
       "0                                       NaN             NaN              8:00   \n",
       "1                                       NaN             NaN               NaN   \n",
       "2                                       NaN             NaN              6:00   \n",
       "3                                       NaN             NaN             10:30   \n",
       "4                                       NaN             NaN             11:00   \n",
       "\n",
       "   ... attributes.Smoking  attributes.Attire  \\\n",
       "0  ...                NaN                NaN   \n",
       "1  ...                NaN             casual   \n",
       "2  ...                NaN             casual   \n",
       "3  ...                NaN             casual   \n",
       "4  ...                NaN             casual   \n",
       "\n",
       "  attributes.Hair Types Specialized In.curly attributes.Good For Groups  \\\n",
       "0                                        NaN                        NaN   \n",
       "1                                        NaN                       True   \n",
       "2                                        NaN                       True   \n",
       "3                                        NaN                       True   \n",
       "4                                        NaN                        NaN   \n",
       "\n",
       "  neighborhoods attributes.Open 24 Hours attributes.Ambience.romantic  \\\n",
       "0           NaN                      NaN                          NaN   \n",
       "1           NaN                      NaN                        False   \n",
       "2           NaN                      NaN                        False   \n",
       "3           NaN                      NaN                          NaN   \n",
       "4           NaN                      NaN                          NaN   \n",
       "\n",
       "  attributes.Hair Types Specialized In.perms attributes.Music.jukebox  \\\n",
       "0                                        NaN                      NaN   \n",
       "1                                        NaN                      NaN   \n",
       "2                                        NaN                      NaN   \n",
       "3                                        NaN                      NaN   \n",
       "4                                        NaN                      NaN   \n",
       "\n",
       "  attributes.Ambience.upscale  \n",
       "0                         NaN  \n",
       "1                       False  \n",
       "2                       False  \n",
       "3                         NaN  \n",
       "4                         NaN  \n",
       "\n",
       "[5 rows x 105 columns]"
      ]
     },
     "execution_count": 3,
     "metadata": {},
     "output_type": "execute_result"
    }
   ],
   "source": [
    "df.head(5)"
   ]
  },
  {
   "cell_type": "markdown",
   "metadata": {
    "id": "oHnNJ0GMhXZC"
   },
   "source": [
    "## **Dropping unwanted columns**"
   ]
  },
  {
   "cell_type": "markdown",
   "metadata": {
    "id": "ocqlVKNShidD"
   },
   "source": [
    "## **Selecting Required Columns from the Dataset**"
   ]
  },
  {
   "cell_type": "code",
   "execution_count": 4,
   "metadata": {
    "colab": {
     "base_uri": "https://localhost:8080/",
     "height": 206
    },
    "id": "DosJQ2r2sxSL",
    "outputId": "35cea491-5679-47ee-86cc-b848f194f6ce"
   },
   "outputs": [
    {
     "data": {
      "text/html": [
       "<div>\n",
       "<style scoped>\n",
       "    .dataframe tbody tr th:only-of-type {\n",
       "        vertical-align: middle;\n",
       "    }\n",
       "\n",
       "    .dataframe tbody tr th {\n",
       "        vertical-align: top;\n",
       "    }\n",
       "\n",
       "    .dataframe thead th {\n",
       "        text-align: right;\n",
       "    }\n",
       "</style>\n",
       "<table border=\"1\" class=\"dataframe\">\n",
       "  <thead>\n",
       "    <tr style=\"text-align: right;\">\n",
       "      <th></th>\n",
       "      <th>business_id</th>\n",
       "      <th>categories</th>\n",
       "      <th>name</th>\n",
       "      <th>review_count</th>\n",
       "      <th>state</th>\n",
       "      <th>stars</th>\n",
       "    </tr>\n",
       "  </thead>\n",
       "  <tbody>\n",
       "    <tr>\n",
       "      <th>0</th>\n",
       "      <td>vcNAWiLM4dR7D2nwwJ7nCA</td>\n",
       "      <td>Doctors;Health &amp; Medical</td>\n",
       "      <td>Eric Goldberg, MD</td>\n",
       "      <td>7</td>\n",
       "      <td>AZ</td>\n",
       "      <td>3.5</td>\n",
       "    </tr>\n",
       "    <tr>\n",
       "      <th>1</th>\n",
       "      <td>JwUE5GmEO-sH1FuwJgKBlQ</td>\n",
       "      <td>Restaurants</td>\n",
       "      <td>Pine Cone Restaurant</td>\n",
       "      <td>26</td>\n",
       "      <td>WI</td>\n",
       "      <td>4.0</td>\n",
       "    </tr>\n",
       "    <tr>\n",
       "      <th>2</th>\n",
       "      <td>uGykseHzyS5xAMWoN6YUqA</td>\n",
       "      <td>American (Traditional);Restaurants</td>\n",
       "      <td>Deforest Family Restaurant</td>\n",
       "      <td>16</td>\n",
       "      <td>WI</td>\n",
       "      <td>4.0</td>\n",
       "    </tr>\n",
       "    <tr>\n",
       "      <th>3</th>\n",
       "      <td>LRKJF43s9-3jG9Lgx4zODg</td>\n",
       "      <td>Food;Ice Cream &amp; Frozen Yogurt;Fast Food;Resta...</td>\n",
       "      <td>Culver's</td>\n",
       "      <td>7</td>\n",
       "      <td>WI</td>\n",
       "      <td>4.5</td>\n",
       "    </tr>\n",
       "    <tr>\n",
       "      <th>4</th>\n",
       "      <td>RgDg-k9S5YD_BaxMckifkg</td>\n",
       "      <td>Chinese;Restaurants</td>\n",
       "      <td>Chang Jiang Chinese Kitchen</td>\n",
       "      <td>3</td>\n",
       "      <td>WI</td>\n",
       "      <td>4.0</td>\n",
       "    </tr>\n",
       "  </tbody>\n",
       "</table>\n",
       "</div>"
      ],
      "text/plain": [
       "              business_id                                         categories  \\\n",
       "0  vcNAWiLM4dR7D2nwwJ7nCA                           Doctors;Health & Medical   \n",
       "1  JwUE5GmEO-sH1FuwJgKBlQ                                        Restaurants   \n",
       "2  uGykseHzyS5xAMWoN6YUqA                 American (Traditional);Restaurants   \n",
       "3  LRKJF43s9-3jG9Lgx4zODg  Food;Ice Cream & Frozen Yogurt;Fast Food;Resta...   \n",
       "4  RgDg-k9S5YD_BaxMckifkg                                Chinese;Restaurants   \n",
       "\n",
       "                          name  review_count state  stars  \n",
       "0            Eric Goldberg, MD             7    AZ    3.5  \n",
       "1         Pine Cone Restaurant            26    WI    4.0  \n",
       "2   Deforest Family Restaurant            16    WI    4.0  \n",
       "3                     Culver's             7    WI    4.5  \n",
       "4  Chang Jiang Chinese Kitchen             3    WI    4.0  "
      ]
     },
     "execution_count": 4,
     "metadata": {},
     "output_type": "execute_result"
    }
   ],
   "source": [
    "Bussiness_df  = df[['business_id','categories','name','review_count','state','stars']]\n",
    "Bussiness_df.head(5)"
   ]
  },
  {
   "cell_type": "markdown",
   "metadata": {
    "id": "-67RydFKhuKC"
   },
   "source": [
    "## **Deleting NAN or Null values**"
   ]
  },
  {
   "cell_type": "code",
   "execution_count": 5,
   "metadata": {
    "colab": {
     "base_uri": "https://localhost:8080/"
    },
    "id": "LtscE7xn6k72",
    "outputId": "a3fb84ff-fc60-403e-b7a0-6a7be05eb391"
   },
   "outputs": [
    {
     "name": "stderr",
     "output_type": "stream",
     "text": [
      "C:\\Users\\HP\\anaconda3\\lib\\site-packages\\pandas\\util\\_decorators.py:311: SettingWithCopyWarning: \n",
      "A value is trying to be set on a copy of a slice from a DataFrame\n",
      "\n",
      "See the caveats in the documentation: https://pandas.pydata.org/pandas-docs/stable/user_guide/indexing.html#returning-a-view-versus-a-copy\n",
      "  return func(*args, **kwargs)\n"
     ]
    }
   ],
   "source": [
    "Bussiness_df.dropna(inplace = True)"
   ]
  },
  {
   "cell_type": "code",
   "execution_count": 6,
   "metadata": {
    "colab": {
     "base_uri": "https://localhost:8080/"
    },
    "id": "PF79mvcSBwdi",
    "outputId": "c42dda73-a454-47a5-b958-aeec5fea0ed1"
   },
   "outputs": [
    {
     "data": {
      "text/plain": [
       "(41814, 6)"
      ]
     },
     "execution_count": 6,
     "metadata": {},
     "output_type": "execute_result"
    }
   ],
   "source": [
    "Bussiness_df.shape"
   ]
  },
  {
   "cell_type": "markdown",
   "metadata": {
    "id": "HSoI42DDh7t7"
   },
   "source": [
    "## **Number of unique Restaurants and names**"
   ]
  },
  {
   "cell_type": "code",
   "execution_count": 7,
   "metadata": {
    "colab": {
     "base_uri": "https://localhost:8080/"
    },
    "id": "l0rxKdqOQIhb",
    "outputId": "ccfc46e0-48e8-4f07-9d52-538e3892181f"
   },
   "outputs": [
    {
     "data": {
      "text/plain": [
       "<bound method Series.unique of 0                            Eric Goldberg, MD\n",
       "1                         Pine Cone Restaurant\n",
       "2                   Deforest Family Restaurant\n",
       "3                                     Culver's\n",
       "4                  Chang Jiang Chinese Kitchen\n",
       "                         ...                  \n",
       "42148                 Rocco's NY Pizza & Pasta\n",
       "42149                          Pilates Central\n",
       "42150    Yelp's Secret Cinema: Made In Arizona\n",
       "42151          LaBella Pizzeria and Restaurant\n",
       "42152                     Oriental Supermarket\n",
       "Name: name, Length: 41814, dtype: object>"
      ]
     },
     "execution_count": 7,
     "metadata": {},
     "output_type": "execute_result"
    }
   ],
   "source": [
    "Bussiness_df['name'].unique"
   ]
  },
  {
   "cell_type": "code",
   "execution_count": 8,
   "metadata": {
    "colab": {
     "base_uri": "https://localhost:8080/"
    },
    "id": "sQntIvtKT1TT",
    "outputId": "a38056b2-3ddb-4fcc-e95f-bc479f3eafb8"
   },
   "outputs": [
    {
     "data": {
      "text/plain": [
       "business_id     0\n",
       "categories      0\n",
       "name            0\n",
       "review_count    0\n",
       "state           0\n",
       "stars           0\n",
       "dtype: int64"
      ]
     },
     "execution_count": 8,
     "metadata": {},
     "output_type": "execute_result"
    }
   ],
   "source": [
    "Bussiness_df.isnull().sum()"
   ]
  },
  {
   "cell_type": "markdown",
   "metadata": {
    "id": "paBoxHkQiNTi"
   },
   "source": [
    "## **Importing Review data file that contains user and his/her review details**"
   ]
  },
  {
   "cell_type": "code",
   "execution_count": 9,
   "metadata": {
    "id": "nY5t_jXMyaFc"
   },
   "outputs": [],
   "source": [
    "Review_df = pd.read_csv('ML Dataset/review.csv')"
   ]
  },
  {
   "cell_type": "code",
   "execution_count": 10,
   "metadata": {
    "colab": {
     "base_uri": "https://localhost:8080/",
     "height": 492
    },
    "id": "Sn6pH6gM1H8k",
    "outputId": "f9259d78-4d80-4fae-cd5a-9a4efe4ab899"
   },
   "outputs": [
    {
     "data": {
      "text/html": [
       "<div>\n",
       "<style scoped>\n",
       "    .dataframe tbody tr th:only-of-type {\n",
       "        vertical-align: middle;\n",
       "    }\n",
       "\n",
       "    .dataframe tbody tr th {\n",
       "        vertical-align: top;\n",
       "    }\n",
       "\n",
       "    .dataframe thead th {\n",
       "        text-align: right;\n",
       "    }\n",
       "</style>\n",
       "<table border=\"1\" class=\"dataframe\">\n",
       "  <thead>\n",
       "    <tr style=\"text-align: right;\">\n",
       "      <th></th>\n",
       "      <th>user_id</th>\n",
       "      <th>review_id</th>\n",
       "      <th>text</th>\n",
       "      <th>votes.cool</th>\n",
       "      <th>business_id</th>\n",
       "      <th>votes.funny</th>\n",
       "      <th>stars</th>\n",
       "      <th>date</th>\n",
       "      <th>type</th>\n",
       "      <th>votes.useful</th>\n",
       "    </tr>\n",
       "  </thead>\n",
       "  <tbody>\n",
       "    <tr>\n",
       "      <th>0</th>\n",
       "      <td>Xqd0DzHaiyRqVH3WRG7hzg</td>\n",
       "      <td>15SdjuK7DmYqUAj6rjGowg</td>\n",
       "      <td>dr. goldberg offers everything i look for in a...</td>\n",
       "      <td>1</td>\n",
       "      <td>vcNAWiLM4dR7D2nwwJ7nCA</td>\n",
       "      <td>0</td>\n",
       "      <td>5</td>\n",
       "      <td>2007-05-17</td>\n",
       "      <td>review</td>\n",
       "      <td>2</td>\n",
       "    </tr>\n",
       "    <tr>\n",
       "      <th>1</th>\n",
       "      <td>H1kH6QZV7Le4zqTRNxoZow</td>\n",
       "      <td>RF6UnRTtG7tWMcrO2GEoAg</td>\n",
       "      <td>Unfortunately, the frustration of being Dr. Go...</td>\n",
       "      <td>0</td>\n",
       "      <td>vcNAWiLM4dR7D2nwwJ7nCA</td>\n",
       "      <td>0</td>\n",
       "      <td>2</td>\n",
       "      <td>2010-03-22</td>\n",
       "      <td>review</td>\n",
       "      <td>2</td>\n",
       "    </tr>\n",
       "    <tr>\n",
       "      <th>2</th>\n",
       "      <td>zvJCcrpm2yOZrxKffwGQLA</td>\n",
       "      <td>-TsVN230RCkLYKBeLsuz7A</td>\n",
       "      <td>Dr. Goldberg has been my doctor for years and ...</td>\n",
       "      <td>1</td>\n",
       "      <td>vcNAWiLM4dR7D2nwwJ7nCA</td>\n",
       "      <td>0</td>\n",
       "      <td>4</td>\n",
       "      <td>2012-02-14</td>\n",
       "      <td>review</td>\n",
       "      <td>1</td>\n",
       "    </tr>\n",
       "    <tr>\n",
       "      <th>3</th>\n",
       "      <td>KBLW4wJA_fwoWmMhiHRVOA</td>\n",
       "      <td>dNocEAyUucjT371NNND41Q</td>\n",
       "      <td>Been going to Dr. Goldberg for over 10 years. ...</td>\n",
       "      <td>0</td>\n",
       "      <td>vcNAWiLM4dR7D2nwwJ7nCA</td>\n",
       "      <td>0</td>\n",
       "      <td>4</td>\n",
       "      <td>2012-03-02</td>\n",
       "      <td>review</td>\n",
       "      <td>0</td>\n",
       "    </tr>\n",
       "    <tr>\n",
       "      <th>4</th>\n",
       "      <td>zvJCcrpm2yOZrxKffwGQLA</td>\n",
       "      <td>ebcN2aqmNUuYNoyvQErgnA</td>\n",
       "      <td>Got a letter in the mail last week that said D...</td>\n",
       "      <td>1</td>\n",
       "      <td>vcNAWiLM4dR7D2nwwJ7nCA</td>\n",
       "      <td>0</td>\n",
       "      <td>4</td>\n",
       "      <td>2012-05-15</td>\n",
       "      <td>review</td>\n",
       "      <td>2</td>\n",
       "    </tr>\n",
       "  </tbody>\n",
       "</table>\n",
       "</div>"
      ],
      "text/plain": [
       "                  user_id               review_id  \\\n",
       "0  Xqd0DzHaiyRqVH3WRG7hzg  15SdjuK7DmYqUAj6rjGowg   \n",
       "1  H1kH6QZV7Le4zqTRNxoZow  RF6UnRTtG7tWMcrO2GEoAg   \n",
       "2  zvJCcrpm2yOZrxKffwGQLA  -TsVN230RCkLYKBeLsuz7A   \n",
       "3  KBLW4wJA_fwoWmMhiHRVOA  dNocEAyUucjT371NNND41Q   \n",
       "4  zvJCcrpm2yOZrxKffwGQLA  ebcN2aqmNUuYNoyvQErgnA   \n",
       "\n",
       "                                                text  votes.cool  \\\n",
       "0  dr. goldberg offers everything i look for in a...           1   \n",
       "1  Unfortunately, the frustration of being Dr. Go...           0   \n",
       "2  Dr. Goldberg has been my doctor for years and ...           1   \n",
       "3  Been going to Dr. Goldberg for over 10 years. ...           0   \n",
       "4  Got a letter in the mail last week that said D...           1   \n",
       "\n",
       "              business_id  votes.funny  stars        date    type  \\\n",
       "0  vcNAWiLM4dR7D2nwwJ7nCA            0      5  2007-05-17  review   \n",
       "1  vcNAWiLM4dR7D2nwwJ7nCA            0      2  2010-03-22  review   \n",
       "2  vcNAWiLM4dR7D2nwwJ7nCA            0      4  2012-02-14  review   \n",
       "3  vcNAWiLM4dR7D2nwwJ7nCA            0      4  2012-03-02  review   \n",
       "4  vcNAWiLM4dR7D2nwwJ7nCA            0      4  2012-05-15  review   \n",
       "\n",
       "   votes.useful  \n",
       "0             2  \n",
       "1             2  \n",
       "2             1  \n",
       "3             0  \n",
       "4             2  "
      ]
     },
     "execution_count": 10,
     "metadata": {},
     "output_type": "execute_result"
    }
   ],
   "source": [
    "Review_df.head()"
   ]
  },
  {
   "cell_type": "markdown",
   "metadata": {
    "id": "UX9h22fJwoyT"
   },
   "source": [
    "## **Deleting NAN values in Review dataset**"
   ]
  },
  {
   "cell_type": "code",
   "execution_count": 11,
   "metadata": {
    "id": "HDme92JRicbP"
   },
   "outputs": [],
   "source": [
    "Review_df.dropna(inplace=True)\n"
   ]
  },
  {
   "cell_type": "code",
   "execution_count": 12,
   "metadata": {
    "colab": {
     "base_uri": "https://localhost:8080/"
    },
    "id": "bP8cXX6GZRMB",
    "outputId": "e877c2c6-a6dd-4dd6-e94c-4540d88b5b1d"
   },
   "outputs": [
    {
     "data": {
      "text/plain": [
       "user_id         0\n",
       "review_id       0\n",
       "text            0\n",
       "votes.cool      0\n",
       "business_id     0\n",
       "votes.funny     0\n",
       "stars           0\n",
       "date            0\n",
       "type            0\n",
       "votes.useful    0\n",
       "dtype: int64"
      ]
     },
     "execution_count": 12,
     "metadata": {},
     "output_type": "execute_result"
    }
   ],
   "source": [
    "Review_df.isnull().sum()"
   ]
  },
  {
   "cell_type": "markdown",
   "metadata": {
    "id": "262Jbdm0iaN4"
   },
   "source": [
    "## **Dropping Duplicate Rows**"
   ]
  },
  {
   "cell_type": "code",
   "execution_count": 13,
   "metadata": {
    "colab": {
     "base_uri": "https://localhost:8080/"
    },
    "id": "7xqVpdw1uUNM",
    "outputId": "800073f0-e319-4496-baf9-3588104c7878"
   },
   "outputs": [
    {
     "data": {
      "text/plain": [
       "(1125457, 10)"
      ]
     },
     "execution_count": 13,
     "metadata": {},
     "output_type": "execute_result"
    }
   ],
   "source": [
    "Review_df.shape"
   ]
  },
  {
   "cell_type": "code",
   "execution_count": 14,
   "metadata": {
    "colab": {
     "base_uri": "https://localhost:8080/",
     "height": 597
    },
    "id": "B8trjEf3ulki",
    "outputId": "a2e7bd81-b394-46d8-8c08-f3dac3e3412c"
   },
   "outputs": [
    {
     "data": {
      "text/html": [
       "<div>\n",
       "<style scoped>\n",
       "    .dataframe tbody tr th:only-of-type {\n",
       "        vertical-align: middle;\n",
       "    }\n",
       "\n",
       "    .dataframe tbody tr th {\n",
       "        vertical-align: top;\n",
       "    }\n",
       "\n",
       "    .dataframe thead th {\n",
       "        text-align: right;\n",
       "    }\n",
       "</style>\n",
       "<table border=\"1\" class=\"dataframe\">\n",
       "  <thead>\n",
       "    <tr style=\"text-align: right;\">\n",
       "      <th></th>\n",
       "      <th>user_id</th>\n",
       "      <th>review_id</th>\n",
       "      <th>text</th>\n",
       "      <th>votes.cool</th>\n",
       "      <th>business_id</th>\n",
       "      <th>votes.funny</th>\n",
       "      <th>stars</th>\n",
       "      <th>date</th>\n",
       "      <th>type</th>\n",
       "      <th>votes.useful</th>\n",
       "    </tr>\n",
       "  </thead>\n",
       "  <tbody>\n",
       "    <tr>\n",
       "      <th>0</th>\n",
       "      <td>Xqd0DzHaiyRqVH3WRG7hzg</td>\n",
       "      <td>15SdjuK7DmYqUAj6rjGowg</td>\n",
       "      <td>dr. goldberg offers everything i look for in a...</td>\n",
       "      <td>1</td>\n",
       "      <td>vcNAWiLM4dR7D2nwwJ7nCA</td>\n",
       "      <td>0</td>\n",
       "      <td>5</td>\n",
       "      <td>2007-05-17</td>\n",
       "      <td>review</td>\n",
       "      <td>2</td>\n",
       "    </tr>\n",
       "    <tr>\n",
       "      <th>1</th>\n",
       "      <td>H1kH6QZV7Le4zqTRNxoZow</td>\n",
       "      <td>RF6UnRTtG7tWMcrO2GEoAg</td>\n",
       "      <td>Unfortunately, the frustration of being Dr. Go...</td>\n",
       "      <td>0</td>\n",
       "      <td>vcNAWiLM4dR7D2nwwJ7nCA</td>\n",
       "      <td>0</td>\n",
       "      <td>2</td>\n",
       "      <td>2010-03-22</td>\n",
       "      <td>review</td>\n",
       "      <td>2</td>\n",
       "    </tr>\n",
       "    <tr>\n",
       "      <th>2</th>\n",
       "      <td>zvJCcrpm2yOZrxKffwGQLA</td>\n",
       "      <td>-TsVN230RCkLYKBeLsuz7A</td>\n",
       "      <td>Dr. Goldberg has been my doctor for years and ...</td>\n",
       "      <td>1</td>\n",
       "      <td>vcNAWiLM4dR7D2nwwJ7nCA</td>\n",
       "      <td>0</td>\n",
       "      <td>4</td>\n",
       "      <td>2012-02-14</td>\n",
       "      <td>review</td>\n",
       "      <td>1</td>\n",
       "    </tr>\n",
       "    <tr>\n",
       "      <th>3</th>\n",
       "      <td>KBLW4wJA_fwoWmMhiHRVOA</td>\n",
       "      <td>dNocEAyUucjT371NNND41Q</td>\n",
       "      <td>Been going to Dr. Goldberg for over 10 years. ...</td>\n",
       "      <td>0</td>\n",
       "      <td>vcNAWiLM4dR7D2nwwJ7nCA</td>\n",
       "      <td>0</td>\n",
       "      <td>4</td>\n",
       "      <td>2012-03-02</td>\n",
       "      <td>review</td>\n",
       "      <td>0</td>\n",
       "    </tr>\n",
       "    <tr>\n",
       "      <th>4</th>\n",
       "      <td>zvJCcrpm2yOZrxKffwGQLA</td>\n",
       "      <td>ebcN2aqmNUuYNoyvQErgnA</td>\n",
       "      <td>Got a letter in the mail last week that said D...</td>\n",
       "      <td>1</td>\n",
       "      <td>vcNAWiLM4dR7D2nwwJ7nCA</td>\n",
       "      <td>0</td>\n",
       "      <td>4</td>\n",
       "      <td>2012-05-15</td>\n",
       "      <td>review</td>\n",
       "      <td>2</td>\n",
       "    </tr>\n",
       "    <tr>\n",
       "      <th>...</th>\n",
       "      <td>...</td>\n",
       "      <td>...</td>\n",
       "      <td>...</td>\n",
       "      <td>...</td>\n",
       "      <td>...</td>\n",
       "      <td>...</td>\n",
       "      <td>...</td>\n",
       "      <td>...</td>\n",
       "      <td>...</td>\n",
       "      <td>...</td>\n",
       "    </tr>\n",
       "    <tr>\n",
       "      <th>1125453</th>\n",
       "      <td>lhMo-dGq0V2iKqBIiwUJSg</td>\n",
       "      <td>eujuvkGqy2ssZ9zjdPJrMA</td>\n",
       "      <td>Located at the bottom of Lauriston Place, this...</td>\n",
       "      <td>0</td>\n",
       "      <td>BVxlrYWgmi-8TPGMe6CTpg</td>\n",
       "      <td>0</td>\n",
       "      <td>5</td>\n",
       "      <td>2010-08-11</td>\n",
       "      <td>review</td>\n",
       "      <td>1</td>\n",
       "    </tr>\n",
       "    <tr>\n",
       "      <th>1125454</th>\n",
       "      <td>TTrzXCtB2MZA8Azw56bRlw</td>\n",
       "      <td>vFA5KXUGEH-oMcM6WTC-8w</td>\n",
       "      <td>I love this place! I think the staff struggle ...</td>\n",
       "      <td>1</td>\n",
       "      <td>BVxlrYWgmi-8TPGMe6CTpg</td>\n",
       "      <td>2</td>\n",
       "      <td>5</td>\n",
       "      <td>2012-06-15</td>\n",
       "      <td>review</td>\n",
       "      <td>1</td>\n",
       "    </tr>\n",
       "    <tr>\n",
       "      <th>1125455</th>\n",
       "      <td>rtS7mDof5d-cEPBsmVuUJw</td>\n",
       "      <td>0sVK4VUxvj3cy78W0DlvWQ</td>\n",
       "      <td>Perfect little shop to go to if you want to pi...</td>\n",
       "      <td>1</td>\n",
       "      <td>BVxlrYWgmi-8TPGMe6CTpg</td>\n",
       "      <td>0</td>\n",
       "      <td>3</td>\n",
       "      <td>2013-09-17</td>\n",
       "      <td>review</td>\n",
       "      <td>2</td>\n",
       "    </tr>\n",
       "    <tr>\n",
       "      <th>1125456</th>\n",
       "      <td>tZs84cKAUSOtP_nAiSdreQ</td>\n",
       "      <td>Nx88b_tCsP7Oja3PvhR5tQ</td>\n",
       "      <td>I visit here once or twice a month. Just to ge...</td>\n",
       "      <td>1</td>\n",
       "      <td>BVxlrYWgmi-8TPGMe6CTpg</td>\n",
       "      <td>1</td>\n",
       "      <td>4</td>\n",
       "      <td>2013-09-18</td>\n",
       "      <td>review</td>\n",
       "      <td>1</td>\n",
       "    </tr>\n",
       "    <tr>\n",
       "      <th>1125457</th>\n",
       "      <td>LfnB4N7SVSAIPOM3If_kDA</td>\n",
       "      <td>p2KCsYuLHDtXqh1BpR9dGQ</td>\n",
       "      <td>I like this place to pick up a few odds and en...</td>\n",
       "      <td>0</td>\n",
       "      <td>BVxlrYWgmi-8TPGMe6CTpg</td>\n",
       "      <td>0</td>\n",
       "      <td>3</td>\n",
       "      <td>2013-12-17</td>\n",
       "      <td>review</td>\n",
       "      <td>1</td>\n",
       "    </tr>\n",
       "  </tbody>\n",
       "</table>\n",
       "<p>1125457 rows × 10 columns</p>\n",
       "</div>"
      ],
      "text/plain": [
       "                        user_id               review_id  \\\n",
       "0        Xqd0DzHaiyRqVH3WRG7hzg  15SdjuK7DmYqUAj6rjGowg   \n",
       "1        H1kH6QZV7Le4zqTRNxoZow  RF6UnRTtG7tWMcrO2GEoAg   \n",
       "2        zvJCcrpm2yOZrxKffwGQLA  -TsVN230RCkLYKBeLsuz7A   \n",
       "3        KBLW4wJA_fwoWmMhiHRVOA  dNocEAyUucjT371NNND41Q   \n",
       "4        zvJCcrpm2yOZrxKffwGQLA  ebcN2aqmNUuYNoyvQErgnA   \n",
       "...                         ...                     ...   \n",
       "1125453  lhMo-dGq0V2iKqBIiwUJSg  eujuvkGqy2ssZ9zjdPJrMA   \n",
       "1125454  TTrzXCtB2MZA8Azw56bRlw  vFA5KXUGEH-oMcM6WTC-8w   \n",
       "1125455  rtS7mDof5d-cEPBsmVuUJw  0sVK4VUxvj3cy78W0DlvWQ   \n",
       "1125456  tZs84cKAUSOtP_nAiSdreQ  Nx88b_tCsP7Oja3PvhR5tQ   \n",
       "1125457  LfnB4N7SVSAIPOM3If_kDA  p2KCsYuLHDtXqh1BpR9dGQ   \n",
       "\n",
       "                                                      text  votes.cool  \\\n",
       "0        dr. goldberg offers everything i look for in a...           1   \n",
       "1        Unfortunately, the frustration of being Dr. Go...           0   \n",
       "2        Dr. Goldberg has been my doctor for years and ...           1   \n",
       "3        Been going to Dr. Goldberg for over 10 years. ...           0   \n",
       "4        Got a letter in the mail last week that said D...           1   \n",
       "...                                                    ...         ...   \n",
       "1125453  Located at the bottom of Lauriston Place, this...           0   \n",
       "1125454  I love this place! I think the staff struggle ...           1   \n",
       "1125455  Perfect little shop to go to if you want to pi...           1   \n",
       "1125456  I visit here once or twice a month. Just to ge...           1   \n",
       "1125457  I like this place to pick up a few odds and en...           0   \n",
       "\n",
       "                    business_id  votes.funny  stars        date    type  \\\n",
       "0        vcNAWiLM4dR7D2nwwJ7nCA            0      5  2007-05-17  review   \n",
       "1        vcNAWiLM4dR7D2nwwJ7nCA            0      2  2010-03-22  review   \n",
       "2        vcNAWiLM4dR7D2nwwJ7nCA            0      4  2012-02-14  review   \n",
       "3        vcNAWiLM4dR7D2nwwJ7nCA            0      4  2012-03-02  review   \n",
       "4        vcNAWiLM4dR7D2nwwJ7nCA            0      4  2012-05-15  review   \n",
       "...                         ...          ...    ...         ...     ...   \n",
       "1125453  BVxlrYWgmi-8TPGMe6CTpg            0      5  2010-08-11  review   \n",
       "1125454  BVxlrYWgmi-8TPGMe6CTpg            2      5  2012-06-15  review   \n",
       "1125455  BVxlrYWgmi-8TPGMe6CTpg            0      3  2013-09-17  review   \n",
       "1125456  BVxlrYWgmi-8TPGMe6CTpg            1      4  2013-09-18  review   \n",
       "1125457  BVxlrYWgmi-8TPGMe6CTpg            0      3  2013-12-17  review   \n",
       "\n",
       "         votes.useful  \n",
       "0                   2  \n",
       "1                   2  \n",
       "2                   1  \n",
       "3                   0  \n",
       "4                   2  \n",
       "...               ...  \n",
       "1125453             1  \n",
       "1125454             1  \n",
       "1125455             2  \n",
       "1125456             1  \n",
       "1125457             1  \n",
       "\n",
       "[1125457 rows x 10 columns]"
      ]
     },
     "execution_count": 14,
     "metadata": {},
     "output_type": "execute_result"
    }
   ],
   "source": [
    "Review_df.drop_duplicates()"
   ]
  },
  {
   "cell_type": "markdown",
   "metadata": {
    "id": "YvCCdDXAw_cc"
   },
   "source": [
    "## **Selecting Required columns from Review Dataset**"
   ]
  },
  {
   "cell_type": "code",
   "execution_count": 15,
   "metadata": {
    "colab": {
     "base_uri": "https://localhost:8080/",
     "height": 206
    },
    "id": "2MqfUtbyicY2",
    "outputId": "433792d9-082f-42b2-c56f-f1d661f695e4"
   },
   "outputs": [
    {
     "data": {
      "text/html": [
       "<div>\n",
       "<style scoped>\n",
       "    .dataframe tbody tr th:only-of-type {\n",
       "        vertical-align: middle;\n",
       "    }\n",
       "\n",
       "    .dataframe tbody tr th {\n",
       "        vertical-align: top;\n",
       "    }\n",
       "\n",
       "    .dataframe thead th {\n",
       "        text-align: right;\n",
       "    }\n",
       "</style>\n",
       "<table border=\"1\" class=\"dataframe\">\n",
       "  <thead>\n",
       "    <tr style=\"text-align: right;\">\n",
       "      <th></th>\n",
       "      <th>user_id</th>\n",
       "      <th>text</th>\n",
       "      <th>business_id</th>\n",
       "      <th>stars</th>\n",
       "      <th>type</th>\n",
       "    </tr>\n",
       "  </thead>\n",
       "  <tbody>\n",
       "    <tr>\n",
       "      <th>0</th>\n",
       "      <td>Xqd0DzHaiyRqVH3WRG7hzg</td>\n",
       "      <td>dr. goldberg offers everything i look for in a...</td>\n",
       "      <td>vcNAWiLM4dR7D2nwwJ7nCA</td>\n",
       "      <td>5</td>\n",
       "      <td>review</td>\n",
       "    </tr>\n",
       "    <tr>\n",
       "      <th>1</th>\n",
       "      <td>H1kH6QZV7Le4zqTRNxoZow</td>\n",
       "      <td>Unfortunately, the frustration of being Dr. Go...</td>\n",
       "      <td>vcNAWiLM4dR7D2nwwJ7nCA</td>\n",
       "      <td>2</td>\n",
       "      <td>review</td>\n",
       "    </tr>\n",
       "    <tr>\n",
       "      <th>2</th>\n",
       "      <td>zvJCcrpm2yOZrxKffwGQLA</td>\n",
       "      <td>Dr. Goldberg has been my doctor for years and ...</td>\n",
       "      <td>vcNAWiLM4dR7D2nwwJ7nCA</td>\n",
       "      <td>4</td>\n",
       "      <td>review</td>\n",
       "    </tr>\n",
       "    <tr>\n",
       "      <th>3</th>\n",
       "      <td>KBLW4wJA_fwoWmMhiHRVOA</td>\n",
       "      <td>Been going to Dr. Goldberg for over 10 years. ...</td>\n",
       "      <td>vcNAWiLM4dR7D2nwwJ7nCA</td>\n",
       "      <td>4</td>\n",
       "      <td>review</td>\n",
       "    </tr>\n",
       "    <tr>\n",
       "      <th>4</th>\n",
       "      <td>zvJCcrpm2yOZrxKffwGQLA</td>\n",
       "      <td>Got a letter in the mail last week that said D...</td>\n",
       "      <td>vcNAWiLM4dR7D2nwwJ7nCA</td>\n",
       "      <td>4</td>\n",
       "      <td>review</td>\n",
       "    </tr>\n",
       "  </tbody>\n",
       "</table>\n",
       "</div>"
      ],
      "text/plain": [
       "                  user_id                                               text  \\\n",
       "0  Xqd0DzHaiyRqVH3WRG7hzg  dr. goldberg offers everything i look for in a...   \n",
       "1  H1kH6QZV7Le4zqTRNxoZow  Unfortunately, the frustration of being Dr. Go...   \n",
       "2  zvJCcrpm2yOZrxKffwGQLA  Dr. Goldberg has been my doctor for years and ...   \n",
       "3  KBLW4wJA_fwoWmMhiHRVOA  Been going to Dr. Goldberg for over 10 years. ...   \n",
       "4  zvJCcrpm2yOZrxKffwGQLA  Got a letter in the mail last week that said D...   \n",
       "\n",
       "              business_id  stars    type  \n",
       "0  vcNAWiLM4dR7D2nwwJ7nCA      5  review  \n",
       "1  vcNAWiLM4dR7D2nwwJ7nCA      2  review  \n",
       "2  vcNAWiLM4dR7D2nwwJ7nCA      4  review  \n",
       "3  vcNAWiLM4dR7D2nwwJ7nCA      4  review  \n",
       "4  vcNAWiLM4dR7D2nwwJ7nCA      4  review  "
      ]
     },
     "execution_count": 15,
     "metadata": {},
     "output_type": "execute_result"
    }
   ],
   "source": [
    "Review_df  = Review_df[['user_id','text','business_id','stars','type']]\n",
    "Review_df.head(5)"
   ]
  },
  {
   "cell_type": "markdown",
   "metadata": {
    "id": "aSys9mo9xIvY"
   },
   "source": [
    "## **The column type of review dataset has same value \"1\"**"
   ]
  },
  {
   "cell_type": "code",
   "execution_count": 16,
   "metadata": {
    "colab": {
     "base_uri": "https://localhost:8080/",
     "height": 341
    },
    "id": "lz8Uzf-_icWX",
    "outputId": "db4c6276-64e0-46f6-bfe9-879107b19439"
   },
   "outputs": [
    {
     "name": "stdout",
     "output_type": "stream",
     "text": [
      "review    1125457\n",
      "Name: type, dtype: int64\n"
     ]
    },
    {
     "data": {
      "text/plain": [
       "<AxesSubplot:xlabel='type', ylabel='count'>"
      ]
     },
     "execution_count": 16,
     "metadata": {},
     "output_type": "execute_result"
    },
    {
     "data": {
      "image/png": "[encoded data removed]",
      "text/plain": [
       "<Figure size 432x288 with 1 Axes>"
      ]
     },
     "metadata": {
      "needs_background": "light"
     },
     "output_type": "display_data"
    }
   ],
   "source": [
    "import seaborn as sb\n",
    "print(Review_df.type.value_counts())\n",
    "sb.countplot(x='type',data=Review_df)"
   ]
  },
  {
   "cell_type": "markdown",
   "metadata": {
    "id": "KIfMMP3VioxU"
   },
   "source": [
    "## **so we can remove 'type' column because it has only one value**"
   ]
  },
  {
   "cell_type": "code",
   "execution_count": 17,
   "metadata": {
    "colab": {
     "base_uri": "https://localhost:8080/",
     "height": 206
    },
    "id": "uP04TnR3mVNh",
    "outputId": "35befc88-4ebb-4e2c-f920-66a0bfe3d798"
   },
   "outputs": [
    {
     "data": {
      "text/html": [
       "<div>\n",
       "<style scoped>\n",
       "    .dataframe tbody tr th:only-of-type {\n",
       "        vertical-align: middle;\n",
       "    }\n",
       "\n",
       "    .dataframe tbody tr th {\n",
       "        vertical-align: top;\n",
       "    }\n",
       "\n",
       "    .dataframe thead th {\n",
       "        text-align: right;\n",
       "    }\n",
       "</style>\n",
       "<table border=\"1\" class=\"dataframe\">\n",
       "  <thead>\n",
       "    <tr style=\"text-align: right;\">\n",
       "      <th></th>\n",
       "      <th>user_id</th>\n",
       "      <th>text</th>\n",
       "      <th>business_id</th>\n",
       "      <th>stars</th>\n",
       "    </tr>\n",
       "  </thead>\n",
       "  <tbody>\n",
       "    <tr>\n",
       "      <th>0</th>\n",
       "      <td>Xqd0DzHaiyRqVH3WRG7hzg</td>\n",
       "      <td>dr. goldberg offers everything i look for in a...</td>\n",
       "      <td>vcNAWiLM4dR7D2nwwJ7nCA</td>\n",
       "      <td>5</td>\n",
       "    </tr>\n",
       "    <tr>\n",
       "      <th>1</th>\n",
       "      <td>H1kH6QZV7Le4zqTRNxoZow</td>\n",
       "      <td>Unfortunately, the frustration of being Dr. Go...</td>\n",
       "      <td>vcNAWiLM4dR7D2nwwJ7nCA</td>\n",
       "      <td>2</td>\n",
       "    </tr>\n",
       "    <tr>\n",
       "      <th>2</th>\n",
       "      <td>zvJCcrpm2yOZrxKffwGQLA</td>\n",
       "      <td>Dr. Goldberg has been my doctor for years and ...</td>\n",
       "      <td>vcNAWiLM4dR7D2nwwJ7nCA</td>\n",
       "      <td>4</td>\n",
       "    </tr>\n",
       "    <tr>\n",
       "      <th>3</th>\n",
       "      <td>KBLW4wJA_fwoWmMhiHRVOA</td>\n",
       "      <td>Been going to Dr. Goldberg for over 10 years. ...</td>\n",
       "      <td>vcNAWiLM4dR7D2nwwJ7nCA</td>\n",
       "      <td>4</td>\n",
       "    </tr>\n",
       "    <tr>\n",
       "      <th>4</th>\n",
       "      <td>zvJCcrpm2yOZrxKffwGQLA</td>\n",
       "      <td>Got a letter in the mail last week that said D...</td>\n",
       "      <td>vcNAWiLM4dR7D2nwwJ7nCA</td>\n",
       "      <td>4</td>\n",
       "    </tr>\n",
       "  </tbody>\n",
       "</table>\n",
       "</div>"
      ],
      "text/plain": [
       "                  user_id                                               text  \\\n",
       "0  Xqd0DzHaiyRqVH3WRG7hzg  dr. goldberg offers everything i look for in a...   \n",
       "1  H1kH6QZV7Le4zqTRNxoZow  Unfortunately, the frustration of being Dr. Go...   \n",
       "2  zvJCcrpm2yOZrxKffwGQLA  Dr. Goldberg has been my doctor for years and ...   \n",
       "3  KBLW4wJA_fwoWmMhiHRVOA  Been going to Dr. Goldberg for over 10 years. ...   \n",
       "4  zvJCcrpm2yOZrxKffwGQLA  Got a letter in the mail last week that said D...   \n",
       "\n",
       "              business_id  stars  \n",
       "0  vcNAWiLM4dR7D2nwwJ7nCA      5  \n",
       "1  vcNAWiLM4dR7D2nwwJ7nCA      2  \n",
       "2  vcNAWiLM4dR7D2nwwJ7nCA      4  \n",
       "3  vcNAWiLM4dR7D2nwwJ7nCA      4  \n",
       "4  vcNAWiLM4dR7D2nwwJ7nCA      4  "
      ]
     },
     "execution_count": 17,
     "metadata": {},
     "output_type": "execute_result"
    }
   ],
   "source": [
    "del Review_df['type']\n",
    "Review_df.head()"
   ]
  },
  {
   "cell_type": "code",
   "execution_count": 18,
   "metadata": {
    "colab": {
     "base_uri": "https://localhost:8080/"
    },
    "id": "cx0E1y7dB2Zv",
    "outputId": "7e20872e-25a2-4c02-8f9c-8b530a5dec54"
   },
   "outputs": [
    {
     "data": {
      "text/plain": [
       "(1125457, 4)"
      ]
     },
     "execution_count": 18,
     "metadata": {},
     "output_type": "execute_result"
    }
   ],
   "source": [
    "Review_df.shape"
   ]
  },
  {
   "cell_type": "markdown",
   "metadata": {
    "id": "9HBUk7tMivW3"
   },
   "source": [
    "## **Bussiness_df - Business data**\n",
    "## **Review_df - Review data**"
   ]
  },
  {
   "cell_type": "markdown",
   "metadata": {
    "id": "TrUhSMd_gl4-"
   },
   "source": [
    "## **Top 10 Highly rated Restaurants**"
   ]
  },
  {
   "cell_type": "code",
   "execution_count": 19,
   "metadata": {
    "colab": {
     "base_uri": "https://localhost:8080/"
    },
    "id": "aS_F0A28fGNZ",
    "outputId": "39ee3dbf-b99d-4370-cef5-4419eabf670f"
   },
   "outputs": [
    {
     "name": "stdout",
     "output_type": "stream",
     "text": [
      "\u001b[1mParsonage Bed & Breakfast the\u001b[0m\n",
      "\n",
      "\u001b[1mHarbor Athletic Club\u001b[0m\n",
      "\n",
      "\u001b[1mLori's Pet-Agree Salon Llc\u001b[0m\n",
      "\n",
      "\u001b[1mKillian Dental Clinic\u001b[0m\n",
      "\n",
      "\u001b[1mAll Pets Veterinary Clinic\u001b[0m\n",
      "\n",
      "\u001b[1mAce Hardware\u001b[0m\n",
      "\n",
      "\u001b[1mRevolution Hair Company Inc\u001b[0m\n",
      "\n",
      "\u001b[1mBennett's Auto Repair LLC\u001b[0m\n",
      "\n",
      "\u001b[1mDunn's Import Inc\u001b[0m\n",
      "\n",
      "\u001b[1mSun Prairie Public Library\u001b[0m\n",
      "\n"
     ]
    }
   ],
   "source": [
    "res = Bussiness_df.loc[Bussiness_df['stars']==5.0].name.values\n",
    "for i in range(10):\n",
    "    print('\\033[1m'+res[i]+'\\033[0m')\n",
    "    print(\"\")"
   ]
  },
  {
   "cell_type": "markdown",
   "metadata": {
    "id": "ZdWA1-9bjBe4"
   },
   "source": [
    "## **Review_df is main important data for visualization**"
   ]
  },
  {
   "cell_type": "markdown",
   "metadata": {
    "id": "YYKqxFWVuABK"
   },
   "source": [
    "## **Number of users given for each star**"
   ]
  },
  {
   "cell_type": "code",
   "execution_count": 20,
   "metadata": {
    "colab": {
     "base_uri": "https://localhost:8080/",
     "height": 296
    },
    "id": "hjcuzS_r7NKs",
    "outputId": "e939e17e-ca6f-4aa5-db66-2cedf4fc1032"
   },
   "outputs": [
    {
     "data": {
      "text/plain": [
       "<AxesSubplot:xlabel='stars', ylabel='count'>"
      ]
     },
     "execution_count": 20,
     "metadata": {},
     "output_type": "execute_result"
    },
    {
     "data": {
      "image/png": "[encoded data removed]",
      "text/plain": [
       "<Figure size 432x288 with 1 Axes>"
      ]
     },
     "metadata": {},
     "output_type": "display_data"
    }
   ],
   "source": [
    "import matplotlib.pyplot as plt\n",
    "import seaborn as sb\n",
    "plt.style.use('dark_background')\n",
    "sb.countplot(x='stars',data=Review_df)\n"
   ]
  },
  {
   "cell_type": "markdown",
   "metadata": {
    "id": "A4z9tdNj7c2L"
   },
   "source": [
    "## **Number of Restaurants**"
   ]
  },
  {
   "cell_type": "code",
   "execution_count": 21,
   "metadata": {
    "colab": {
     "base_uri": "https://localhost:8080/"
    },
    "id": "t2YKdCgT7NIf",
    "outputId": "98f27a6b-cca2-4e1b-cbfd-1a17bdf6db4e"
   },
   "outputs": [
    {
     "data": {
      "text/plain": [
       "30671"
      ]
     },
     "execution_count": 21,
     "metadata": {},
     "output_type": "execute_result"
    }
   ],
   "source": [
    "n = len(pd.unique(Bussiness_df['name']))\n",
    "n"
   ]
  },
  {
   "cell_type": "markdown",
   "metadata": {
    "id": "oyr6S0_ztyiL"
   },
   "source": [
    "## **Number of users count in each state**"
   ]
  },
  {
   "cell_type": "code",
   "execution_count": 22,
   "metadata": {
    "colab": {
     "base_uri": "https://localhost:8080/",
     "height": 762
    },
    "id": "8TnTUBIa7NF2",
    "outputId": "4afbe3aa-2a9a-4ae5-d62c-bcb1db39bbac"
   },
   "outputs": [
    {
     "name": "stdout",
     "output_type": "stream",
     "text": [
      "AZ     22011\n",
      "NV     14444\n",
      "EDH     2832\n",
      "WI      2105\n",
      "ON       297\n",
      "MLN      102\n",
      "ELN        8\n",
      "FIF        3\n",
      "SCB        2\n",
      "NY         2\n",
      "CA         1\n",
      "GA         1\n",
      "NC         1\n",
      "XGL        1\n",
      "NTH        1\n",
      "KHL        1\n",
      "MN         1\n",
      "MA         1\n",
      "Name: state, dtype: int64\n"
     ]
    },
    {
     "data": {
      "image/png": "[encoded data removed]",
      "text/plain": [
       "<Figure size 864x504 with 1 Axes>"
      ]
     },
     "metadata": {},
     "output_type": "display_data"
    }
   ],
   "source": [
    "fig, ax = plt.subplots(figsize=(12, 7))\n",
    "print(Bussiness_df.state.value_counts())\n",
    "plt.style.use('dark_background')\n",
    "sb.countplot(x='state',data=Bussiness_df, ax=ax)\n",
    "plt.show()"
   ]
  },
  {
   "cell_type": "markdown",
   "metadata": {
    "id": "5F1rCT1OtpmK"
   },
   "source": [
    "## **Average number of stars in each state**"
   ]
  },
  {
   "cell_type": "code",
   "execution_count": 23,
   "metadata": {
    "colab": {
     "base_uri": "https://localhost:8080/",
     "height": 442
    },
    "id": "Ro9jrGNbDspE",
    "outputId": "e44e735b-b068-43bf-a0d2-2160bec7398d"
   },
   "outputs": [
    {
     "data": {
      "image/png": "[encoded data removed]",
      "text/plain": [
       "<Figure size 864x504 with 1 Axes>"
      ]
     },
     "metadata": {},
     "output_type": "display_data"
    }
   ],
   "source": [
    "x1 = Bussiness_df.groupby('state').mean()['stars']\n",
    "plt.figure(figsize=(12, 7))\n",
    "plt.style.use('dark_background')\n",
    "plt.plot(x1,c='r')\n",
    "plt.xlabel('state')\n",
    "plt.ylabel('Average stars')\n",
    "\n",
    "plt.show()"
   ]
  },
  {
   "cell_type": "markdown",
   "metadata": {
    "id": "mzzvWqvitgxc"
   },
   "source": [
    "## **Range of stars given in each state**"
   ]
  },
  {
   "cell_type": "code",
   "execution_count": 24,
   "metadata": {
    "colab": {
     "base_uri": "https://localhost:8080/",
     "height": 442
    },
    "id": "KRqIMDSY5zRZ",
    "outputId": "1baea709-20d1-4d9a-9412-bd4febf85bb8"
   },
   "outputs": [
    {
     "data": {
      "image/png": "[encoded data removed]",
      "text/plain": [
       "<Figure size 864x504 with 1 Axes>"
      ]
     },
     "metadata": {},
     "output_type": "display_data"
    }
   ],
   "source": [
    "import seaborn as sns\n",
    "import matplotlib.pyplot as plt\n",
    "plt.style.use('dark_background')\n",
    "plt.figure(figsize=(12, 7))\n",
    "x1 = Bussiness_df.groupby('state').mean()['stars']\n",
    "sns.boxplot(x= 'state',y = 'stars',data=Bussiness_df)\n",
    "sns.stripplot(x= 'state',y = 'stars',data=Bussiness_df)\n",
    "plt.show()"
   ]
  },
  {
   "cell_type": "markdown",
   "metadata": {
    "id": "edL44B5c8M4c"
   },
   "source": [
    "## **We taken 2 lakth rows inorder to manage Ram, Storage and Time issues**"
   ]
  },
  {
   "cell_type": "code",
   "execution_count": 25,
   "metadata": {
    "id": "fADtSRBDPzBa"
   },
   "outputs": [],
   "source": [
    "Review_df = Review_df.iloc[:200000,:]"
   ]
  },
  {
   "cell_type": "markdown",
   "metadata": {
    "id": "OeMXqUlGjQC0"
   },
   "source": [
    "## **Remove integer valus in text for model to increase accuracy**"
   ]
  },
  {
   "cell_type": "code",
   "execution_count": 26,
   "metadata": {
    "id": "9qbOgXU517s4"
   },
   "outputs": [],
   "source": [
    "num = ['1','2','3','4','5','6','7','8','9','0']\n",
    "def text_process_num(mess):\n",
    "    nopunc = [char for char in mess if char not in num]\n",
    "    nopunc = ''.join(nopunc)\n",
    "    return nopunc"
   ]
  },
  {
   "cell_type": "code",
   "execution_count": 27,
   "metadata": {
    "id": "IeQ5d07t2WZa"
   },
   "outputs": [],
   "source": [
    "Review_df['text'] = Review_df['text'].apply(text_process_num)"
   ]
  },
  {
   "cell_type": "code",
   "execution_count": 28,
   "metadata": {
    "colab": {
     "base_uri": "https://localhost:8080/",
     "height": 203
    },
    "id": "acHjI3pz4a3b",
    "outputId": "ba9544db-d79c-440a-8de9-bf238d5c3aab"
   },
   "outputs": [
    {
     "data": {
      "text/html": [
       "<div>\n",
       "<style scoped>\n",
       "    .dataframe tbody tr th:only-of-type {\n",
       "        vertical-align: middle;\n",
       "    }\n",
       "\n",
       "    .dataframe tbody tr th {\n",
       "        vertical-align: top;\n",
       "    }\n",
       "\n",
       "    .dataframe thead th {\n",
       "        text-align: right;\n",
       "    }\n",
       "</style>\n",
       "<table border=\"1\" class=\"dataframe\">\n",
       "  <thead>\n",
       "    <tr style=\"text-align: right;\">\n",
       "      <th></th>\n",
       "      <th>user_id</th>\n",
       "      <th>text</th>\n",
       "      <th>business_id</th>\n",
       "      <th>stars</th>\n",
       "    </tr>\n",
       "  </thead>\n",
       "  <tbody>\n",
       "    <tr>\n",
       "      <th>0</th>\n",
       "      <td>Xqd0DzHaiyRqVH3WRG7hzg</td>\n",
       "      <td>dr. goldberg offers everything i look for in a...</td>\n",
       "      <td>vcNAWiLM4dR7D2nwwJ7nCA</td>\n",
       "      <td>5</td>\n",
       "    </tr>\n",
       "    <tr>\n",
       "      <th>1</th>\n",
       "      <td>H1kH6QZV7Le4zqTRNxoZow</td>\n",
       "      <td>Unfortunately, the frustration of being Dr. Go...</td>\n",
       "      <td>vcNAWiLM4dR7D2nwwJ7nCA</td>\n",
       "      <td>2</td>\n",
       "    </tr>\n",
       "    <tr>\n",
       "      <th>2</th>\n",
       "      <td>zvJCcrpm2yOZrxKffwGQLA</td>\n",
       "      <td>Dr. Goldberg has been my doctor for years and ...</td>\n",
       "      <td>vcNAWiLM4dR7D2nwwJ7nCA</td>\n",
       "      <td>4</td>\n",
       "    </tr>\n",
       "    <tr>\n",
       "      <th>3</th>\n",
       "      <td>KBLW4wJA_fwoWmMhiHRVOA</td>\n",
       "      <td>Been going to Dr. Goldberg for over  years. I ...</td>\n",
       "      <td>vcNAWiLM4dR7D2nwwJ7nCA</td>\n",
       "      <td>4</td>\n",
       "    </tr>\n",
       "    <tr>\n",
       "      <th>4</th>\n",
       "      <td>zvJCcrpm2yOZrxKffwGQLA</td>\n",
       "      <td>Got a letter in the mail last week that said D...</td>\n",
       "      <td>vcNAWiLM4dR7D2nwwJ7nCA</td>\n",
       "      <td>4</td>\n",
       "    </tr>\n",
       "  </tbody>\n",
       "</table>\n",
       "</div>"
      ],
      "text/plain": [
       "                  user_id                                               text  \\\n",
       "0  Xqd0DzHaiyRqVH3WRG7hzg  dr. goldberg offers everything i look for in a...   \n",
       "1  H1kH6QZV7Le4zqTRNxoZow  Unfortunately, the frustration of being Dr. Go...   \n",
       "2  zvJCcrpm2yOZrxKffwGQLA  Dr. Goldberg has been my doctor for years and ...   \n",
       "3  KBLW4wJA_fwoWmMhiHRVOA  Been going to Dr. Goldberg for over  years. I ...   \n",
       "4  zvJCcrpm2yOZrxKffwGQLA  Got a letter in the mail last week that said D...   \n",
       "\n",
       "              business_id  stars  \n",
       "0  vcNAWiLM4dR7D2nwwJ7nCA      5  \n",
       "1  vcNAWiLM4dR7D2nwwJ7nCA      2  \n",
       "2  vcNAWiLM4dR7D2nwwJ7nCA      4  \n",
       "3  vcNAWiLM4dR7D2nwwJ7nCA      4  \n",
       "4  vcNAWiLM4dR7D2nwwJ7nCA      4  "
      ]
     },
     "execution_count": 28,
     "metadata": {},
     "output_type": "execute_result"
    }
   ],
   "source": [
    "Review_df.head(5)"
   ]
  },
  {
   "cell_type": "markdown",
   "metadata": {
    "id": "bcx6E3Dfj6hu"
   },
   "source": [
    "## **Remove punctuations from text for model to increase accuracy**"
   ]
  },
  {
   "cell_type": "code",
   "execution_count": 29,
   "metadata": {
    "id": "ARrQTP8BU0Iq"
   },
   "outputs": [],
   "source": [
    "def text_process(mess):\n",
    "\n",
    "    # Check characters to see if they are in punctuation\n",
    "    nopunc = [char for char in mess if char not in string.punctuation]\n",
    "    \n",
    "    # Join the characters again to form the string.\n",
    "    nopunc = ''.join(nopunc)\n",
    "    \n",
    "    return nopunc"
   ]
  },
  {
   "cell_type": "code",
   "execution_count": 30,
   "metadata": {
    "id": "xALydwcMU40p"
   },
   "outputs": [],
   "source": [
    "#clean text\n",
    "Review_df['text'] = Review_df['text'].apply(text_process)"
   ]
  },
  {
   "cell_type": "code",
   "execution_count": 31,
   "metadata": {
    "colab": {
     "base_uri": "https://localhost:8080/",
     "height": 203
    },
    "id": "MP3w1OT_fII3",
    "outputId": "f155d788-bff9-45c1-80b0-7cdb114355fc"
   },
   "outputs": [
    {
     "data": {
      "text/html": [
       "<div>\n",
       "<style scoped>\n",
       "    .dataframe tbody tr th:only-of-type {\n",
       "        vertical-align: middle;\n",
       "    }\n",
       "\n",
       "    .dataframe tbody tr th {\n",
       "        vertical-align: top;\n",
       "    }\n",
       "\n",
       "    .dataframe thead th {\n",
       "        text-align: right;\n",
       "    }\n",
       "</style>\n",
       "<table border=\"1\" class=\"dataframe\">\n",
       "  <thead>\n",
       "    <tr style=\"text-align: right;\">\n",
       "      <th></th>\n",
       "      <th>user_id</th>\n",
       "      <th>text</th>\n",
       "      <th>business_id</th>\n",
       "      <th>stars</th>\n",
       "    </tr>\n",
       "  </thead>\n",
       "  <tbody>\n",
       "    <tr>\n",
       "      <th>0</th>\n",
       "      <td>Xqd0DzHaiyRqVH3WRG7hzg</td>\n",
       "      <td>dr goldberg offers everything i look for in a ...</td>\n",
       "      <td>vcNAWiLM4dR7D2nwwJ7nCA</td>\n",
       "      <td>5</td>\n",
       "    </tr>\n",
       "    <tr>\n",
       "      <th>1</th>\n",
       "      <td>H1kH6QZV7Le4zqTRNxoZow</td>\n",
       "      <td>Unfortunately the frustration of being Dr Gold...</td>\n",
       "      <td>vcNAWiLM4dR7D2nwwJ7nCA</td>\n",
       "      <td>2</td>\n",
       "    </tr>\n",
       "    <tr>\n",
       "      <th>2</th>\n",
       "      <td>zvJCcrpm2yOZrxKffwGQLA</td>\n",
       "      <td>Dr Goldberg has been my doctor for years and I...</td>\n",
       "      <td>vcNAWiLM4dR7D2nwwJ7nCA</td>\n",
       "      <td>4</td>\n",
       "    </tr>\n",
       "    <tr>\n",
       "      <th>3</th>\n",
       "      <td>KBLW4wJA_fwoWmMhiHRVOA</td>\n",
       "      <td>Been going to Dr Goldberg for over  years I th...</td>\n",
       "      <td>vcNAWiLM4dR7D2nwwJ7nCA</td>\n",
       "      <td>4</td>\n",
       "    </tr>\n",
       "    <tr>\n",
       "      <th>4</th>\n",
       "      <td>zvJCcrpm2yOZrxKffwGQLA</td>\n",
       "      <td>Got a letter in the mail last week that said D...</td>\n",
       "      <td>vcNAWiLM4dR7D2nwwJ7nCA</td>\n",
       "      <td>4</td>\n",
       "    </tr>\n",
       "  </tbody>\n",
       "</table>\n",
       "</div>"
      ],
      "text/plain": [
       "                  user_id                                               text  \\\n",
       "0  Xqd0DzHaiyRqVH3WRG7hzg  dr goldberg offers everything i look for in a ...   \n",
       "1  H1kH6QZV7Le4zqTRNxoZow  Unfortunately the frustration of being Dr Gold...   \n",
       "2  zvJCcrpm2yOZrxKffwGQLA  Dr Goldberg has been my doctor for years and I...   \n",
       "3  KBLW4wJA_fwoWmMhiHRVOA  Been going to Dr Goldberg for over  years I th...   \n",
       "4  zvJCcrpm2yOZrxKffwGQLA  Got a letter in the mail last week that said D...   \n",
       "\n",
       "              business_id  stars  \n",
       "0  vcNAWiLM4dR7D2nwwJ7nCA      5  \n",
       "1  vcNAWiLM4dR7D2nwwJ7nCA      2  \n",
       "2  vcNAWiLM4dR7D2nwwJ7nCA      4  \n",
       "3  vcNAWiLM4dR7D2nwwJ7nCA      4  \n",
       "4  vcNAWiLM4dR7D2nwwJ7nCA      4  "
      ]
     },
     "execution_count": 31,
     "metadata": {},
     "output_type": "execute_result"
    }
   ],
   "source": [
    "Review_df.head()"
   ]
  },
  {
   "cell_type": "markdown",
   "metadata": {
    "id": "s9Zn0KuMkMY_"
   },
   "source": [
    "## **Creating new data frames for predictions**"
   ]
  },
  {
   "cell_type": "code",
   "execution_count": 32,
   "metadata": {
    "id": "4W257cKk5eTg"
   },
   "outputs": [],
   "source": [
    "userid_df = Review_df[['user_id','text']]"
   ]
  },
  {
   "cell_type": "code",
   "execution_count": 33,
   "metadata": {
    "id": "DaLSU74jAv5b"
   },
   "outputs": [],
   "source": [
    "business_df = Review_df[['business_id', 'text']]"
   ]
  },
  {
   "cell_type": "code",
   "execution_count": 34,
   "metadata": {
    "colab": {
     "base_uri": "https://localhost:8080/",
     "height": 203
    },
    "id": "h7TL-5nrAQyf",
    "outputId": "9f2d53e7-893b-48f2-d311-d586d606571a"
   },
   "outputs": [
    {
     "data": {
      "text/html": [
       "<div>\n",
       "<style scoped>\n",
       "    .dataframe tbody tr th:only-of-type {\n",
       "        vertical-align: middle;\n",
       "    }\n",
       "\n",
       "    .dataframe tbody tr th {\n",
       "        vertical-align: top;\n",
       "    }\n",
       "\n",
       "    .dataframe thead th {\n",
       "        text-align: right;\n",
       "    }\n",
       "</style>\n",
       "<table border=\"1\" class=\"dataframe\">\n",
       "  <thead>\n",
       "    <tr style=\"text-align: right;\">\n",
       "      <th></th>\n",
       "      <th>user_id</th>\n",
       "      <th>text</th>\n",
       "    </tr>\n",
       "  </thead>\n",
       "  <tbody>\n",
       "    <tr>\n",
       "      <th>0</th>\n",
       "      <td>Xqd0DzHaiyRqVH3WRG7hzg</td>\n",
       "      <td>dr goldberg offers everything i look for in a ...</td>\n",
       "    </tr>\n",
       "    <tr>\n",
       "      <th>1</th>\n",
       "      <td>H1kH6QZV7Le4zqTRNxoZow</td>\n",
       "      <td>Unfortunately the frustration of being Dr Gold...</td>\n",
       "    </tr>\n",
       "    <tr>\n",
       "      <th>2</th>\n",
       "      <td>zvJCcrpm2yOZrxKffwGQLA</td>\n",
       "      <td>Dr Goldberg has been my doctor for years and I...</td>\n",
       "    </tr>\n",
       "    <tr>\n",
       "      <th>3</th>\n",
       "      <td>KBLW4wJA_fwoWmMhiHRVOA</td>\n",
       "      <td>Been going to Dr Goldberg for over  years I th...</td>\n",
       "    </tr>\n",
       "    <tr>\n",
       "      <th>4</th>\n",
       "      <td>zvJCcrpm2yOZrxKffwGQLA</td>\n",
       "      <td>Got a letter in the mail last week that said D...</td>\n",
       "    </tr>\n",
       "  </tbody>\n",
       "</table>\n",
       "</div>"
      ],
      "text/plain": [
       "                  user_id                                               text\n",
       "0  Xqd0DzHaiyRqVH3WRG7hzg  dr goldberg offers everything i look for in a ...\n",
       "1  H1kH6QZV7Le4zqTRNxoZow  Unfortunately the frustration of being Dr Gold...\n",
       "2  zvJCcrpm2yOZrxKffwGQLA  Dr Goldberg has been my doctor for years and I...\n",
       "3  KBLW4wJA_fwoWmMhiHRVOA  Been going to Dr Goldberg for over  years I th...\n",
       "4  zvJCcrpm2yOZrxKffwGQLA  Got a letter in the mail last week that said D..."
      ]
     },
     "execution_count": 34,
     "metadata": {},
     "output_type": "execute_result"
    }
   ],
   "source": [
    "userid_df.head()"
   ]
  },
  {
   "cell_type": "code",
   "execution_count": 35,
   "metadata": {
    "colab": {
     "base_uri": "https://localhost:8080/",
     "height": 203
    },
    "id": "cH8ACQNG5eJf",
    "outputId": "57d7de18-87e2-4957-dce1-2d6c34fe382b"
   },
   "outputs": [
    {
     "data": {
      "text/html": [
       "<div>\n",
       "<style scoped>\n",
       "    .dataframe tbody tr th:only-of-type {\n",
       "        vertical-align: middle;\n",
       "    }\n",
       "\n",
       "    .dataframe tbody tr th {\n",
       "        vertical-align: top;\n",
       "    }\n",
       "\n",
       "    .dataframe thead th {\n",
       "        text-align: right;\n",
       "    }\n",
       "</style>\n",
       "<table border=\"1\" class=\"dataframe\">\n",
       "  <thead>\n",
       "    <tr style=\"text-align: right;\">\n",
       "      <th></th>\n",
       "      <th>business_id</th>\n",
       "      <th>text</th>\n",
       "    </tr>\n",
       "  </thead>\n",
       "  <tbody>\n",
       "    <tr>\n",
       "      <th>0</th>\n",
       "      <td>vcNAWiLM4dR7D2nwwJ7nCA</td>\n",
       "      <td>dr goldberg offers everything i look for in a ...</td>\n",
       "    </tr>\n",
       "    <tr>\n",
       "      <th>1</th>\n",
       "      <td>vcNAWiLM4dR7D2nwwJ7nCA</td>\n",
       "      <td>Unfortunately the frustration of being Dr Gold...</td>\n",
       "    </tr>\n",
       "    <tr>\n",
       "      <th>2</th>\n",
       "      <td>vcNAWiLM4dR7D2nwwJ7nCA</td>\n",
       "      <td>Dr Goldberg has been my doctor for years and I...</td>\n",
       "    </tr>\n",
       "    <tr>\n",
       "      <th>3</th>\n",
       "      <td>vcNAWiLM4dR7D2nwwJ7nCA</td>\n",
       "      <td>Been going to Dr Goldberg for over  years I th...</td>\n",
       "    </tr>\n",
       "    <tr>\n",
       "      <th>4</th>\n",
       "      <td>vcNAWiLM4dR7D2nwwJ7nCA</td>\n",
       "      <td>Got a letter in the mail last week that said D...</td>\n",
       "    </tr>\n",
       "  </tbody>\n",
       "</table>\n",
       "</div>"
      ],
      "text/plain": [
       "              business_id                                               text\n",
       "0  vcNAWiLM4dR7D2nwwJ7nCA  dr goldberg offers everything i look for in a ...\n",
       "1  vcNAWiLM4dR7D2nwwJ7nCA  Unfortunately the frustration of being Dr Gold...\n",
       "2  vcNAWiLM4dR7D2nwwJ7nCA  Dr Goldberg has been my doctor for years and I...\n",
       "3  vcNAWiLM4dR7D2nwwJ7nCA  Been going to Dr Goldberg for over  years I th...\n",
       "4  vcNAWiLM4dR7D2nwwJ7nCA  Got a letter in the mail last week that said D..."
      ]
     },
     "execution_count": 35,
     "metadata": {},
     "output_type": "execute_result"
    }
   ],
   "source": [
    "business_df.head()"
   ]
  },
  {
   "cell_type": "code",
   "execution_count": 36,
   "metadata": {
    "colab": {
     "base_uri": "https://localhost:8080/"
    },
    "id": "1n-I4tPVpIFA",
    "outputId": "4029ce11-0781-4faf-a951-a7bdc9c9906c"
   },
   "outputs": [
    {
     "name": "stdout",
     "output_type": "stream",
     "text": [
      "(200000, 2) (200000, 2)\n"
     ]
    }
   ],
   "source": [
    "print(business_df.shape,userid_df.shape)"
   ]
  },
  {
   "cell_type": "markdown",
   "metadata": {
    "id": "GN9elBbfvGT-"
   },
   "source": [
    "## **Merging all duplicate reviews of the users**"
   ]
  },
  {
   "cell_type": "code",
   "execution_count": 37,
   "metadata": {
    "id": "Nph-JHRxpQBj"
   },
   "outputs": [],
   "source": [
    "userid_df = userid_df.groupby('user_id',as_index=False).agg({'text': ' '.join})"
   ]
  },
  {
   "cell_type": "code",
   "execution_count": 38,
   "metadata": {
    "id": "a99BsLM_A0Qz"
   },
   "outputs": [],
   "source": [
    "business_df = business_df.groupby('business_id',as_index=False).agg({'text': ' '.join})"
   ]
  },
  {
   "cell_type": "code",
   "execution_count": 39,
   "metadata": {
    "colab": {
     "base_uri": "https://localhost:8080/",
     "height": 203
    },
    "id": "LXRCBkLe1YRf",
    "outputId": "0821f11e-5848-427e-d92f-39d69b62e4ff"
   },
   "outputs": [
    {
     "data": {
      "text/html": [
       "<div>\n",
       "<style scoped>\n",
       "    .dataframe tbody tr th:only-of-type {\n",
       "        vertical-align: middle;\n",
       "    }\n",
       "\n",
       "    .dataframe tbody tr th {\n",
       "        vertical-align: top;\n",
       "    }\n",
       "\n",
       "    .dataframe thead th {\n",
       "        text-align: right;\n",
       "    }\n",
       "</style>\n",
       "<table border=\"1\" class=\"dataframe\">\n",
       "  <thead>\n",
       "    <tr style=\"text-align: right;\">\n",
       "      <th></th>\n",
       "      <th>business_id</th>\n",
       "      <th>text</th>\n",
       "    </tr>\n",
       "  </thead>\n",
       "  <tbody>\n",
       "    <tr>\n",
       "      <th>0</th>\n",
       "      <td>--XBxRlD92RaV6TyUnP8Ow</td>\n",
       "      <td>Yo their store is awesome  That dude Richard i...</td>\n",
       "    </tr>\n",
       "    <tr>\n",
       "      <th>1</th>\n",
       "      <td>--sSW-WY3vyASh_eVPGUAw</td>\n",
       "      <td>Worst BofA EVER  I will readily drive to the o...</td>\n",
       "    </tr>\n",
       "    <tr>\n",
       "      <th>2</th>\n",
       "      <td>-0HGqwlfw3I8nkJyMHxAsQ</td>\n",
       "      <td>Why  stars Its McDonalds thats why Its consist...</td>\n",
       "    </tr>\n",
       "    <tr>\n",
       "      <th>3</th>\n",
       "      <td>-0QBrNvhrPQCaeo7mTo0zQ</td>\n",
       "      <td>Best shrimp burros If it wasnt in the hood  ma...</td>\n",
       "    </tr>\n",
       "    <tr>\n",
       "      <th>4</th>\n",
       "      <td>-0bUDim5OGuv8R0Qqq6J4A</td>\n",
       "      <td>Stopped in for a Sunday Breakfast before a bas...</td>\n",
       "    </tr>\n",
       "  </tbody>\n",
       "</table>\n",
       "</div>"
      ],
      "text/plain": [
       "              business_id                                               text\n",
       "0  --XBxRlD92RaV6TyUnP8Ow  Yo their store is awesome  That dude Richard i...\n",
       "1  --sSW-WY3vyASh_eVPGUAw  Worst BofA EVER  I will readily drive to the o...\n",
       "2  -0HGqwlfw3I8nkJyMHxAsQ  Why  stars Its McDonalds thats why Its consist...\n",
       "3  -0QBrNvhrPQCaeo7mTo0zQ  Best shrimp burros If it wasnt in the hood  ma...\n",
       "4  -0bUDim5OGuv8R0Qqq6J4A  Stopped in for a Sunday Breakfast before a bas..."
      ]
     },
     "execution_count": 39,
     "metadata": {},
     "output_type": "execute_result"
    }
   ],
   "source": [
    "business_df.head()"
   ]
  },
  {
   "cell_type": "code",
   "execution_count": 40,
   "metadata": {
    "colab": {
     "base_uri": "https://localhost:8080/"
    },
    "id": "rIyzhaH5v6Nn",
    "outputId": "8f6aae7e-bdc3-4c80-bb81-b24095fe478f"
   },
   "outputs": [
    {
     "name": "stdout",
     "output_type": "stream",
     "text": [
      "(10164, 2) (74604, 2)\n"
     ]
    }
   ],
   "source": [
    "print(business_df.shape,userid_df.shape)"
   ]
  },
  {
   "cell_type": "markdown",
   "metadata": {
    "id": "rm8ITn-Zvc9a"
   },
   "source": [
    "## **Here we merged business_df and Bussiness_df to get names of restaurants bu business_id**"
   ]
  },
  {
   "cell_type": "code",
   "execution_count": 41,
   "metadata": {
    "id": "o_PobtyB1Q4z"
   },
   "outputs": [],
   "source": [
    "business_df = business_df.merge(Bussiness_df, on='business_id', how='right')"
   ]
  },
  {
   "cell_type": "code",
   "execution_count": 42,
   "metadata": {
    "colab": {
     "base_uri": "https://localhost:8080/",
     "height": 203
    },
    "id": "5B4kiKfIsCRY",
    "outputId": "7d117f10-fced-4d6d-a97b-23acaaa65586"
   },
   "outputs": [
    {
     "data": {
      "text/html": [
       "<div>\n",
       "<style scoped>\n",
       "    .dataframe tbody tr th:only-of-type {\n",
       "        vertical-align: middle;\n",
       "    }\n",
       "\n",
       "    .dataframe tbody tr th {\n",
       "        vertical-align: top;\n",
       "    }\n",
       "\n",
       "    .dataframe thead th {\n",
       "        text-align: right;\n",
       "    }\n",
       "</style>\n",
       "<table border=\"1\" class=\"dataframe\">\n",
       "  <thead>\n",
       "    <tr style=\"text-align: right;\">\n",
       "      <th></th>\n",
       "      <th>business_id</th>\n",
       "      <th>text</th>\n",
       "      <th>categories</th>\n",
       "      <th>name</th>\n",
       "      <th>review_count</th>\n",
       "      <th>state</th>\n",
       "      <th>stars</th>\n",
       "    </tr>\n",
       "  </thead>\n",
       "  <tbody>\n",
       "    <tr>\n",
       "      <th>0</th>\n",
       "      <td>vcNAWiLM4dR7D2nwwJ7nCA</td>\n",
       "      <td>dr goldberg offers everything i look for in a ...</td>\n",
       "      <td>Doctors;Health &amp; Medical</td>\n",
       "      <td>Eric Goldberg, MD</td>\n",
       "      <td>7</td>\n",
       "      <td>AZ</td>\n",
       "      <td>3.5</td>\n",
       "    </tr>\n",
       "    <tr>\n",
       "      <th>1</th>\n",
       "      <td>JwUE5GmEO-sH1FuwJgKBlQ</td>\n",
       "      <td>Pretty good dinner with a nice selection of fo...</td>\n",
       "      <td>Restaurants</td>\n",
       "      <td>Pine Cone Restaurant</td>\n",
       "      <td>26</td>\n",
       "      <td>WI</td>\n",
       "      <td>4.0</td>\n",
       "    </tr>\n",
       "    <tr>\n",
       "      <th>2</th>\n",
       "      <td>uGykseHzyS5xAMWoN6YUqA</td>\n",
       "      <td>A really lovely surprise on a rather horrific ...</td>\n",
       "      <td>American (Traditional);Restaurants</td>\n",
       "      <td>Deforest Family Restaurant</td>\n",
       "      <td>16</td>\n",
       "      <td>WI</td>\n",
       "      <td>4.0</td>\n",
       "    </tr>\n",
       "    <tr>\n",
       "      <th>3</th>\n",
       "      <td>LRKJF43s9-3jG9Lgx4zODg</td>\n",
       "      <td>Californians are all about the InNOut where yo...</td>\n",
       "      <td>Food;Ice Cream &amp; Frozen Yogurt;Fast Food;Resta...</td>\n",
       "      <td>Culver's</td>\n",
       "      <td>7</td>\n",
       "      <td>WI</td>\n",
       "      <td>4.5</td>\n",
       "    </tr>\n",
       "    <tr>\n",
       "      <th>4</th>\n",
       "      <td>RgDg-k9S5YD_BaxMckifkg</td>\n",
       "      <td>I really like both Chinese restaurants in town...</td>\n",
       "      <td>Chinese;Restaurants</td>\n",
       "      <td>Chang Jiang Chinese Kitchen</td>\n",
       "      <td>3</td>\n",
       "      <td>WI</td>\n",
       "      <td>4.0</td>\n",
       "    </tr>\n",
       "  </tbody>\n",
       "</table>\n",
       "</div>"
      ],
      "text/plain": [
       "              business_id                                               text  \\\n",
       "0  vcNAWiLM4dR7D2nwwJ7nCA  dr goldberg offers everything i look for in a ...   \n",
       "1  JwUE5GmEO-sH1FuwJgKBlQ  Pretty good dinner with a nice selection of fo...   \n",
       "2  uGykseHzyS5xAMWoN6YUqA  A really lovely surprise on a rather horrific ...   \n",
       "3  LRKJF43s9-3jG9Lgx4zODg  Californians are all about the InNOut where yo...   \n",
       "4  RgDg-k9S5YD_BaxMckifkg  I really like both Chinese restaurants in town...   \n",
       "\n",
       "                                          categories  \\\n",
       "0                           Doctors;Health & Medical   \n",
       "1                                        Restaurants   \n",
       "2                 American (Traditional);Restaurants   \n",
       "3  Food;Ice Cream & Frozen Yogurt;Fast Food;Resta...   \n",
       "4                                Chinese;Restaurants   \n",
       "\n",
       "                          name  review_count state  stars  \n",
       "0            Eric Goldberg, MD             7    AZ    3.5  \n",
       "1         Pine Cone Restaurant            26    WI    4.0  \n",
       "2   Deforest Family Restaurant            16    WI    4.0  \n",
       "3                     Culver's             7    WI    4.5  \n",
       "4  Chang Jiang Chinese Kitchen             3    WI    4.0  "
      ]
     },
     "execution_count": 42,
     "metadata": {},
     "output_type": "execute_result"
    }
   ],
   "source": [
    "business_df.head()"
   ]
  },
  {
   "cell_type": "code",
   "execution_count": 43,
   "metadata": {
    "id": "76emLa6rNo7z"
   },
   "outputs": [],
   "source": [
    "business_df.dropna(inplace=True)"
   ]
  },
  {
   "cell_type": "code",
   "execution_count": 44,
   "metadata": {
    "colab": {
     "base_uri": "https://localhost:8080/"
    },
    "id": "4KBdLi3sN5tZ",
    "outputId": "6a0a87b8-b011-43fe-e48b-d705e8dc4cdd"
   },
   "outputs": [
    {
     "data": {
      "text/plain": [
       "(9910, 7)"
      ]
     },
     "execution_count": 44,
     "metadata": {},
     "output_type": "execute_result"
    }
   ],
   "source": [
    "business_df.shape"
   ]
  },
  {
   "cell_type": "markdown",
   "metadata": {
    "id": "y-s9wKqG9e-9"
   },
   "source": [
    "## **Removed review_count column because it is not needed**"
   ]
  },
  {
   "cell_type": "code",
   "execution_count": 45,
   "metadata": {
    "id": "nklO2Se0N_vB"
   },
   "outputs": [],
   "source": [
    "\n",
    "del business_df['review_count']"
   ]
  },
  {
   "cell_type": "code",
   "execution_count": 46,
   "metadata": {
    "colab": {
     "base_uri": "https://localhost:8080/",
     "height": 203
    },
    "id": "PtmlSPXfPeKn",
    "outputId": "fda2b120-3356-4c2a-a1d8-d33e5be6c335"
   },
   "outputs": [
    {
     "data": {
      "text/html": [
       "<div>\n",
       "<style scoped>\n",
       "    .dataframe tbody tr th:only-of-type {\n",
       "        vertical-align: middle;\n",
       "    }\n",
       "\n",
       "    .dataframe tbody tr th {\n",
       "        vertical-align: top;\n",
       "    }\n",
       "\n",
       "    .dataframe thead th {\n",
       "        text-align: right;\n",
       "    }\n",
       "</style>\n",
       "<table border=\"1\" class=\"dataframe\">\n",
       "  <thead>\n",
       "    <tr style=\"text-align: right;\">\n",
       "      <th></th>\n",
       "      <th>business_id</th>\n",
       "      <th>text</th>\n",
       "      <th>categories</th>\n",
       "      <th>name</th>\n",
       "      <th>state</th>\n",
       "      <th>stars</th>\n",
       "    </tr>\n",
       "  </thead>\n",
       "  <tbody>\n",
       "    <tr>\n",
       "      <th>0</th>\n",
       "      <td>vcNAWiLM4dR7D2nwwJ7nCA</td>\n",
       "      <td>dr goldberg offers everything i look for in a ...</td>\n",
       "      <td>Doctors;Health &amp; Medical</td>\n",
       "      <td>Eric Goldberg, MD</td>\n",
       "      <td>AZ</td>\n",
       "      <td>3.5</td>\n",
       "    </tr>\n",
       "    <tr>\n",
       "      <th>1</th>\n",
       "      <td>JwUE5GmEO-sH1FuwJgKBlQ</td>\n",
       "      <td>Pretty good dinner with a nice selection of fo...</td>\n",
       "      <td>Restaurants</td>\n",
       "      <td>Pine Cone Restaurant</td>\n",
       "      <td>WI</td>\n",
       "      <td>4.0</td>\n",
       "    </tr>\n",
       "    <tr>\n",
       "      <th>2</th>\n",
       "      <td>uGykseHzyS5xAMWoN6YUqA</td>\n",
       "      <td>A really lovely surprise on a rather horrific ...</td>\n",
       "      <td>American (Traditional);Restaurants</td>\n",
       "      <td>Deforest Family Restaurant</td>\n",
       "      <td>WI</td>\n",
       "      <td>4.0</td>\n",
       "    </tr>\n",
       "    <tr>\n",
       "      <th>3</th>\n",
       "      <td>LRKJF43s9-3jG9Lgx4zODg</td>\n",
       "      <td>Californians are all about the InNOut where yo...</td>\n",
       "      <td>Food;Ice Cream &amp; Frozen Yogurt;Fast Food;Resta...</td>\n",
       "      <td>Culver's</td>\n",
       "      <td>WI</td>\n",
       "      <td>4.5</td>\n",
       "    </tr>\n",
       "    <tr>\n",
       "      <th>4</th>\n",
       "      <td>RgDg-k9S5YD_BaxMckifkg</td>\n",
       "      <td>I really like both Chinese restaurants in town...</td>\n",
       "      <td>Chinese;Restaurants</td>\n",
       "      <td>Chang Jiang Chinese Kitchen</td>\n",
       "      <td>WI</td>\n",
       "      <td>4.0</td>\n",
       "    </tr>\n",
       "  </tbody>\n",
       "</table>\n",
       "</div>"
      ],
      "text/plain": [
       "              business_id                                               text  \\\n",
       "0  vcNAWiLM4dR7D2nwwJ7nCA  dr goldberg offers everything i look for in a ...   \n",
       "1  JwUE5GmEO-sH1FuwJgKBlQ  Pretty good dinner with a nice selection of fo...   \n",
       "2  uGykseHzyS5xAMWoN6YUqA  A really lovely surprise on a rather horrific ...   \n",
       "3  LRKJF43s9-3jG9Lgx4zODg  Californians are all about the InNOut where yo...   \n",
       "4  RgDg-k9S5YD_BaxMckifkg  I really like both Chinese restaurants in town...   \n",
       "\n",
       "                                          categories  \\\n",
       "0                           Doctors;Health & Medical   \n",
       "1                                        Restaurants   \n",
       "2                 American (Traditional);Restaurants   \n",
       "3  Food;Ice Cream & Frozen Yogurt;Fast Food;Resta...   \n",
       "4                                Chinese;Restaurants   \n",
       "\n",
       "                          name state  stars  \n",
       "0            Eric Goldberg, MD    AZ    3.5  \n",
       "1         Pine Cone Restaurant    WI    4.0  \n",
       "2   Deforest Family Restaurant    WI    4.0  \n",
       "3                     Culver's    WI    4.5  \n",
       "4  Chang Jiang Chinese Kitchen    WI    4.0  "
      ]
     },
     "execution_count": 46,
     "metadata": {},
     "output_type": "execute_result"
    }
   ],
   "source": [
    "business_df.head()"
   ]
  },
  {
   "cell_type": "code",
   "execution_count": 47,
   "metadata": {
    "colab": {
     "base_uri": "https://localhost:8080/"
    },
    "id": "inByBjqKQ23K",
    "outputId": "e6158b9d-f2ec-4549-b2da-bbee3631eba5"
   },
   "outputs": [
    {
     "data": {
      "text/plain": [
       "<bound method Series.unique of 0                    Eric Goldberg, MD\n",
       "1                 Pine Cone Restaurant\n",
       "2           Deforest Family Restaurant\n",
       "3                             Culver's\n",
       "4          Chang Jiang Chinese Kitchen\n",
       "                     ...              \n",
       "10029    The California Hotel & Casino\n",
       "10030                      Gene's Auto\n",
       "10031                      Burger King\n",
       "10032                Best Muffler Shop\n",
       "10033                Uncle Joe's Pizza\n",
       "Name: name, Length: 9910, dtype: object>"
      ]
     },
     "execution_count": 47,
     "metadata": {},
     "output_type": "execute_result"
    }
   ],
   "source": [
    "business_df['name'].unique"
   ]
  },
  {
   "cell_type": "markdown",
   "metadata": {
    "id": "6nKurg6m9q1n"
   },
   "source": [
    "## **We used TfidfVectorizer to get the features and analyse them**"
   ]
  },
  {
   "cell_type": "markdown",
   "metadata": {
    "id": "HErChJC1zDjT"
   },
   "source": [
    "## **Model 1**"
   ]
  },
  {
   "cell_type": "code",
   "execution_count": 48,
   "metadata": {
    "id": "R59kL0LuYLKa"
   },
   "outputs": [],
   "source": [
    "from sklearn.feature_extraction.text import TfidfVectorizer\n",
    "from nltk.tokenize import WordPunctTokenizer"
   ]
  },
  {
   "cell_type": "code",
   "execution_count": 49,
   "metadata": {
    "colab": {
     "base_uri": "https://localhost:8080/"
    },
    "id": "Uvra570iaStw",
    "outputId": "742df33c-10f5-4b7c-a645-5efa8a7b33fe"
   },
   "outputs": [
    {
     "data": {
      "text/plain": [
       "(9910, 1000)"
      ]
     },
     "execution_count": 49,
     "metadata": {},
     "output_type": "execute_result"
    }
   ],
   "source": [
    "businessid_vectorizer = TfidfVectorizer(tokenizer = WordPunctTokenizer().tokenize, max_features=1000)\n",
    "businessid_vectors = businessid_vectorizer.fit_transform(business_df['text'])\n",
    "businessid_vectors.shape"
   ]
  },
  {
   "cell_type": "code",
   "execution_count": 50,
   "metadata": {
    "id": "dQmqZmMKanoc"
   },
   "outputs": [],
   "source": [
    "P = pd.DataFrame(businessid_vectors.toarray(), index=business_df['business_id'], columns=businessid_vectorizer.get_feature_names())"
   ]
  },
  {
   "cell_type": "code",
   "execution_count": 51,
   "metadata": {
    "colab": {
     "base_uri": "https://localhost:8080/",
     "height": 282
    },
    "id": "j0Cck9Lwbc7F",
    "outputId": "95b30252-15d8-4553-c494-5834e920f224"
   },
   "outputs": [
    {
     "data": {
      "text/html": [
       "<div>\n",
       "<style scoped>\n",
       "    .dataframe tbody tr th:only-of-type {\n",
       "        vertical-align: middle;\n",
       "    }\n",
       "\n",
       "    .dataframe tbody tr th {\n",
       "        vertical-align: top;\n",
       "    }\n",
       "\n",
       "    .dataframe thead th {\n",
       "        text-align: right;\n",
       "    }\n",
       "</style>\n",
       "<table border=\"1\" class=\"dataframe\">\n",
       "  <thead>\n",
       "    <tr style=\"text-align: right;\">\n",
       "      <th></th>\n",
       "      <th>a</th>\n",
       "      <th>able</th>\n",
       "      <th>about</th>\n",
       "      <th>above</th>\n",
       "      <th>absolutely</th>\n",
       "      <th>across</th>\n",
       "      <th>actually</th>\n",
       "      <th>add</th>\n",
       "      <th>added</th>\n",
       "      <th>after</th>\n",
       "      <th>...</th>\n",
       "      <th>yes</th>\n",
       "      <th>yet</th>\n",
       "      <th>you</th>\n",
       "      <th>youll</th>\n",
       "      <th>young</th>\n",
       "      <th>your</th>\n",
       "      <th>youre</th>\n",
       "      <th>yourself</th>\n",
       "      <th>yum</th>\n",
       "      <th>yummy</th>\n",
       "    </tr>\n",
       "    <tr>\n",
       "      <th>business_id</th>\n",
       "      <th></th>\n",
       "      <th></th>\n",
       "      <th></th>\n",
       "      <th></th>\n",
       "      <th></th>\n",
       "      <th></th>\n",
       "      <th></th>\n",
       "      <th></th>\n",
       "      <th></th>\n",
       "      <th></th>\n",
       "      <th></th>\n",
       "      <th></th>\n",
       "      <th></th>\n",
       "      <th></th>\n",
       "      <th></th>\n",
       "      <th></th>\n",
       "      <th></th>\n",
       "      <th></th>\n",
       "      <th></th>\n",
       "      <th></th>\n",
       "      <th></th>\n",
       "    </tr>\n",
       "  </thead>\n",
       "  <tbody>\n",
       "    <tr>\n",
       "      <th>vcNAWiLM4dR7D2nwwJ7nCA</th>\n",
       "      <td>0.192262</td>\n",
       "      <td>0.022352</td>\n",
       "      <td>0.065677</td>\n",
       "      <td>0.000000</td>\n",
       "      <td>0.000000</td>\n",
       "      <td>0.000000</td>\n",
       "      <td>0.039669</td>\n",
       "      <td>0.000000</td>\n",
       "      <td>0.000000</td>\n",
       "      <td>0.015161</td>\n",
       "      <td>...</td>\n",
       "      <td>0.000000</td>\n",
       "      <td>0.024108</td>\n",
       "      <td>0.161471</td>\n",
       "      <td>0.000000</td>\n",
       "      <td>0.000000</td>\n",
       "      <td>0.056039</td>\n",
       "      <td>0.000000</td>\n",
       "      <td>0.000000</td>\n",
       "      <td>0.0</td>\n",
       "      <td>0.0</td>\n",
       "    </tr>\n",
       "    <tr>\n",
       "      <th>JwUE5GmEO-sH1FuwJgKBlQ</th>\n",
       "      <td>0.236392</td>\n",
       "      <td>0.000000</td>\n",
       "      <td>0.027952</td>\n",
       "      <td>0.000000</td>\n",
       "      <td>0.031725</td>\n",
       "      <td>0.011212</td>\n",
       "      <td>0.000000</td>\n",
       "      <td>0.012071</td>\n",
       "      <td>0.013033</td>\n",
       "      <td>0.006453</td>\n",
       "      <td>...</td>\n",
       "      <td>0.000000</td>\n",
       "      <td>0.000000</td>\n",
       "      <td>0.058905</td>\n",
       "      <td>0.011248</td>\n",
       "      <td>0.012793</td>\n",
       "      <td>0.047701</td>\n",
       "      <td>0.008739</td>\n",
       "      <td>0.011914</td>\n",
       "      <td>0.0</td>\n",
       "      <td>0.0</td>\n",
       "    </tr>\n",
       "    <tr>\n",
       "      <th>uGykseHzyS5xAMWoN6YUqA</th>\n",
       "      <td>0.200829</td>\n",
       "      <td>0.000000</td>\n",
       "      <td>0.033678</td>\n",
       "      <td>0.000000</td>\n",
       "      <td>0.000000</td>\n",
       "      <td>0.000000</td>\n",
       "      <td>0.000000</td>\n",
       "      <td>0.000000</td>\n",
       "      <td>0.000000</td>\n",
       "      <td>0.025915</td>\n",
       "      <td>...</td>\n",
       "      <td>0.000000</td>\n",
       "      <td>0.000000</td>\n",
       "      <td>0.019714</td>\n",
       "      <td>0.000000</td>\n",
       "      <td>0.000000</td>\n",
       "      <td>0.011973</td>\n",
       "      <td>0.035098</td>\n",
       "      <td>0.000000</td>\n",
       "      <td>0.0</td>\n",
       "      <td>0.0</td>\n",
       "    </tr>\n",
       "    <tr>\n",
       "      <th>LRKJF43s9-3jG9Lgx4zODg</th>\n",
       "      <td>0.150509</td>\n",
       "      <td>0.000000</td>\n",
       "      <td>0.061696</td>\n",
       "      <td>0.000000</td>\n",
       "      <td>0.000000</td>\n",
       "      <td>0.000000</td>\n",
       "      <td>0.023291</td>\n",
       "      <td>0.066609</td>\n",
       "      <td>0.000000</td>\n",
       "      <td>0.000000</td>\n",
       "      <td>...</td>\n",
       "      <td>0.027675</td>\n",
       "      <td>0.000000</td>\n",
       "      <td>0.189607</td>\n",
       "      <td>0.031034</td>\n",
       "      <td>0.000000</td>\n",
       "      <td>0.032902</td>\n",
       "      <td>0.024112</td>\n",
       "      <td>0.000000</td>\n",
       "      <td>0.0</td>\n",
       "      <td>0.0</td>\n",
       "    </tr>\n",
       "    <tr>\n",
       "      <th>RgDg-k9S5YD_BaxMckifkg</th>\n",
       "      <td>0.000000</td>\n",
       "      <td>0.000000</td>\n",
       "      <td>0.000000</td>\n",
       "      <td>0.144569</td>\n",
       "      <td>0.000000</td>\n",
       "      <td>0.000000</td>\n",
       "      <td>0.000000</td>\n",
       "      <td>0.000000</td>\n",
       "      <td>0.000000</td>\n",
       "      <td>0.000000</td>\n",
       "      <td>...</td>\n",
       "      <td>0.000000</td>\n",
       "      <td>0.000000</td>\n",
       "      <td>0.059496</td>\n",
       "      <td>0.000000</td>\n",
       "      <td>0.000000</td>\n",
       "      <td>0.000000</td>\n",
       "      <td>0.000000</td>\n",
       "      <td>0.000000</td>\n",
       "      <td>0.0</td>\n",
       "      <td>0.0</td>\n",
       "    </tr>\n",
       "  </tbody>\n",
       "</table>\n",
       "<p>5 rows × 1000 columns</p>\n",
       "</div>"
      ],
      "text/plain": [
       "                               a      able     about     above  absolutely  \\\n",
       "business_id                                                                  \n",
       "vcNAWiLM4dR7D2nwwJ7nCA  0.192262  0.022352  0.065677  0.000000    0.000000   \n",
       "JwUE5GmEO-sH1FuwJgKBlQ  0.236392  0.000000  0.027952  0.000000    0.031725   \n",
       "uGykseHzyS5xAMWoN6YUqA  0.200829  0.000000  0.033678  0.000000    0.000000   \n",
       "LRKJF43s9-3jG9Lgx4zODg  0.150509  0.000000  0.061696  0.000000    0.000000   \n",
       "RgDg-k9S5YD_BaxMckifkg  0.000000  0.000000  0.000000  0.144569    0.000000   \n",
       "\n",
       "                          across  actually       add     added     after  ...  \\\n",
       "business_id                                                               ...   \n",
       "vcNAWiLM4dR7D2nwwJ7nCA  0.000000  0.039669  0.000000  0.000000  0.015161  ...   \n",
       "JwUE5GmEO-sH1FuwJgKBlQ  0.011212  0.000000  0.012071  0.013033  0.006453  ...   \n",
       "uGykseHzyS5xAMWoN6YUqA  0.000000  0.000000  0.000000  0.000000  0.025915  ...   \n",
       "LRKJF43s9-3jG9Lgx4zODg  0.000000  0.023291  0.066609  0.000000  0.000000  ...   \n",
       "RgDg-k9S5YD_BaxMckifkg  0.000000  0.000000  0.000000  0.000000  0.000000  ...   \n",
       "\n",
       "                             yes       yet       you     youll     young  \\\n",
       "business_id                                                                \n",
       "vcNAWiLM4dR7D2nwwJ7nCA  0.000000  0.024108  0.161471  0.000000  0.000000   \n",
       "JwUE5GmEO-sH1FuwJgKBlQ  0.000000  0.000000  0.058905  0.011248  0.012793   \n",
       "uGykseHzyS5xAMWoN6YUqA  0.000000  0.000000  0.019714  0.000000  0.000000   \n",
       "LRKJF43s9-3jG9Lgx4zODg  0.027675  0.000000  0.189607  0.031034  0.000000   \n",
       "RgDg-k9S5YD_BaxMckifkg  0.000000  0.000000  0.059496  0.000000  0.000000   \n",
       "\n",
       "                            your     youre  yourself  yum  yummy  \n",
       "business_id                                                       \n",
       "vcNAWiLM4dR7D2nwwJ7nCA  0.056039  0.000000  0.000000  0.0    0.0  \n",
       "JwUE5GmEO-sH1FuwJgKBlQ  0.047701  0.008739  0.011914  0.0    0.0  \n",
       "uGykseHzyS5xAMWoN6YUqA  0.011973  0.035098  0.000000  0.0    0.0  \n",
       "LRKJF43s9-3jG9Lgx4zODg  0.032902  0.024112  0.000000  0.0    0.0  \n",
       "RgDg-k9S5YD_BaxMckifkg  0.000000  0.000000  0.000000  0.0    0.0  \n",
       "\n",
       "[5 rows x 1000 columns]"
      ]
     },
     "execution_count": 51,
     "metadata": {},
     "output_type": "execute_result"
    }
   ],
   "source": [
    "P.head()"
   ]
  },
  {
   "cell_type": "markdown",
   "metadata": {
    "id": "DV8nrPb7wtOt"
   },
   "source": [
    "## **As we tired to use collaborative filtering due to Ram and huge size of data we used content based filtering**"
   ]
  },
  {
   "cell_type": "markdown",
   "metadata": {
    "id": "IMRPW1dLSa5Q"
   },
   "source": [
    "## **Content Based Filtering**"
   ]
  },
  {
   "cell_type": "markdown",
   "metadata": {
    "id": "JQmStuX9GHHw"
   },
   "source": [
    "## **Restaurant Recommendation for old users using Vader Lexicon sentiment analysis**"
   ]
  },
  {
   "cell_type": "markdown",
   "metadata": {
    "id": "43OHWZmHzHny"
   },
   "source": [
    "## **Model 2**"
   ]
  },
  {
   "cell_type": "code",
   "execution_count": 52,
   "metadata": {
    "id": "HEw_G-RoaWRO"
   },
   "outputs": [
    {
     "name": "stderr",
     "output_type": "stream",
     "text": [
      "[nltk_data] Downloading package vader_lexicon to\n",
      "[nltk_data]     C:\\Users\\HP\\AppData\\Roaming\\nltk_data...\n"
     ]
    },
    {
     "data": {
      "text/plain": [
       "True"
      ]
     },
     "execution_count": 52,
     "metadata": {},
     "output_type": "execute_result"
    }
   ],
   "source": [
    "import nltk\n",
    "nltk.download('vader_lexicon')"
   ]
  },
  {
   "cell_type": "code",
   "execution_count": 53,
   "metadata": {
    "id": "9yiLrXwcag2K"
   },
   "outputs": [],
   "source": [
    "from nltk.sentiment.vader import SentimentIntensityAnalyzer"
   ]
  },
  {
   "cell_type": "code",
   "execution_count": 54,
   "metadata": {
    "id": "1iPLfEcEaryX"
   },
   "outputs": [],
   "source": [
    "sentiment = SentimentIntensityAnalyzer()"
   ]
  },
  {
   "cell_type": "markdown",
   "metadata": {
    "id": "W5XdS7zzxJK6"
   },
   "source": [
    "## For Old or already existing users they can enter the restaurant they wanted to visit our model will recommand the similar restaurants using the score the model generates for every restaurants (stars given by users + compound_score * positive_score) "
   ]
  },
  {
   "cell_type": "code",
   "execution_count": 66,
   "metadata": {
    "colab": {
     "base_uri": "https://localhost:8080/"
    },
    "id": "o_zV4mSZbZdJ",
    "outputId": "b0a1e927-7880-4cc5-8ef9-32380a9197c8"
   },
   "outputs": [
    {
     "name": "stdout",
     "output_type": "stream",
     "text": [
      "Pine Cone Restaurant\n",
      " \n",
      "\u001b[1mHarmony Bar & Grill\u001b[0m\n",
      "Dive Bars;Bars;American (Traditional);Nightlife;Restaurants\n",
      "State :WI   Stars :4.0\n",
      "----------------------------------------------------------------------------------------------------\n",
      " \n",
      "\u001b[1mTruesdell Animal Care Hospital & Clinic\u001b[0m\n",
      "Pet Groomers;Pet Services;Veterinarians;Pets\n",
      "State :WI   Stars :4.0\n",
      "----------------------------------------------------------------------------------------------------\n",
      " \n",
      "\u001b[1mPizza Heaven Bistro\u001b[0m\n",
      "Italian;Pizza;Restaurants\n",
      "State :AZ   Stars :4.0\n",
      "----------------------------------------------------------------------------------------------------\n",
      " \n",
      "\u001b[1mSmart & Final\u001b[0m\n",
      "Food;Grocery\n",
      "State :AZ   Stars :4.0\n",
      "----------------------------------------------------------------------------------------------------\n",
      " \n",
      "\u001b[1mBaja Fresh Mexican Grill\u001b[0m\n",
      "Mexican;Restaurants\n",
      "State :AZ   Stars :4.0\n",
      "----------------------------------------------------------------------------------------------------\n",
      " \n",
      "\u001b[1mRubio's Fresh Mexican Grill\u001b[0m\n",
      "Mexican;Restaurants\n",
      "State :AZ   Stars :4.0\n",
      "----------------------------------------------------------------------------------------------------\n",
      " \n",
      "\u001b[1mSmart Automotive Repair\u001b[0m\n",
      "Auto Repair;Automotive\n",
      "State :AZ   Stars :4.0\n",
      "----------------------------------------------------------------------------------------------------\n",
      " \n",
      "\u001b[1mFirestone Complete Auto Care\u001b[0m\n",
      "Tires;Automotive;Auto Repair;Oil Change Stations\n",
      "State :AZ   Stars :4.0\n",
      "----------------------------------------------------------------------------------------------------\n",
      " \n",
      "\u001b[1mFirestone Complete Auto Care\u001b[0m\n",
      "Tires;Automotive;Auto Repair;Oil Change Stations\n",
      "State :AZ   Stars :4.0\n",
      "----------------------------------------------------------------------------------------------------\n",
      " \n",
      "\u001b[1mParadise Valley Eye Care\u001b[0m\n",
      "Shopping;Optometrists;Health & Medical;Eyewear & Opticians\n",
      "State :AZ   Stars :3.5\n",
      "----------------------------------------------------------------------------------------------------\n"
     ]
    }
   ],
   "source": [
    "Res = input()\n",
    "k1 = business_df.loc[business_df['name']==Res].text.values\n",
    "k2 = business_df.loc[business_df['name']==Res].stars.values\n",
    "k2 = float(k2[0])\n",
    "score= sentiment.polarity_scores(k1[0])\n",
    "sc = k2+score['compound']*score['pos']\n",
    "m=0\n",
    "for i in range(len(business_df)):\n",
    "    k1 = business_df.iloc[i,3]\n",
    "    k2 = business_df.iloc[i,5]\n",
    "    score= sentiment.polarity_scores(k1)\n",
    "    ko = k2+score['compound']*score['pos']\n",
    "    if abs(sc-ko)<=0.1:\n",
    "        if m<10:\n",
    "            print(\" \")\n",
    "            print('\\033[1m'+str(business_df.iloc[i,3])+'\\033[0m')\n",
    "            print(business_df.iloc[i,2])\n",
    "            print('State :'+str(business_df.iloc[i,4])+\"   \"+'Stars :'+str(business_df.iloc[i,5]))\n",
    "            print('-'*100)\n",
    "            m = m+1\n",
    "        else:\n",
    "            break"
   ]
  },
  {
   "cell_type": "markdown",
   "metadata": {
    "id": "4C-RghAuGQDY"
   },
   "source": [
    "## **Restaurants Recommendations for new users using Bert model and semantic similarity**"
   ]
  },
  {
   "cell_type": "markdown",
   "metadata": {
    "id": "WFsqySTTzLS8"
   },
   "source": [
    "## **Model 3**"
   ]
  },
  {
   "cell_type": "code",
   "execution_count": 58,
   "metadata": {
    "id": "aFk0Dew7ty_-"
   },
   "outputs": [],
   "source": [
    "model_name = 'bert-base-nli-mean-tokens'"
   ]
  },
  {
   "cell_type": "code",
   "execution_count": 59,
   "metadata": {
    "id": "qBUyB4Mrty9h"
   },
   "outputs": [
    {
     "name": "stdout",
     "output_type": "stream",
     "text": [
      "Collecting sentence-transformers\n",
      "  Downloading sentence-transformers-2.1.0.tar.gz (78 kB)\n",
      "Collecting transformers<5.0.0,>=4.6.0\n",
      "  Downloading transformers-4.15.0-py3-none-any.whl (3.4 MB)\n",
      "Collecting tokenizers>=0.10.3\n",
      "  Downloading tokenizers-0.11.1-cp39-cp39-win_amd64.whl (3.3 MB)\n",
      "Requirement already satisfied: tqdm in c:\\users\\hp\\anaconda3\\lib\\site-packages (from sentence-transformers) (4.62.3)\n",
      "Collecting torch>=1.6.0\n",
      "  Downloading torch-1.10.1-cp39-cp39-win_amd64.whl (226.5 MB)\n",
      "Collecting torchvision\n",
      "  Downloading torchvision-0.11.2-cp39-cp39-win_amd64.whl (985 kB)\n",
      "Requirement already satisfied: numpy in c:\\users\\hp\\anaconda3\\lib\\site-packages (from sentence-transformers) (1.20.3)\n",
      "Requirement already satisfied: scikit-learn in c:\\users\\hp\\anaconda3\\lib\\site-packages (from sentence-transformers) (0.24.2)\n",
      "Requirement already satisfied: scipy in c:\\users\\hp\\anaconda3\\lib\\site-packages (from sentence-transformers) (1.7.1)\n",
      "Requirement already satisfied: nltk in c:\\users\\hp\\anaconda3\\lib\\site-packages (from sentence-transformers) (3.6.5)\n",
      "Collecting sentencepiece\n",
      "  Downloading sentencepiece-0.1.96-cp39-cp39-win_amd64.whl (1.1 MB)\n",
      "Collecting huggingface-hub\n",
      "  Downloading huggingface_hub-0.2.1-py3-none-any.whl (61 kB)\n",
      "Requirement already satisfied: typing-extensions in c:\\users\\hp\\anaconda3\\lib\\site-packages (from torch>=1.6.0->sentence-transformers) (3.10.0.2)\n",
      "Collecting tokenizers>=0.10.3\n",
      "  Downloading tokenizers-0.10.3-cp39-cp39-win_amd64.whl (2.0 MB)\n",
      "Requirement already satisfied: packaging>=20.0 in c:\\users\\hp\\anaconda3\\lib\\site-packages (from transformers<5.0.0,>=4.6.0->sentence-transformers) (21.0)\n",
      "Requirement already satisfied: pyyaml>=5.1 in c:\\users\\hp\\anaconda3\\lib\\site-packages (from transformers<5.0.0,>=4.6.0->sentence-transformers) (6.0)\n",
      "Requirement already satisfied: filelock in c:\\users\\hp\\anaconda3\\lib\\site-packages (from transformers<5.0.0,>=4.6.0->sentence-transformers) (3.3.1)\n",
      "Requirement already satisfied: regex!=2019.12.17 in c:\\users\\hp\\anaconda3\\lib\\site-packages (from transformers<5.0.0,>=4.6.0->sentence-transformers) (2021.8.3)\n",
      "Requirement already satisfied: requests in c:\\users\\hp\\anaconda3\\lib\\site-packages (from transformers<5.0.0,>=4.6.0->sentence-transformers) (2.26.0)\n",
      "Collecting sacremoses\n",
      "  Downloading sacremoses-0.0.46-py3-none-any.whl (895 kB)\n",
      "Requirement already satisfied: pyparsing>=2.0.2 in c:\\users\\hp\\anaconda3\\lib\\site-packages (from packaging>=20.0->transformers<5.0.0,>=4.6.0->sentence-transformers) (3.0.4)\n",
      "Requirement already satisfied: colorama in c:\\users\\hp\\anaconda3\\lib\\site-packages (from tqdm->sentence-transformers) (0.4.4)\n",
      "Requirement already satisfied: click in c:\\users\\hp\\anaconda3\\lib\\site-packages (from nltk->sentence-transformers) (8.0.3)\n",
      "Requirement already satisfied: joblib in c:\\users\\hp\\anaconda3\\lib\\site-packages (from nltk->sentence-transformers) (1.1.0)\n",
      "Requirement already satisfied: idna<4,>=2.5 in c:\\users\\hp\\anaconda3\\lib\\site-packages (from requests->transformers<5.0.0,>=4.6.0->sentence-transformers) (3.2)\n",
      "Requirement already satisfied: charset-normalizer~=2.0.0 in c:\\users\\hp\\anaconda3\\lib\\site-packages (from requests->transformers<5.0.0,>=4.6.0->sentence-transformers) (2.0.4)\n",
      "Requirement already satisfied: urllib3<1.27,>=1.21.1 in c:\\users\\hp\\anaconda3\\lib\\site-packages (from requests->transformers<5.0.0,>=4.6.0->sentence-transformers) (1.26.7)\n",
      "Requirement already satisfied: certifi>=2017.4.17 in c:\\users\\hp\\anaconda3\\lib\\site-packages (from requests->transformers<5.0.0,>=4.6.0->sentence-transformers) (2021.10.8)\n",
      "Requirement already satisfied: six in c:\\users\\hp\\anaconda3\\lib\\site-packages (from sacremoses->transformers<5.0.0,>=4.6.0->sentence-transformers) (1.16.0)\n",
      "Requirement already satisfied: threadpoolctl>=2.0.0 in c:\\users\\hp\\anaconda3\\lib\\site-packages (from scikit-learn->sentence-transformers) (2.2.0)\n",
      "Requirement already satisfied: pillow!=8.3.0,>=5.3.0 in c:\\users\\hp\\anaconda3\\lib\\site-packages (from torchvision->sentence-transformers) (8.4.0)\n",
      "Building wheels for collected packages: sentence-transformers\n",
      "  Building wheel for sentence-transformers (setup.py): started\n",
      "  Building wheel for sentence-transformers (setup.py): finished with status 'done'\n",
      "  Created wheel for sentence-transformers: filename=sentence_transformers-2.1.0-py3-none-any.whl size=121000 sha256=343399a4c5a48a9ffbe91cae4bd87c925eb637c1b59ffe2c93110d10f66fd422\n",
      "  Stored in directory: c:\\users\\hp\\appdata\\local\\pip\\cache\\wheels\\17\\1d\\fd\\a16123b417c527e0452c3e10ae5139cd2ab2f6fee93e892441\n",
      "Successfully built sentence-transformers\n",
      "Installing collected packages: torch, tokenizers, sacremoses, huggingface-hub, transformers, torchvision, sentencepiece, sentence-transformers\n",
      "Successfully installed huggingface-hub-0.2.1 sacremoses-0.0.46 sentence-transformers-2.1.0 sentencepiece-0.1.96 tokenizers-0.10.3 torch-1.10.1 torchvision-0.11.2 transformers-4.15.0\n",
      "Note: you may need to restart the kernel to use updated packages.\n"
     ]
    }
   ],
   "source": [
    "pip install sentence-transformers"
   ]
  },
  {
   "cell_type": "code",
   "execution_count": 60,
   "metadata": {
    "id": "RKkuAPIdty5w"
   },
   "outputs": [],
   "source": [
    "from sentence_transformers import SentenceTransformer"
   ]
  },
  {
   "cell_type": "code",
   "execution_count": 61,
   "metadata": {
    "id": "-O80OdBnt9qv"
   },
   "outputs": [
    {
     "data": {
      "application/vnd.jupyter.widget-view+json": {
       "model_id": "487023a61ae34d3f8ee81b3343b40752",
       "version_major": 2,
       "version_minor": 0
      },
      "text/plain": [
       "Downloading:   0%|          | 0.00/391 [00:00<?, ?B/s]"
      ]
     },
     "metadata": {},
     "output_type": "display_data"
    },
    {
     "data": {
      "application/vnd.jupyter.widget-view+json": {
       "model_id": "89e4d2876712497bbf091851d2352cde",
       "version_major": 2,
       "version_minor": 0
      },
      "text/plain": [
       "Downloading:   0%|          | 0.00/3.95k [00:00<?, ?B/s]"
      ]
     },
     "metadata": {},
     "output_type": "display_data"
    },
    {
     "data": {
      "application/vnd.jupyter.widget-view+json": {
       "model_id": "cad9558a8b494d39839fc233d2be0f44",
       "version_major": 2,
       "version_minor": 0
      },
      "text/plain": [
       "Downloading:   0%|          | 0.00/2.00 [00:00<?, ?B/s]"
      ]
     },
     "metadata": {},
     "output_type": "display_data"
    },
    {
     "data": {
      "application/vnd.jupyter.widget-view+json": {
       "model_id": "89f9fb0c6c554dd292bb6a0e35983973",
       "version_major": 2,
       "version_minor": 0
      },
      "text/plain": [
       "Downloading:   0%|          | 0.00/625 [00:00<?, ?B/s]"
      ]
     },
     "metadata": {},
     "output_type": "display_data"
    },
    {
     "data": {
      "application/vnd.jupyter.widget-view+json": {
       "model_id": "d88d9d06eede4081bdd1f5fabb7e84cb",
       "version_major": 2,
       "version_minor": 0
      },
      "text/plain": [
       "Downloading:   0%|          | 0.00/122 [00:00<?, ?B/s]"
      ]
     },
     "metadata": {},
     "output_type": "display_data"
    },
    {
     "data": {
      "application/vnd.jupyter.widget-view+json": {
       "model_id": "5808ab8e57dd4f36a63f5cf743531f8b",
       "version_major": 2,
       "version_minor": 0
      },
      "text/plain": [
       "Downloading:   0%|          | 0.00/229 [00:00<?, ?B/s]"
      ]
     },
     "metadata": {},
     "output_type": "display_data"
    },
    {
     "data": {
      "application/vnd.jupyter.widget-view+json": {
       "model_id": "d8fc27a56257405291994cec49c60548",
       "version_major": 2,
       "version_minor": 0
      },
      "text/plain": [
       "Downloading:   0%|          | 0.00/438M [00:00<?, ?B/s]"
      ]
     },
     "metadata": {},
     "output_type": "display_data"
    },
    {
     "data": {
      "application/vnd.jupyter.widget-view+json": {
       "model_id": "f1e2295e7db94eddb2fc41eea8de4326",
       "version_major": 2,
       "version_minor": 0
      },
      "text/plain": [
       "Downloading:   0%|          | 0.00/53.0 [00:00<?, ?B/s]"
      ]
     },
     "metadata": {},
     "output_type": "display_data"
    },
    {
     "data": {
      "application/vnd.jupyter.widget-view+json": {
       "model_id": "eb0dcc3b68424f66a66f513ccb61da68",
       "version_major": 2,
       "version_minor": 0
      },
      "text/plain": [
       "Downloading:   0%|          | 0.00/112 [00:00<?, ?B/s]"
      ]
     },
     "metadata": {},
     "output_type": "display_data"
    },
    {
     "data": {
      "application/vnd.jupyter.widget-view+json": {
       "model_id": "387f866423324fe88d4bf91039a40823",
       "version_major": 2,
       "version_minor": 0
      },
      "text/plain": [
       "Downloading:   0%|          | 0.00/466k [00:00<?, ?B/s]"
      ]
     },
     "metadata": {},
     "output_type": "display_data"
    },
    {
     "data": {
      "application/vnd.jupyter.widget-view+json": {
       "model_id": "bcd260cf58d2421f97452a2ae73ea398",
       "version_major": 2,
       "version_minor": 0
      },
      "text/plain": [
       "Downloading:   0%|          | 0.00/399 [00:00<?, ?B/s]"
      ]
     },
     "metadata": {},
     "output_type": "display_data"
    },
    {
     "data": {
      "application/vnd.jupyter.widget-view+json": {
       "model_id": "8e8fd655fa2b41228808509c8d3ba7f0",
       "version_major": 2,
       "version_minor": 0
      },
      "text/plain": [
       "Downloading:   0%|          | 0.00/232k [00:00<?, ?B/s]"
      ]
     },
     "metadata": {},
     "output_type": "display_data"
    },
    {
     "data": {
      "application/vnd.jupyter.widget-view+json": {
       "model_id": "389cc4c18b904575b900ec331cfc88e0",
       "version_major": 2,
       "version_minor": 0
      },
      "text/plain": [
       "Downloading:   0%|          | 0.00/190 [00:00<?, ?B/s]"
      ]
     },
     "metadata": {},
     "output_type": "display_data"
    }
   ],
   "source": [
    "model = SentenceTransformer(model_name)"
   ]
  },
  {
   "cell_type": "code",
   "execution_count": 62,
   "metadata": {
    "id": "0upYWwmluAU3"
   },
   "outputs": [],
   "source": [
    "from sklearn.metrics.pairwise import cosine_similarity"
   ]
  },
  {
   "cell_type": "markdown",
   "metadata": {
    "id": "pFma3ik0TTqe"
   },
   "source": [
    "## **Recommending restaurants to new users by entering the type of restaurants they wanted and according to semantic similarity generated using cosine similarity will recommend top 10 restaurants**"
   ]
  },
  {
   "cell_type": "code",
   "execution_count": 69,
   "metadata": {
    "colab": {
     "base_uri": "https://localhost:8080/"
    },
    "id": "884ojWWauGzh",
    "outputId": "93c1f423-4eec-486e-9f83-c83b495402eb"
   },
   "outputs": [
    {
     "name": "stdout",
     "output_type": "stream",
     "text": [
      "I want to have dinner with beautiful pools\n",
      "Wall time: 8min 30s\n"
     ]
    }
   ],
   "source": [
    "%%time\n",
    "df_text1 = input()\n",
    "m = 0\n",
    "l=list()\n",
    "for i in range(len(business_df)): \n",
    "    combine = []\n",
    "    combine.append(df_text1)\n",
    "    combine.append(business_df.iloc[i,1])\n",
    "    sen_vec = model.encode(combine)\n",
    "    arr = cosine_similarity([sen_vec[0]],[sen_vec[1]])\n",
    "    if arr[0][0]>=0.60:\n",
    "        if m<10:\n",
    "            #print(\" \")\n",
    "            #print('\\033[1m'+str(business_df.iloc[i,3])+'\\033[0m')\n",
    "            #print(business_df.iloc[i,2])\n",
    "             \n",
    "            #print('Stars :'+str(business_df.iloc[i,5])+\"   \"+'Statw :'+str(business_df.iloc[i,4]))\n",
    "            #print('-'*100)\n",
    "            \n",
    "            l.append([str(business_df.iloc[i,3]),business_df.iloc[i,2],str(business_df.iloc[i,5]),str(business_df.iloc[i,4])])\n",
    "            m = m+1\n",
    "        else:\n",
    "            break"
   ]
  },
  {
   "cell_type": "code",
   "execution_count": 70,
   "metadata": {
    "scrolled": true
   },
   "outputs": [
    {
     "name": "stdout",
     "output_type": "stream",
     "text": [
      "\u001b[1mPine Cone Restaurant\u001b[0m\n",
      "Restaurants\n",
      "Starts: 4.0\n",
      "State: WI\n",
      "----------------------------------------------------------------------------------------------------\n",
      "\u001b[1mThe Coffee Gallerie\u001b[0m\n",
      "Food;Coffee & Tea;Art Galleries;Shopping;Arts & Entertainment\n",
      "Starts: 3.0\n",
      "State: WI\n",
      "----------------------------------------------------------------------------------------------------\n",
      "\u001b[1mEsquire Club\u001b[0m\n",
      "Steakhouses;Restaurants\n",
      "Starts: 3.0\n",
      "State: WI\n",
      "----------------------------------------------------------------------------------------------------\n",
      "\u001b[1mTeeter House Tea Room\u001b[0m\n",
      "Food;Tea Rooms;Breakfast & Brunch;Sandwiches;Restaurants\n",
      "Starts: 3.0\n",
      "State: AZ\n",
      "----------------------------------------------------------------------------------------------------\n",
      "\u001b[1mTee Pee Tap Room\u001b[0m\n",
      "Mexican;Restaurants\n",
      "Starts: 2.5\n",
      "State: AZ\n",
      "----------------------------------------------------------------------------------------------------\n",
      "\u001b[1mArizona Baseball Club Restaurant\u001b[0m\n",
      "American (New);Restaurants\n",
      "Starts: 3.5\n",
      "State: AZ\n",
      "----------------------------------------------------------------------------------------------------\n",
      "\u001b[1mEliana's Restaurant\u001b[0m\n",
      "Latin American;Restaurants\n",
      "Starts: 4.0\n",
      "State: AZ\n",
      "----------------------------------------------------------------------------------------------------\n",
      "\u001b[1mPhoenix City Grille\u001b[0m\n",
      "American (New);Sandwiches;Salad;Restaurants\n",
      "Starts: 4.0\n",
      "State: AZ\n",
      "----------------------------------------------------------------------------------------------------\n",
      "\u001b[1mFish Market Restaurant\u001b[0m\n",
      "Seafood;Sushi Bars;Restaurants\n",
      "Starts: 3.5\n",
      "State: AZ\n",
      "----------------------------------------------------------------------------------------------------\n",
      "\u001b[1mL'amore\u001b[0m\n",
      "Restaurants;Italian\n",
      "Starts: 4.0\n",
      "State: AZ\n",
      "----------------------------------------------------------------------------------------------------\n"
     ]
    }
   ],
   "source": [
    "for i in l:\n",
    "    print('\\033[1m'+i[0]+'\\033[0m')\n",
    "    print(i[1])\n",
    "    print('Starts: '+i[2])\n",
    "    print('State: '+i[3])\n",
    "    print('-'*100)\n",
    "    "
   ]
  },
  {
   "cell_type": "code",
   "execution_count": null,
   "metadata": {},
   "outputs": [],
   "source": []
  }
 ],
 "metadata": {
  "colab": {
   "collapsed_sections": [],
   "name": "Machine_Learning_Proj.ipynb",
   "provenance": []
  },
  "kernelspec": {
   "display_name": "Python 3 (ipykernel)",
   "language": "python",
   "name": "python3"
  },
  "language_info": {
   "codemirror_mode": {
    "name": "ipython",
    "version": 3
   },
   "file_extension": ".py",
   "mimetype": "text/x-python",
   "name": "python",
   "nbconvert_exporter": "python",
   "pygments_lexer": "ipython3",
   "version": "3.9.7"
  }
 },
 "nbformat": 4,
 "nbformat_minor": 1
}
